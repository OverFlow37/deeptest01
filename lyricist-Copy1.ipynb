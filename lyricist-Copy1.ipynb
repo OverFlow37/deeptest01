{
 "cells": [
  {
   "cell_type": "code",
   "execution_count": 11,
   "id": "strong-playing",
   "metadata": {},
   "outputs": [
    {
     "name": "stdout",
     "output_type": "stream",
     "text": [
      "데이터 크기: 187088\n",
      "Examples:\n",
      " [' There must be some kind of way outta here', 'Said the joker to the thief', \"There's too much confusion\"]\n"
     ]
    }
   ],
   "source": [
    "import glob\n",
    "import os, re \n",
    "import numpy as np\n",
    "import tensorflow as tf\n",
    "\n",
    "txt_file_path = os.getenv('HOME')+'/aiffel/lyricist/data/lyrics/*'\n",
    "\n",
    "txt_list = glob.glob(txt_file_path)\n",
    "\n",
    "raw_corpus = []\n",
    "\n",
    "for txt_file in txt_list:\n",
    "    with open(txt_file, \"r\") as f:\n",
    "        raw = f.read().splitlines()\n",
    "        raw_corpus.extend(raw)\n",
    "\n",
    "print(\"데이터 크기:\", len(raw_corpus))\n",
    "print(\"Examples:\\n\", raw_corpus[:3])"
   ]
  },
  {
   "cell_type": "code",
   "execution_count": 12,
   "id": "recovered-circulation",
   "metadata": {},
   "outputs": [
    {
     "name": "stdout",
     "output_type": "stream",
     "text": [
      "[[  2  62 274 ...   0   0   0]\n",
      " [  2 115   6 ...   0   0   0]\n",
      " [  2  62  17 ...   0   0   0]\n",
      " ...\n",
      " [  2  75  46 ...   0   0   0]\n",
      " [  2  49   5 ...   0   0   0]\n",
      " [  2  13 642 ...   0   0   0]] <keras_preprocessing.text.Tokenizer object at 0x7fd0e1f32e10>\n"
     ]
    }
   ],
   "source": [
    "from sklearn.model_selection import train_test_split\n",
    "\n",
    "def preprocess_sentence(sentence):\n",
    "    sentence = sentence.lower().strip()\n",
    "    sentence = re.sub(r\"([?.!,¿])\", r\" \\1 \", sentence)\n",
    "    sentence = re.sub(r'[\" \"]+', \" \", sentence) \n",
    "    sentence = re.sub(r\"[^a-zA-Z?.!,¿]+\", \" \", sentence) \n",
    "    sentence = sentence.strip() \n",
    "    \n",
    "    word_count = len(sentence.split(\" \"))  # 15단어가 넘는 문장을 공백으로 변환\n",
    "    if word_count > 14 :\n",
    "        return \"\"\n",
    "    \n",
    "    sentence = '<start> ' + sentence + ' <end>'\n",
    "    return sentence\n",
    "\n",
    "corpus = []\n",
    "for sentence in raw_corpus:    \n",
    "    if len(sentence) == 0: continue # \n",
    "       \n",
    "    preprocessed_sentence = preprocess_sentence(sentence)\n",
    "    if len(preprocessed_sentence) == 0: continue # preprocess_sentence() 에서 공백으로 만들어준 단어들을 목록에 넣지 않고 continue 한다\n",
    "    corpus.append(preprocessed_sentence)\n",
    "\n",
    "def tokenize(corpus):\n",
    "    tokenizer = tf.keras.preprocessing.text.Tokenizer(\n",
    "        num_words=12000, \n",
    "        filters=' ',\n",
    "        oov_token=\"<unk>\"\n",
    "    )\n",
    "    tokenizer.fit_on_texts(corpus)\n",
    "    tensor = tokenizer.texts_to_sequences(corpus)   \n",
    "    tensor = tf.keras.preprocessing.sequence.pad_sequences(tensor, padding='post')  \n",
    "    \n",
    "    print(tensor,tokenizer)\n",
    "    return tensor, tokenizer\n",
    "\n",
    "tensor, tokenizer = tokenize(corpus)\n",
    "src_input = tensor[:, :-1]  \n",
    "tgt_input = tensor[:, 1:] \n",
    "enc_train, enc_val, dec_train, dec_val = train_test_split(src_input, tgt_input, test_size=0.20, random_state=33)"
   ]
  },
  {
   "cell_type": "code",
   "execution_count": 13,
   "id": "right-tanzania",
   "metadata": {},
   "outputs": [
    {
     "name": "stdout",
     "output_type": "stream",
     "text": [
      "Source Train: (128379, 15)\n",
      "[[   2   45   80   68   11   55   47    3    0    0    0    0    0    0\n",
      "     0]\n",
      " [   2    8   13  995   37   31  296 4001   18   11    3    0    0    0\n",
      "     0]\n",
      " [   2    9 2001   19 2263   17  500 1282   42  648    3    0    0    0\n",
      "     0]]\n",
      "Target Train: (128379, 15)\n"
     ]
    }
   ],
   "source": [
    "print(\"Source Train:\", enc_train.shape)\n",
    "print(enc_train[:3]) \n",
    "print(\"Target Train:\", dec_train.shape)"
   ]
  },
  {
   "cell_type": "markdown",
   "id": "local-desperate",
   "metadata": {},
   "source": [
    "데이터의 열 개수가 지나치게 크게 나오는 문제가 있었습니다, 이를 해결하기 위해 print(enc_train[:3])로 데이터의 예시를 확인해보았습니다."
   ]
  },
  {
   "cell_type": "code",
   "execution_count": 14,
   "id": "moved-giving",
   "metadata": {},
   "outputs": [
    {
     "data": {
      "text/plain": [
       "<BatchDataset shapes: ((256, 15), (256, 15)), types: (tf.int32, tf.int32)>"
      ]
     },
     "execution_count": 14,
     "metadata": {},
     "output_type": "execute_result"
    }
   ],
   "source": [
    "BUFFER_SIZE = len(src_input)\n",
    "BATCH_SIZE = 256\n",
    "steps_per_epoch = len(src_input) // BATCH_SIZE\n",
    "\n",
    "VOCAB_SIZE = tokenizer.num_words + 1   \n",
    "\n",
    "dataset = tf.data.Dataset.from_tensor_slices((src_input, tgt_input))\n",
    "dataset = dataset.shuffle(BUFFER_SIZE)\n",
    "dataset = dataset.batch(BATCH_SIZE, drop_remainder=True)\n",
    "dataset"
   ]
  },
  {
   "cell_type": "code",
   "execution_count": 15,
   "id": "nervous-engine",
   "metadata": {},
   "outputs": [
    {
     "name": "stdout",
     "output_type": "stream",
     "text": [
      "Epoch 1/10\n",
      "626/626 [==============================] - 214s 332ms/step - loss: 3.7541\n",
      "Epoch 2/10\n",
      "626/626 [==============================] - 209s 334ms/step - loss: 2.8744\n",
      "Epoch 3/10\n",
      "626/626 [==============================] - 210s 336ms/step - loss: 2.6835\n",
      "Epoch 4/10\n",
      "626/626 [==============================] - 211s 337ms/step - loss: 2.5404\n",
      "Epoch 5/10\n",
      "626/626 [==============================] - 207s 330ms/step - loss: 2.4324\n",
      "Epoch 6/10\n",
      "626/626 [==============================] - 203s 323ms/step - loss: 2.3342\n",
      "Epoch 7/10\n",
      "626/626 [==============================] - 202s 322ms/step - loss: 2.2511\n",
      "Epoch 8/10\n",
      "626/626 [==============================] - 201s 321ms/step - loss: 2.1649\n",
      "Epoch 9/10\n",
      "626/626 [==============================] - 202s 321ms/step - loss: 2.0856\n",
      "Epoch 10/10\n",
      "626/626 [==============================] - 202s 322ms/step - loss: 2.0066\n"
     ]
    },
    {
     "data": {
      "text/plain": [
       "<tensorflow.python.keras.callbacks.History at 0x7fd0ddeefb90>"
      ]
     },
     "execution_count": 15,
     "metadata": {},
     "output_type": "execute_result"
    }
   ],
   "source": [
    "class TextGenerator(tf.keras.Model):\n",
    "    def __init__(self, vocab_size, embedding_size, hidden_size):\n",
    "        super().__init__()\n",
    "        \n",
    "        self.embedding = tf.keras.layers.Embedding(vocab_size, embedding_size)\n",
    "        self.rnn_1 = tf.keras.layers.LSTM(hidden_size, return_sequences=True)\n",
    "        self.rnn_2 = tf.keras.layers.LSTM(hidden_size, return_sequences=True)\n",
    "        self.linear = tf.keras.layers.Dense(vocab_size)\n",
    "        \n",
    "    def call(self, x):\n",
    "        out = self.embedding(x)\n",
    "        out = self.rnn_1(out)\n",
    "        out = self.rnn_2(out)\n",
    "        out = self.linear(out)\n",
    "        \n",
    "        return out\n",
    "    \n",
    "embedding_size = 256\n",
    "hidden_size = 1024\n",
    "lyricist = TextGenerator(tokenizer.num_words + 1, embedding_size , hidden_size)\n",
    "\n",
    "optimizer = tf.keras.optimizers.Adam()\n",
    "loss = tf.keras.losses.SparseCategoricalCrossentropy(\n",
    "    from_logits=True,\n",
    "    reduction='none'\n",
    ")\n",
    "\n",
    "lyricist.compile(loss=loss, optimizer=optimizer)\n",
    "lyricist.fit(dataset, epochs=10)"
   ]
  },
  {
   "cell_type": "markdown",
   "id": "spread-jordan",
   "metadata": {},
   "source": [
    "학습과정에서 지나치게 시간이 오래 걸리는 현상이 발생하였고 이를 해결하기 위해 GPU의 작동을 확인하고 데이터의 의미없는 부분을 줄여보았습니다.\n",
    "최종적으로 토큰이 15개 이상인 문장들을 리스트에서 제거하고 모델의 epochs를 30 -> 10으로 줄인 결과 적절한 속도로 모델을 학습시킬 수 있었습니다. "
   ]
  },
  {
   "cell_type": "code",
   "execution_count": 16,
   "id": "serious-validity",
   "metadata": {},
   "outputs": [],
   "source": [
    "def generate_text(model, tokenizer, init_sentence=\"<start>\", max_len=20):\n",
    "    test_input = tokenizer.texts_to_sequences([init_sentence])\n",
    "    test_tensor = tf.convert_to_tensor(test_input, dtype=tf.int64)\n",
    "    end_token = tokenizer.word_index[\"<end>\"]\n",
    "\n",
    "    while True:\n",
    "        predict = model(test_tensor) \n",
    "        predict_word = tf.argmax(tf.nn.softmax(predict, axis=-1), axis=-1)[:, -1] \n",
    "        test_tensor = tf.concat([test_tensor, tf.expand_dims(predict_word, axis=0)], axis=-1)\n",
    "        if predict_word.numpy()[0] == end_token: break\n",
    "        if test_tensor.shape[1] >= max_len: break\n",
    "\n",
    "    generated = \"\"\n",
    "    for word_index in test_tensor[0].numpy():\n",
    "        generated += tokenizer.index_word[word_index] + \" \"\n",
    "\n",
    "    return generated"
   ]
  },
  {
   "cell_type": "code",
   "execution_count": 17,
   "id": "hairy-amount",
   "metadata": {},
   "outputs": [
    {
     "data": {
      "text/plain": [
       "'<start> i love you , i m not gonna crack <end> '"
      ]
     },
     "execution_count": 17,
     "metadata": {},
     "output_type": "execute_result"
    }
   ],
   "source": [
    "generate_text(lyricist, tokenizer, init_sentence=\"<start> i love\", max_len=20)"
   ]
  },
  {
   "cell_type": "code",
   "execution_count": 18,
   "id": "empirical-chuck",
   "metadata": {},
   "outputs": [
    {
     "data": {
      "text/plain": [
       "'<start> if i could turn back , <end> '"
      ]
     },
     "execution_count": 18,
     "metadata": {},
     "output_type": "execute_result"
    }
   ],
   "source": [
    "generate_text(lyricist, tokenizer, init_sentence=\"<start> if i \", max_len=20)"
   ]
  },
  {
   "cell_type": "code",
   "execution_count": 26,
   "id": "experimental-rendering",
   "metadata": {},
   "outputs": [
    {
     "data": {
      "text/plain": [
       "'<start> love you , love you <end> '"
      ]
     },
     "execution_count": 26,
     "metadata": {},
     "output_type": "execute_result"
    }
   ],
   "source": [
    "generate_text(lyricist, tokenizer, init_sentence=\"<start> love you\", max_len=20)"
   ]
  },
  {
   "cell_type": "code",
   "execution_count": 27,
   "id": "underlying-ghana",
   "metadata": {},
   "outputs": [
    {
     "data": {
      "text/plain": [
       "'<start> i believe in god , i m not gonna be <end> '"
      ]
     },
     "execution_count": 27,
     "metadata": {},
     "output_type": "execute_result"
    }
   ],
   "source": [
    "generate_text(lyricist, tokenizer, init_sentence=\"<start> i believe\", max_len=20)"
   ]
  },
  {
   "cell_type": "code",
   "execution_count": 28,
   "id": "signed-account",
   "metadata": {},
   "outputs": [
    {
     "data": {
      "text/plain": [
       "'<start> when i m in the club <end> '"
      ]
     },
     "execution_count": 28,
     "metadata": {},
     "output_type": "execute_result"
    }
   ],
   "source": [
    "generate_text(lyricist, tokenizer, init_sentence=\"<start> when i\", max_len=20)"
   ]
  },
  {
   "cell_type": "code",
   "execution_count": 32,
   "id": "caring-slovenia",
   "metadata": {},
   "outputs": [
    {
     "data": {
      "text/plain": [
       "'<start> dont worry about the way i feel like i m a flirt <end> '"
      ]
     },
     "execution_count": 32,
     "metadata": {},
     "output_type": "execute_result"
    }
   ],
   "source": [
    "generate_text(lyricist, tokenizer, init_sentence=\"<start> dont worry\", max_len=20)"
   ]
  },
  {
   "cell_type": "code",
   "execution_count": 35,
   "id": "fallen-operations",
   "metadata": {},
   "outputs": [
    {
     "data": {
      "text/plain": [
       "'<start> know that i m a motherfucking monster <end> '"
      ]
     },
     "execution_count": 35,
     "metadata": {},
     "output_type": "execute_result"
    }
   ],
   "source": [
    "generate_text(lyricist, tokenizer, init_sentence=\"<start> know that\", max_len=20)"
   ]
  },
  {
   "cell_type": "code",
   "execution_count": 49,
   "id": "progressive-issue",
   "metadata": {},
   "outputs": [
    {
     "data": {
      "text/plain": [
       "'<start> and in our time of love <end> '"
      ]
     },
     "execution_count": 49,
     "metadata": {},
     "output_type": "execute_result"
    }
   ],
   "source": [
    "generate_text(lyricist, tokenizer, init_sentence=\"<start> and in our time\", max_len=30)"
   ]
  },
  {
   "cell_type": "markdown",
   "id": "dried-parish",
   "metadata": {},
   "source": [
    "텍스트를 생성한 결과 제법 그럴싸한 가사가 생성되엇습니다.\n",
    "시작 문장을 다른 문장으로 바꿔보았을때에도 꽤 괜찮은 가사가 생성되는 것을 확인하였습니다."
   ]
  }
 ],
 "metadata": {
  "kernelspec": {
   "display_name": "Python 3",
   "language": "python",
   "name": "python3"
  },
  "language_info": {
   "codemirror_mode": {
    "name": "ipython",
    "version": 3
   },
   "file_extension": ".py",
   "mimetype": "text/x-python",
   "name": "python",
   "nbconvert_exporter": "python",
   "pygments_lexer": "ipython3",
   "version": "3.7.9"
  }
 },
 "nbformat": 4,
 "nbformat_minor": 5
}
