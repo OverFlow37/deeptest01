{
 "cells": [
  {
   "cell_type": "code",
   "execution_count": 1,
   "id": "induced-subsection",
   "metadata": {},
   "outputs": [
    {
     "data": {
      "text/html": [
       "<div>\n",
       "<style scoped>\n",
       "    .dataframe tbody tr th:only-of-type {\n",
       "        vertical-align: middle;\n",
       "    }\n",
       "\n",
       "    .dataframe tbody tr th {\n",
       "        vertical-align: top;\n",
       "    }\n",
       "\n",
       "    .dataframe thead th {\n",
       "        text-align: right;\n",
       "    }\n",
       "</style>\n",
       "<table border=\"1\" class=\"dataframe\">\n",
       "  <thead>\n",
       "    <tr style=\"text-align: right;\">\n",
       "      <th></th>\n",
       "      <th>user_id</th>\n",
       "      <th>movie_id</th>\n",
       "      <th>rating</th>\n",
       "      <th>timestamp</th>\n",
       "    </tr>\n",
       "  </thead>\n",
       "  <tbody>\n",
       "    <tr>\n",
       "      <th>0</th>\n",
       "      <td>1</td>\n",
       "      <td>1193</td>\n",
       "      <td>5</td>\n",
       "      <td>978300760</td>\n",
       "    </tr>\n",
       "    <tr>\n",
       "      <th>1</th>\n",
       "      <td>1</td>\n",
       "      <td>661</td>\n",
       "      <td>3</td>\n",
       "      <td>978302109</td>\n",
       "    </tr>\n",
       "    <tr>\n",
       "      <th>2</th>\n",
       "      <td>1</td>\n",
       "      <td>914</td>\n",
       "      <td>3</td>\n",
       "      <td>978301968</td>\n",
       "    </tr>\n",
       "    <tr>\n",
       "      <th>3</th>\n",
       "      <td>1</td>\n",
       "      <td>3408</td>\n",
       "      <td>4</td>\n",
       "      <td>978300275</td>\n",
       "    </tr>\n",
       "    <tr>\n",
       "      <th>4</th>\n",
       "      <td>1</td>\n",
       "      <td>2355</td>\n",
       "      <td>5</td>\n",
       "      <td>978824291</td>\n",
       "    </tr>\n",
       "  </tbody>\n",
       "</table>\n",
       "</div>"
      ],
      "text/plain": [
       "   user_id  movie_id  rating  timestamp\n",
       "0        1      1193       5  978300760\n",
       "1        1       661       3  978302109\n",
       "2        1       914       3  978301968\n",
       "3        1      3408       4  978300275\n",
       "4        1      2355       5  978824291"
      ]
     },
     "execution_count": 1,
     "metadata": {},
     "output_type": "execute_result"
    }
   ],
   "source": [
    "import os\n",
    "import pandas as pd\n",
    "\n",
    "rating_file_path=os.getenv('HOME') + '/aiffel/recommendata_iu/data/ml-1m/ratings.dat'\n",
    "ratings_cols = ['user_id', 'movie_id', 'rating', 'timestamp']\n",
    "ratings = pd.read_csv(rating_file_path, sep='::', names=ratings_cols, engine='python', encoding = \"ISO-8859-1\")\n",
    "orginal_data_size = len(ratings)\n",
    "ratings.head()"
   ]
  },
  {
   "cell_type": "code",
   "execution_count": 2,
   "id": "normal-clerk",
   "metadata": {},
   "outputs": [
    {
     "name": "stdout",
     "output_type": "stream",
     "text": [
      "orginal_data_size: 1000209, filtered_data_size: 836478\n",
      "Ratio of Remaining Data is 83.63%\n"
     ]
    }
   ],
   "source": [
    "# 3점 이상만 남깁니다.\n",
    "ratings = ratings[ratings['rating']>=3]\n",
    "filtered_data_size = len(ratings)\n",
    "\n",
    "print(f'orginal_data_size: {orginal_data_size}, filtered_data_size: {filtered_data_size}')\n",
    "print(f'Ratio of Remaining Data is {filtered_data_size / orginal_data_size:.2%}')"
   ]
  },
  {
   "cell_type": "code",
   "execution_count": 3,
   "id": "saving-insight",
   "metadata": {},
   "outputs": [
    {
     "data": {
      "text/plain": [
       "0          5\n",
       "1          3\n",
       "2          3\n",
       "3          4\n",
       "4          5\n",
       "          ..\n",
       "1000203    3\n",
       "1000205    5\n",
       "1000206    5\n",
       "1000207    4\n",
       "1000208    4\n",
       "Name: counts, Length: 836478, dtype: int64"
      ]
     },
     "execution_count": 3,
     "metadata": {},
     "output_type": "execute_result"
    }
   ],
   "source": [
    "# rating 컬럼의 이름을 count로 바꿉니다.\n",
    "ratings.rename(columns={'rating':'counts'}, inplace=True)\n",
    "ratings['counts']"
   ]
  },
  {
   "cell_type": "code",
   "execution_count": 4,
   "id": "ordered-times",
   "metadata": {},
   "outputs": [
    {
     "data": {
      "text/html": [
       "<div>\n",
       "<style scoped>\n",
       "    .dataframe tbody tr th:only-of-type {\n",
       "        vertical-align: middle;\n",
       "    }\n",
       "\n",
       "    .dataframe tbody tr th {\n",
       "        vertical-align: top;\n",
       "    }\n",
       "\n",
       "    .dataframe thead th {\n",
       "        text-align: right;\n",
       "    }\n",
       "</style>\n",
       "<table border=\"1\" class=\"dataframe\">\n",
       "  <thead>\n",
       "    <tr style=\"text-align: right;\">\n",
       "      <th></th>\n",
       "      <th>movie_id</th>\n",
       "      <th>title</th>\n",
       "      <th>genre</th>\n",
       "    </tr>\n",
       "  </thead>\n",
       "  <tbody>\n",
       "    <tr>\n",
       "      <th>0</th>\n",
       "      <td>1</td>\n",
       "      <td>Toy Story (1995)</td>\n",
       "      <td>Animation|Children's|Comedy</td>\n",
       "    </tr>\n",
       "    <tr>\n",
       "      <th>1</th>\n",
       "      <td>2</td>\n",
       "      <td>Jumanji (1995)</td>\n",
       "      <td>Adventure|Children's|Fantasy</td>\n",
       "    </tr>\n",
       "    <tr>\n",
       "      <th>2</th>\n",
       "      <td>3</td>\n",
       "      <td>Grumpier Old Men (1995)</td>\n",
       "      <td>Comedy|Romance</td>\n",
       "    </tr>\n",
       "    <tr>\n",
       "      <th>3</th>\n",
       "      <td>4</td>\n",
       "      <td>Waiting to Exhale (1995)</td>\n",
       "      <td>Comedy|Drama</td>\n",
       "    </tr>\n",
       "    <tr>\n",
       "      <th>4</th>\n",
       "      <td>5</td>\n",
       "      <td>Father of the Bride Part II (1995)</td>\n",
       "      <td>Comedy</td>\n",
       "    </tr>\n",
       "  </tbody>\n",
       "</table>\n",
       "</div>"
      ],
      "text/plain": [
       "   movie_id                               title                         genre\n",
       "0         1                    Toy Story (1995)   Animation|Children's|Comedy\n",
       "1         2                      Jumanji (1995)  Adventure|Children's|Fantasy\n",
       "2         3             Grumpier Old Men (1995)                Comedy|Romance\n",
       "3         4            Waiting to Exhale (1995)                  Comedy|Drama\n",
       "4         5  Father of the Bride Part II (1995)                        Comedy"
      ]
     },
     "execution_count": 4,
     "metadata": {},
     "output_type": "execute_result"
    }
   ],
   "source": [
    "# 영화 제목을 보기 위해 메타 데이터를 읽어옵니다.\n",
    "movie_file_path=os.getenv('HOME') + '/aiffel/recommendata_iu/data/ml-1m/movies.dat'\n",
    "cols = ['movie_id', 'title', 'genre'] \n",
    "movies = pd.read_csv(movie_file_path, sep='::', names=cols, engine='python', encoding='ISO-8859-1')\n",
    "movies.head()"
   ]
  },
  {
   "cell_type": "code",
   "execution_count": 5,
   "id": "second-robin",
   "metadata": {},
   "outputs": [
    {
     "name": "stdout",
     "output_type": "stream",
     "text": [
      "movies  id: 3883\n",
      "movies title : 3883\n",
      "movies genre: 301\n"
     ]
    }
   ],
   "source": [
    "print(\"movies  id:\",movies['movie_id'].nunique())\n",
    "print(\"movies title :\",movies['title'].nunique())\n",
    "print(\"movies genre:\",movies['genre'].nunique())"
   ]
  },
  {
   "cell_type": "code",
   "execution_count": 6,
   "id": "breeding-hammer",
   "metadata": {},
   "outputs": [
    {
     "name": "stdout",
     "output_type": "stream",
     "text": [
      "movies : 3628\n",
      "users : 6039\n"
     ]
    },
    {
     "data": {
      "text/plain": [
       "movie_id\n",
       "2858    3211\n",
       "260     2910\n",
       "1196    2885\n",
       "1210    2716\n",
       "2028    2561\n",
       "589     2509\n",
       "593     2498\n",
       "1198    2473\n",
       "1270    2460\n",
       "2571    2434\n",
       "480     2413\n",
       "2762    2385\n",
       "608     2371\n",
       "110     2314\n",
       "1580    2297\n",
       "527     2257\n",
       "1197    2252\n",
       "2396    2213\n",
       "1617    2210\n",
       "318     2194\n",
       "858     2167\n",
       "1265    2121\n",
       "1097    2102\n",
       "2997    2066\n",
       "2716    2051\n",
       "296     2030\n",
       "356     2022\n",
       "1240    2019\n",
       "1       2000\n",
       "457     1941\n",
       "Name: user_id, dtype: int64"
      ]
     },
     "execution_count": 6,
     "metadata": {},
     "output_type": "execute_result"
    }
   ],
   "source": [
    "print(\"movies :\",ratings['movie_id'].nunique())\n",
    "print(\"users :\",ratings['user_id'].nunique())\n",
    "ratings_count = ratings.groupby('movie_id')['user_id'].count()\n",
    "ratings_count_sorted = ratings_count.sort_values(ascending=False)\n",
    "ratings_count_sorted.head(30)"
   ]
  },
  {
   "cell_type": "code",
   "execution_count": 7,
   "id": "olympic-victim",
   "metadata": {},
   "outputs": [
    {
     "data": {
      "text/html": [
       "<div>\n",
       "<style scoped>\n",
       "    .dataframe tbody tr th:only-of-type {\n",
       "        vertical-align: middle;\n",
       "    }\n",
       "\n",
       "    .dataframe tbody tr th {\n",
       "        vertical-align: top;\n",
       "    }\n",
       "\n",
       "    .dataframe thead th {\n",
       "        text-align: right;\n",
       "    }\n",
       "</style>\n",
       "<table border=\"1\" class=\"dataframe\">\n",
       "  <thead>\n",
       "    <tr style=\"text-align: right;\">\n",
       "      <th></th>\n",
       "      <th>movie_id</th>\n",
       "      <th>ratings</th>\n",
       "      <th>title</th>\n",
       "      <th>genre</th>\n",
       "    </tr>\n",
       "  </thead>\n",
       "  <tbody>\n",
       "    <tr>\n",
       "      <th>0</th>\n",
       "      <td>2858</td>\n",
       "      <td>3211</td>\n",
       "      <td>American Beauty (1999)</td>\n",
       "      <td>Comedy|Drama</td>\n",
       "    </tr>\n",
       "    <tr>\n",
       "      <th>1</th>\n",
       "      <td>260</td>\n",
       "      <td>2910</td>\n",
       "      <td>Star Wars: Episode IV - A New Hope (1977)</td>\n",
       "      <td>Action|Adventure|Fantasy|Sci-Fi</td>\n",
       "    </tr>\n",
       "    <tr>\n",
       "      <th>2</th>\n",
       "      <td>1196</td>\n",
       "      <td>2885</td>\n",
       "      <td>Star Wars: Episode V - The Empire Strikes Back...</td>\n",
       "      <td>Action|Adventure|Drama|Sci-Fi|War</td>\n",
       "    </tr>\n",
       "    <tr>\n",
       "      <th>3</th>\n",
       "      <td>1210</td>\n",
       "      <td>2716</td>\n",
       "      <td>Star Wars: Episode VI - Return of the Jedi (1983)</td>\n",
       "      <td>Action|Adventure|Romance|Sci-Fi|War</td>\n",
       "    </tr>\n",
       "    <tr>\n",
       "      <th>4</th>\n",
       "      <td>2028</td>\n",
       "      <td>2561</td>\n",
       "      <td>Saving Private Ryan (1998)</td>\n",
       "      <td>Action|Drama|War</td>\n",
       "    </tr>\n",
       "    <tr>\n",
       "      <th>5</th>\n",
       "      <td>589</td>\n",
       "      <td>2509</td>\n",
       "      <td>Terminator 2: Judgment Day (1991)</td>\n",
       "      <td>Action|Sci-Fi|Thriller</td>\n",
       "    </tr>\n",
       "    <tr>\n",
       "      <th>6</th>\n",
       "      <td>593</td>\n",
       "      <td>2498</td>\n",
       "      <td>Silence of the Lambs, The (1991)</td>\n",
       "      <td>Drama|Thriller</td>\n",
       "    </tr>\n",
       "    <tr>\n",
       "      <th>7</th>\n",
       "      <td>1198</td>\n",
       "      <td>2473</td>\n",
       "      <td>Raiders of the Lost Ark (1981)</td>\n",
       "      <td>Action|Adventure</td>\n",
       "    </tr>\n",
       "    <tr>\n",
       "      <th>8</th>\n",
       "      <td>1270</td>\n",
       "      <td>2460</td>\n",
       "      <td>Back to the Future (1985)</td>\n",
       "      <td>Comedy|Sci-Fi</td>\n",
       "    </tr>\n",
       "    <tr>\n",
       "      <th>9</th>\n",
       "      <td>2571</td>\n",
       "      <td>2434</td>\n",
       "      <td>Matrix, The (1999)</td>\n",
       "      <td>Action|Sci-Fi|Thriller</td>\n",
       "    </tr>\n",
       "    <tr>\n",
       "      <th>10</th>\n",
       "      <td>480</td>\n",
       "      <td>2413</td>\n",
       "      <td>Jurassic Park (1993)</td>\n",
       "      <td>Action|Adventure|Sci-Fi</td>\n",
       "    </tr>\n",
       "    <tr>\n",
       "      <th>11</th>\n",
       "      <td>2762</td>\n",
       "      <td>2385</td>\n",
       "      <td>Sixth Sense, The (1999)</td>\n",
       "      <td>Thriller</td>\n",
       "    </tr>\n",
       "    <tr>\n",
       "      <th>12</th>\n",
       "      <td>608</td>\n",
       "      <td>2371</td>\n",
       "      <td>Fargo (1996)</td>\n",
       "      <td>Crime|Drama|Thriller</td>\n",
       "    </tr>\n",
       "    <tr>\n",
       "      <th>13</th>\n",
       "      <td>110</td>\n",
       "      <td>2314</td>\n",
       "      <td>Braveheart (1995)</td>\n",
       "      <td>Action|Drama|War</td>\n",
       "    </tr>\n",
       "    <tr>\n",
       "      <th>14</th>\n",
       "      <td>1580</td>\n",
       "      <td>2297</td>\n",
       "      <td>Men in Black (1997)</td>\n",
       "      <td>Action|Adventure|Comedy|Sci-Fi</td>\n",
       "    </tr>\n",
       "    <tr>\n",
       "      <th>15</th>\n",
       "      <td>527</td>\n",
       "      <td>2257</td>\n",
       "      <td>Schindler's List (1993)</td>\n",
       "      <td>Drama|War</td>\n",
       "    </tr>\n",
       "    <tr>\n",
       "      <th>16</th>\n",
       "      <td>1197</td>\n",
       "      <td>2252</td>\n",
       "      <td>Princess Bride, The (1987)</td>\n",
       "      <td>Action|Adventure|Comedy|Romance</td>\n",
       "    </tr>\n",
       "    <tr>\n",
       "      <th>17</th>\n",
       "      <td>2396</td>\n",
       "      <td>2213</td>\n",
       "      <td>Shakespeare in Love (1998)</td>\n",
       "      <td>Comedy|Romance</td>\n",
       "    </tr>\n",
       "    <tr>\n",
       "      <th>18</th>\n",
       "      <td>1617</td>\n",
       "      <td>2210</td>\n",
       "      <td>L.A. Confidential (1997)</td>\n",
       "      <td>Crime|Film-Noir|Mystery|Thriller</td>\n",
       "    </tr>\n",
       "    <tr>\n",
       "      <th>19</th>\n",
       "      <td>318</td>\n",
       "      <td>2194</td>\n",
       "      <td>Shawshank Redemption, The (1994)</td>\n",
       "      <td>Drama</td>\n",
       "    </tr>\n",
       "    <tr>\n",
       "      <th>20</th>\n",
       "      <td>858</td>\n",
       "      <td>2167</td>\n",
       "      <td>Godfather, The (1972)</td>\n",
       "      <td>Action|Crime|Drama</td>\n",
       "    </tr>\n",
       "    <tr>\n",
       "      <th>21</th>\n",
       "      <td>1265</td>\n",
       "      <td>2121</td>\n",
       "      <td>Groundhog Day (1993)</td>\n",
       "      <td>Comedy|Romance</td>\n",
       "    </tr>\n",
       "    <tr>\n",
       "      <th>22</th>\n",
       "      <td>1097</td>\n",
       "      <td>2102</td>\n",
       "      <td>E.T. the Extra-Terrestrial (1982)</td>\n",
       "      <td>Children's|Drama|Fantasy|Sci-Fi</td>\n",
       "    </tr>\n",
       "    <tr>\n",
       "      <th>23</th>\n",
       "      <td>2997</td>\n",
       "      <td>2066</td>\n",
       "      <td>Being John Malkovich (1999)</td>\n",
       "      <td>Comedy</td>\n",
       "    </tr>\n",
       "    <tr>\n",
       "      <th>24</th>\n",
       "      <td>2716</td>\n",
       "      <td>2051</td>\n",
       "      <td>Ghostbusters (1984)</td>\n",
       "      <td>Comedy|Horror</td>\n",
       "    </tr>\n",
       "    <tr>\n",
       "      <th>25</th>\n",
       "      <td>296</td>\n",
       "      <td>2030</td>\n",
       "      <td>Pulp Fiction (1994)</td>\n",
       "      <td>Crime|Drama</td>\n",
       "    </tr>\n",
       "    <tr>\n",
       "      <th>26</th>\n",
       "      <td>356</td>\n",
       "      <td>2022</td>\n",
       "      <td>Forrest Gump (1994)</td>\n",
       "      <td>Comedy|Romance|War</td>\n",
       "    </tr>\n",
       "    <tr>\n",
       "      <th>27</th>\n",
       "      <td>1240</td>\n",
       "      <td>2019</td>\n",
       "      <td>Terminator, The (1984)</td>\n",
       "      <td>Action|Sci-Fi|Thriller</td>\n",
       "    </tr>\n",
       "    <tr>\n",
       "      <th>28</th>\n",
       "      <td>1</td>\n",
       "      <td>2000</td>\n",
       "      <td>Toy Story (1995)</td>\n",
       "      <td>Animation|Children's|Comedy</td>\n",
       "    </tr>\n",
       "    <tr>\n",
       "      <th>29</th>\n",
       "      <td>457</td>\n",
       "      <td>1941</td>\n",
       "      <td>Fugitive, The (1993)</td>\n",
       "      <td>Action|Thriller</td>\n",
       "    </tr>\n",
       "  </tbody>\n",
       "</table>\n",
       "</div>"
      ],
      "text/plain": [
       "    movie_id  ratings                                              title  \\\n",
       "0       2858     3211                             American Beauty (1999)   \n",
       "1        260     2910          Star Wars: Episode IV - A New Hope (1977)   \n",
       "2       1196     2885  Star Wars: Episode V - The Empire Strikes Back...   \n",
       "3       1210     2716  Star Wars: Episode VI - Return of the Jedi (1983)   \n",
       "4       2028     2561                         Saving Private Ryan (1998)   \n",
       "5        589     2509                  Terminator 2: Judgment Day (1991)   \n",
       "6        593     2498                   Silence of the Lambs, The (1991)   \n",
       "7       1198     2473                     Raiders of the Lost Ark (1981)   \n",
       "8       1270     2460                          Back to the Future (1985)   \n",
       "9       2571     2434                                 Matrix, The (1999)   \n",
       "10       480     2413                               Jurassic Park (1993)   \n",
       "11      2762     2385                            Sixth Sense, The (1999)   \n",
       "12       608     2371                                       Fargo (1996)   \n",
       "13       110     2314                                  Braveheart (1995)   \n",
       "14      1580     2297                                Men in Black (1997)   \n",
       "15       527     2257                            Schindler's List (1993)   \n",
       "16      1197     2252                         Princess Bride, The (1987)   \n",
       "17      2396     2213                         Shakespeare in Love (1998)   \n",
       "18      1617     2210                           L.A. Confidential (1997)   \n",
       "19       318     2194                   Shawshank Redemption, The (1994)   \n",
       "20       858     2167                              Godfather, The (1972)   \n",
       "21      1265     2121                               Groundhog Day (1993)   \n",
       "22      1097     2102                  E.T. the Extra-Terrestrial (1982)   \n",
       "23      2997     2066                        Being John Malkovich (1999)   \n",
       "24      2716     2051                                Ghostbusters (1984)   \n",
       "25       296     2030                                Pulp Fiction (1994)   \n",
       "26       356     2022                                Forrest Gump (1994)   \n",
       "27      1240     2019                             Terminator, The (1984)   \n",
       "28         1     2000                                   Toy Story (1995)   \n",
       "29       457     1941                               Fugitive, The (1993)   \n",
       "\n",
       "                                  genre  \n",
       "0                          Comedy|Drama  \n",
       "1       Action|Adventure|Fantasy|Sci-Fi  \n",
       "2     Action|Adventure|Drama|Sci-Fi|War  \n",
       "3   Action|Adventure|Romance|Sci-Fi|War  \n",
       "4                      Action|Drama|War  \n",
       "5                Action|Sci-Fi|Thriller  \n",
       "6                        Drama|Thriller  \n",
       "7                      Action|Adventure  \n",
       "8                         Comedy|Sci-Fi  \n",
       "9                Action|Sci-Fi|Thriller  \n",
       "10              Action|Adventure|Sci-Fi  \n",
       "11                             Thriller  \n",
       "12                 Crime|Drama|Thriller  \n",
       "13                     Action|Drama|War  \n",
       "14       Action|Adventure|Comedy|Sci-Fi  \n",
       "15                            Drama|War  \n",
       "16      Action|Adventure|Comedy|Romance  \n",
       "17                       Comedy|Romance  \n",
       "18     Crime|Film-Noir|Mystery|Thriller  \n",
       "19                                Drama  \n",
       "20                   Action|Crime|Drama  \n",
       "21                       Comedy|Romance  \n",
       "22      Children's|Drama|Fantasy|Sci-Fi  \n",
       "23                               Comedy  \n",
       "24                        Comedy|Horror  \n",
       "25                          Crime|Drama  \n",
       "26                   Comedy|Romance|War  \n",
       "27               Action|Sci-Fi|Thriller  \n",
       "28          Animation|Children's|Comedy  \n",
       "29                      Action|Thriller  "
      ]
     },
     "execution_count": 7,
     "metadata": {},
     "output_type": "execute_result"
    }
   ],
   "source": [
    "temp_pd = pd.merge(ratings_count_sorted, movies, on='movie_id', how='inner')\n",
    "temp_pd.rename(columns = {'user_id':'ratings'}).head(30)"
   ]
  },
  {
   "cell_type": "markdown",
   "id": "wooden-retirement",
   "metadata": {},
   "source": [
    "가장 리뷰가 많은(인기있는) 영화 30개를 나열해보았습니다."
   ]
  },
  {
   "cell_type": "code",
   "execution_count": 8,
   "id": "global-roads",
   "metadata": {},
   "outputs": [
    {
     "data": {
      "text/html": [
       "<div>\n",
       "<style scoped>\n",
       "    .dataframe tbody tr th:only-of-type {\n",
       "        vertical-align: middle;\n",
       "    }\n",
       "\n",
       "    .dataframe tbody tr th {\n",
       "        vertical-align: top;\n",
       "    }\n",
       "\n",
       "    .dataframe thead th {\n",
       "        text-align: right;\n",
       "    }\n",
       "</style>\n",
       "<table border=\"1\" class=\"dataframe\">\n",
       "  <thead>\n",
       "    <tr style=\"text-align: right;\">\n",
       "      <th></th>\n",
       "      <th>user_id</th>\n",
       "      <th>movie_id</th>\n",
       "      <th>counts</th>\n",
       "      <th>timestamp</th>\n",
       "    </tr>\n",
       "  </thead>\n",
       "  <tbody>\n",
       "    <tr>\n",
       "      <th>1000203</th>\n",
       "      <td>6040</td>\n",
       "      <td>1090</td>\n",
       "      <td>3</td>\n",
       "      <td>956715518.0</td>\n",
       "    </tr>\n",
       "    <tr>\n",
       "      <th>1000205</th>\n",
       "      <td>6040</td>\n",
       "      <td>1094</td>\n",
       "      <td>5</td>\n",
       "      <td>956704887.0</td>\n",
       "    </tr>\n",
       "    <tr>\n",
       "      <th>1000206</th>\n",
       "      <td>6040</td>\n",
       "      <td>562</td>\n",
       "      <td>5</td>\n",
       "      <td>956704746.0</td>\n",
       "    </tr>\n",
       "    <tr>\n",
       "      <th>1000207</th>\n",
       "      <td>6040</td>\n",
       "      <td>1096</td>\n",
       "      <td>4</td>\n",
       "      <td>956715648.0</td>\n",
       "    </tr>\n",
       "    <tr>\n",
       "      <th>1000208</th>\n",
       "      <td>6040</td>\n",
       "      <td>1097</td>\n",
       "      <td>4</td>\n",
       "      <td>956715569.0</td>\n",
       "    </tr>\n",
       "    <tr>\n",
       "      <th>0</th>\n",
       "      <td>9999</td>\n",
       "      <td>1097</td>\n",
       "      <td>5</td>\n",
       "      <td>NaN</td>\n",
       "    </tr>\n",
       "    <tr>\n",
       "      <th>1</th>\n",
       "      <td>9999</td>\n",
       "      <td>1</td>\n",
       "      <td>5</td>\n",
       "      <td>NaN</td>\n",
       "    </tr>\n",
       "    <tr>\n",
       "      <th>2</th>\n",
       "      <td>9999</td>\n",
       "      <td>1580</td>\n",
       "      <td>5</td>\n",
       "      <td>NaN</td>\n",
       "    </tr>\n",
       "    <tr>\n",
       "      <th>3</th>\n",
       "      <td>9999</td>\n",
       "      <td>2028</td>\n",
       "      <td>5</td>\n",
       "      <td>NaN</td>\n",
       "    </tr>\n",
       "    <tr>\n",
       "      <th>4</th>\n",
       "      <td>9999</td>\n",
       "      <td>1240</td>\n",
       "      <td>5</td>\n",
       "      <td>NaN</td>\n",
       "    </tr>\n",
       "  </tbody>\n",
       "</table>\n",
       "</div>"
      ],
      "text/plain": [
       "         user_id  movie_id  counts    timestamp\n",
       "1000203     6040      1090       3  956715518.0\n",
       "1000205     6040      1094       5  956704887.0\n",
       "1000206     6040       562       5  956704746.0\n",
       "1000207     6040      1096       4  956715648.0\n",
       "1000208     6040      1097       4  956715569.0\n",
       "0           9999      1097       5          NaN\n",
       "1           9999         1       5          NaN\n",
       "2           9999      1580       5          NaN\n",
       "3           9999      2028       5          NaN\n",
       "4           9999      1240       5          NaN"
      ]
     },
     "execution_count": 8,
     "metadata": {},
     "output_type": "execute_result"
    }
   ],
   "source": [
    "my_favorite = [1097, 1,1580 ,2028 , 1240]\n",
    "#['E.T. the Extra-Terrestrial (1982)' , 'Toy Story (1995)' ,'Men in Black (1997)' ,'Saving Private Ryan (1998)' ,'Terminator, The (1984)']\n",
    "# '9999라는 user_id가 위의 영화에 5점씩 줬다고 칩시다\n",
    "my_ratings = pd.DataFrame({'user_id': [9999]*5, 'movie_id': my_favorite, 'counts':[5]*5})\n",
    "\n",
    "if not ratings.isin({'user_id':[9999]})['user_id'].any():  \n",
    "    ratings = ratings.append(my_ratings)                            \n",
    "\n",
    "ratings.tail(10)       # 잘 추가되었는지 확인해 봅시다."
   ]
  },
  {
   "cell_type": "markdown",
   "id": "thirty-graph",
   "metadata": {},
   "source": [
    "제가 좋아하는 영화들을 ratings에 추가해줬습니다."
   ]
  },
  {
   "cell_type": "code",
   "execution_count": 9,
   "id": "afraid-honor",
   "metadata": {},
   "outputs": [
    {
     "data": {
      "text/plain": [
       "6040"
      ]
     },
     "execution_count": 9,
     "metadata": {},
     "output_type": "execute_result"
    }
   ],
   "source": [
    "user_unique = ratings['user_id'].unique()\n",
    "movie_unique = ratings['movie_id'].unique()\n",
    "user_to_idx = {v:k for k,v in enumerate(user_unique)}\n",
    "movie_to_idx = {v:k for k,v in enumerate(movie_unique)}\n",
    "len(user_unique)"
   ]
  },
  {
   "cell_type": "code",
   "execution_count": 10,
   "id": "right-africa",
   "metadata": {},
   "outputs": [
    {
     "data": {
      "text/plain": [
       "3628"
      ]
     },
     "execution_count": 10,
     "metadata": {},
     "output_type": "execute_result"
    }
   ],
   "source": [
    "len(movie_unique)"
   ]
  },
  {
   "cell_type": "code",
   "execution_count": 11,
   "id": "heard-senator",
   "metadata": {},
   "outputs": [
    {
     "name": "stdout",
     "output_type": "stream",
     "text": [
      "6039\n",
      "40\n"
     ]
    }
   ],
   "source": [
    "print(user_to_idx[9999])\n",
    "print(movie_to_idx[1])"
   ]
  },
  {
   "cell_type": "code",
   "execution_count": 12,
   "id": "auburn-florence",
   "metadata": {},
   "outputs": [
    {
     "name": "stdout",
     "output_type": "stream",
     "text": [
      "user_id column indexing OK!!\n",
      "movie_id column indexing OK!!\n"
     ]
    },
    {
     "data": {
      "text/html": [
       "<div>\n",
       "<style scoped>\n",
       "    .dataframe tbody tr th:only-of-type {\n",
       "        vertical-align: middle;\n",
       "    }\n",
       "\n",
       "    .dataframe tbody tr th {\n",
       "        vertical-align: top;\n",
       "    }\n",
       "\n",
       "    .dataframe thead th {\n",
       "        text-align: right;\n",
       "    }\n",
       "</style>\n",
       "<table border=\"1\" class=\"dataframe\">\n",
       "  <thead>\n",
       "    <tr style=\"text-align: right;\">\n",
       "      <th></th>\n",
       "      <th>user_id</th>\n",
       "      <th>movie_id</th>\n",
       "      <th>counts</th>\n",
       "      <th>timestamp</th>\n",
       "    </tr>\n",
       "  </thead>\n",
       "  <tbody>\n",
       "    <tr>\n",
       "      <th>0</th>\n",
       "      <td>0</td>\n",
       "      <td>0</td>\n",
       "      <td>5</td>\n",
       "      <td>978300760.0</td>\n",
       "    </tr>\n",
       "    <tr>\n",
       "      <th>1</th>\n",
       "      <td>0</td>\n",
       "      <td>1</td>\n",
       "      <td>3</td>\n",
       "      <td>978302109.0</td>\n",
       "    </tr>\n",
       "    <tr>\n",
       "      <th>2</th>\n",
       "      <td>0</td>\n",
       "      <td>2</td>\n",
       "      <td>3</td>\n",
       "      <td>978301968.0</td>\n",
       "    </tr>\n",
       "    <tr>\n",
       "      <th>3</th>\n",
       "      <td>0</td>\n",
       "      <td>3</td>\n",
       "      <td>4</td>\n",
       "      <td>978300275.0</td>\n",
       "    </tr>\n",
       "    <tr>\n",
       "      <th>4</th>\n",
       "      <td>0</td>\n",
       "      <td>4</td>\n",
       "      <td>5</td>\n",
       "      <td>978824291.0</td>\n",
       "    </tr>\n",
       "    <tr>\n",
       "      <th>...</th>\n",
       "      <td>...</td>\n",
       "      <td>...</td>\n",
       "      <td>...</td>\n",
       "      <td>...</td>\n",
       "    </tr>\n",
       "    <tr>\n",
       "      <th>0</th>\n",
       "      <td>6039</td>\n",
       "      <td>26</td>\n",
       "      <td>5</td>\n",
       "      <td>NaN</td>\n",
       "    </tr>\n",
       "    <tr>\n",
       "      <th>1</th>\n",
       "      <td>6039</td>\n",
       "      <td>40</td>\n",
       "      <td>5</td>\n",
       "      <td>NaN</td>\n",
       "    </tr>\n",
       "    <tr>\n",
       "      <th>2</th>\n",
       "      <td>6039</td>\n",
       "      <td>175</td>\n",
       "      <td>5</td>\n",
       "      <td>NaN</td>\n",
       "    </tr>\n",
       "    <tr>\n",
       "      <th>3</th>\n",
       "      <td>6039</td>\n",
       "      <td>48</td>\n",
       "      <td>5</td>\n",
       "      <td>NaN</td>\n",
       "    </tr>\n",
       "    <tr>\n",
       "      <th>4</th>\n",
       "      <td>6039</td>\n",
       "      <td>200</td>\n",
       "      <td>5</td>\n",
       "      <td>NaN</td>\n",
       "    </tr>\n",
       "  </tbody>\n",
       "</table>\n",
       "<p>836483 rows × 4 columns</p>\n",
       "</div>"
      ],
      "text/plain": [
       "    user_id  movie_id  counts    timestamp\n",
       "0         0         0       5  978300760.0\n",
       "1         0         1       3  978302109.0\n",
       "2         0         2       3  978301968.0\n",
       "3         0         3       4  978300275.0\n",
       "4         0         4       5  978824291.0\n",
       "..      ...       ...     ...          ...\n",
       "0      6039        26       5          NaN\n",
       "1      6039        40       5          NaN\n",
       "2      6039       175       5          NaN\n",
       "3      6039        48       5          NaN\n",
       "4      6039       200       5          NaN\n",
       "\n",
       "[836483 rows x 4 columns]"
      ]
     },
     "execution_count": 12,
     "metadata": {},
     "output_type": "execute_result"
    }
   ],
   "source": [
    "# indexing을 통해 데이터 컬럼 내 값을 바꾸는 코드\n",
    "# dictionary 자료형의 get 함수는 https://wikidocs.net/16 을 참고하세요.\n",
    "\n",
    "# user_to_idx.get을 통해 user_id 컬럼의 모든 값을 인덱싱한 Series를 구해 봅시다. \n",
    "# 혹시 정상적으로 인덱싱되지 않은 row가 있다면 인덱스가 NaN이 될 테니 dropna()로 제거합니다. \n",
    "temp_user_data = ratings['user_id'].map(user_to_idx.get).dropna()\n",
    "if len(temp_user_data) == len(ratings):   # 모든 row가 정상적으로 인덱싱되었다면\n",
    "    print('user_id column indexing OK!!')\n",
    "    ratings['user_id'] = temp_user_data   # data['user_id']을 인덱싱된 Series로 교체해 줍니다. \n",
    "else:\n",
    "    print('user_id column indexing Fail!!')\n",
    "\n",
    "# artist_to_idx을 통해 movie_id 컬럼도 동일한 방식으로 인덱싱해 줍니다. \n",
    "temp_movie_data = ratings['movie_id'].map(movie_to_idx.get).dropna()\n",
    "if len(temp_movie_data) == len(ratings):\n",
    "    print('movie_id column indexing OK!!')\n",
    "    ratings['movie_id'] = temp_movie_data\n",
    "else:\n",
    "    print('movie_id column indexing Fail!!')\n",
    "\n",
    "ratings"
   ]
  },
  {
   "cell_type": "code",
   "execution_count": 13,
   "id": "vocal-playlist",
   "metadata": {},
   "outputs": [
    {
     "name": "stdout",
     "output_type": "stream",
     "text": [
      "<class 'pandas.core.frame.DataFrame'>\n",
      "<class 'pandas.core.series.Series'>\n",
      "836483\n"
     ]
    },
    {
     "data": {
      "text/plain": [
       "<6040x3628 sparse matrix of type '<class 'numpy.longlong'>'\n",
       "\twith 836483 stored elements in Compressed Sparse Row format>"
      ]
     },
     "execution_count": 13,
     "metadata": {},
     "output_type": "execute_result"
    }
   ],
   "source": [
    "from scipy.sparse import csr_matrix\n",
    "\n",
    "num_user = ratings['user_id'].nunique()\n",
    "num_movie = ratings['movie_id'].nunique()\n",
    "\n",
    "print(type(ratings))\n",
    "print(type(ratings.counts))\n",
    "print(len(ratings.counts))\n",
    "csr_data = csr_matrix((ratings.counts, (ratings.user_id, ratings.movie_id)), shape= (num_user, num_movie))\n",
    "csr_data"
   ]
  },
  {
   "cell_type": "code",
   "execution_count": 14,
   "id": "improving-group",
   "metadata": {},
   "outputs": [],
   "source": [
    "from implicit.als import AlternatingLeastSquares\n",
    "import os\n",
    "import numpy as np\n",
    "\n",
    "# implicit 라이브러리에서 권장하고 있는 부분입니다. 학습 내용과는 무관합니다.\n",
    "os.environ['OPENBLAS_NUM_THREADS']='1'\n",
    "os.environ['KMP_DUPLICATE_LIB_OK']='True'\n",
    "os.environ['MKL_NUM_THREADS']='1'"
   ]
  },
  {
   "cell_type": "code",
   "execution_count": 15,
   "id": "typical-train",
   "metadata": {},
   "outputs": [],
   "source": [
    "# Implicit AlternatingLeastSquares 모델의 선언\n",
    "als_model = AlternatingLeastSquares(factors=100, regularization=0.01, use_gpu=False, iterations=15, dtype=np.float32)"
   ]
  },
  {
   "cell_type": "code",
   "execution_count": 16,
   "id": "elegant-wrestling",
   "metadata": {},
   "outputs": [
    {
     "data": {
      "text/plain": [
       "<3628x6040 sparse matrix of type '<class 'numpy.longlong'>'\n",
       "\twith 836483 stored elements in Compressed Sparse Column format>"
      ]
     },
     "execution_count": 16,
     "metadata": {},
     "output_type": "execute_result"
    }
   ],
   "source": [
    "# als 모델은 input으로 (item X user 꼴의 matrix를 받기 때문에 Transpose해줍니다.)\n",
    "csr_data_transpose = csr_data.T\n",
    "csr_data_transpose"
   ]
  },
  {
   "cell_type": "code",
   "execution_count": 17,
   "id": "modular-billion",
   "metadata": {},
   "outputs": [
    {
     "data": {
      "application/vnd.jupyter.widget-view+json": {
       "model_id": "5370acac577a46a799691bfbc99f1373",
       "version_major": 2,
       "version_minor": 0
      },
      "text/plain": [
       "  0%|          | 0/15 [00:00<?, ?it/s]"
      ]
     },
     "metadata": {},
     "output_type": "display_data"
    }
   ],
   "source": [
    "# 모델 훈련\n",
    "als_model.fit(csr_data_transpose)"
   ]
  },
  {
   "cell_type": "code",
   "execution_count": 18,
   "id": "available-internship",
   "metadata": {},
   "outputs": [
    {
     "data": {
      "text/plain": [
       "3628"
      ]
     },
     "execution_count": 18,
     "metadata": {},
     "output_type": "execute_result"
    }
   ],
   "source": [
    "len(movie_to_idx)"
   ]
  },
  {
   "cell_type": "code",
   "execution_count": 21,
   "id": "light-horizontal",
   "metadata": {},
   "outputs": [
    {
     "data": {
      "text/plain": [
       "0.48821157"
      ]
     },
     "execution_count": 21,
     "metadata": {},
     "output_type": "execute_result"
    }
   ],
   "source": [
    "kwon, toy_story = user_to_idx[9999], movie_to_idx[1]\n",
    "kwon_vector, toy_story_vector = als_model.user_factors[kwon], als_model.item_factors[toy_story]\n",
    "\n",
    "movie = movie_to_idx[1]\n",
    "movie_vector = als_model.item_factors[movie]\n",
    "np.dot(kwon_vector, movie_vector)"
   ]
  },
  {
   "cell_type": "markdown",
   "id": "religious-breast",
   "metadata": {},
   "source": [
    "제가 좋아하는 영화 5개 목록에 있었던 토이스토리로 선호도를 측정한 결과 0.48이 나왔습니다 높은 수치일까요?"
   ]
  },
  {
   "cell_type": "code",
   "execution_count": 23,
   "id": "presidential-meditation",
   "metadata": {},
   "outputs": [
    {
     "data": {
      "text/plain": [
       "0.20578079"
      ]
     },
     "execution_count": 23,
     "metadata": {},
     "output_type": "execute_result"
    }
   ],
   "source": [
    "kwon, american_beauty = user_to_idx[9999], movie_to_idx[2858]\n",
    "kwon_vector = als_model.user_factors[kwon]\n",
    "\n",
    "movie = american_beauty\n",
    "movie_vector = als_model.item_factors[movie]\n",
    "np.dot(kwon_vector, movie_vector)"
   ]
  },
  {
   "cell_type": "markdown",
   "id": "amber-background",
   "metadata": {},
   "source": [
    "이번엔 목록에도 없고 처음들어보는 영화인 아메리칸 뷰티입니다, 선호도가 0.2로 매우 낮게 나옵니다."
   ]
  },
  {
   "cell_type": "code",
   "execution_count": 26,
   "id": "important-realtor",
   "metadata": {},
   "outputs": [
    {
     "data": {
      "text/plain": [
       "0.5159556"
      ]
     },
     "execution_count": 26,
     "metadata": {},
     "output_type": "execute_result"
    }
   ],
   "source": [
    "kwon, matrix = user_to_idx[9999], movie_to_idx[2571]\n",
    "kwon_vector = als_model.user_factors[kwon]\n",
    "\n",
    "movie = matrix\n",
    "movie_vector = als_model.item_factors[movie]\n",
    "np.dot(kwon_vector, movie_vector)"
   ]
  },
  {
   "cell_type": "markdown",
   "id": "desirable-extension",
   "metadata": {},
   "source": [
    "매트릭스는 목록에는 없지만 제가 매우 좋아하는 영화입니다.  \n",
    "선호도가 0.51로 목록에 있던 토이스토리보다도 높게 나왔네요 놀라운 결과입니다.  \n",
    "제가 액션영화 위주로 봤기 때문일까요?  "
   ]
  },
  {
   "cell_type": "code",
   "execution_count": 27,
   "id": "baking-radar",
   "metadata": {},
   "outputs": [
    {
     "data": {
      "text/plain": [
       "[(40, 1.0),\n",
       " (50, 0.78857625),\n",
       " (4, 0.6181353),\n",
       " (322, 0.5752076),\n",
       " (33, 0.56513417),\n",
       " (110, 0.51629287),\n",
       " (20, 0.4824374),\n",
       " (330, 0.45818603),\n",
       " (10, 0.4494091),\n",
       " (255, 0.3817873),\n",
       " (160, 0.37688178),\n",
       " (16, 0.36012277),\n",
       " (34, 0.3571413),\n",
       " (32, 0.3463335),\n",
       " (458, 0.3434017)]"
      ]
     },
     "execution_count": 27,
     "metadata": {},
     "output_type": "execute_result"
    }
   ],
   "source": [
    "favorite_movie = 1\n",
    "movie_idx = movie_to_idx[favorite_movie]\n",
    "similar_movie = als_model.similar_items(movie_idx, N=15)\n",
    "similar_movie"
   ]
  },
  {
   "cell_type": "code",
   "execution_count": 28,
   "id": "varied-termination",
   "metadata": {},
   "outputs": [
    {
     "data": {
      "text/plain": [
       "[1,\n",
       " 3114,\n",
       " 2355,\n",
       " 34,\n",
       " 588,\n",
       " 1265,\n",
       " 2321,\n",
       " 364,\n",
       " 595,\n",
       " 1923,\n",
       " 356,\n",
       " 2687,\n",
       " 1907,\n",
       " 1566,\n",
       " 367]"
      ]
     },
     "execution_count": 28,
     "metadata": {},
     "output_type": "execute_result"
    }
   ],
   "source": [
    "idx_to_movie = {v:k for k,v in movie_to_idx.items()}\n",
    "[idx_to_movie[i[0]] for i in similar_movie]"
   ]
  },
  {
   "cell_type": "code",
   "execution_count": 29,
   "id": "willing-utility",
   "metadata": {},
   "outputs": [],
   "source": [
    "def id_to_title(data, movie_id) :\n",
    "    condition = data.movie_id == movie_id\n",
    "    a = data[condition]['title']\n",
    "    a = pd.DataFrame(a)    \n",
    "    return a.iloc[0]['title']"
   ]
  },
  {
   "cell_type": "code",
   "execution_count": 31,
   "id": "related-overall",
   "metadata": {},
   "outputs": [
    {
     "name": "stdout",
     "output_type": "stream",
     "text": [
      "Toy Story (1995)\n",
      "Toy Story 2 (1999)\n",
      "Bug's Life, A (1998)\n",
      "Babe (1995)\n",
      "Aladdin (1992)\n",
      "Groundhog Day (1993)\n",
      "Pleasantville (1998)\n",
      "Lion King, The (1994)\n",
      "Beauty and the Beast (1991)\n",
      "There's Something About Mary (1998)\n",
      "Forrest Gump (1994)\n",
      "Tarzan (1999)\n",
      "Mulan (1998)\n",
      "Hercules (1997)\n",
      "Mask, The (1994)\n"
     ]
    }
   ],
   "source": [
    "for a in [idx_to_movie[i[0]] for i in similar_movie] :\n",
    "    print(id_to_title(movies, a))"
   ]
  },
  {
   "cell_type": "markdown",
   "id": "sealed-collective",
   "metadata": {},
   "source": [
    "movie_id를 타이틀명으로 바꿔주었습니다. 토이스토리와 비슷한 작품으로 그 후속작이랑 애니메이션류의 작품을 찾아줬네요  \n",
    "매우 정확한것같습니다!"
   ]
  },
  {
   "cell_type": "code",
   "execution_count": 32,
   "id": "scenic-growth",
   "metadata": {},
   "outputs": [],
   "source": [
    "def similar_movie(movie_id) :\n",
    "    movie_idx = movie_to_idx[movie_id]\n",
    "    similar_movie = als_model.similar_items(movie_idx, N=15)\n",
    "    idx_to_movie = {v:k for k,v in movie_to_idx.items()}\n",
    "    for a in [idx_to_movie[i[0]] for i in similar_movie] :\n",
    "        print(id_to_title(movies, a))"
   ]
  },
  {
   "cell_type": "code",
   "execution_count": 33,
   "id": "comprehensive-logistics",
   "metadata": {},
   "outputs": [
    {
     "name": "stdout",
     "output_type": "stream",
     "text": [
      "Saving Private Ryan (1998)\n",
      "Braveheart (1995)\n",
      "Schindler's List (1993)\n",
      "Boat, The (Das Boot) (1981)\n",
      "Fugitive, The (1993)\n",
      "Shawshank Redemption, The (1994)\n",
      "Matrix, The (1999)\n",
      "Good Will Hunting (1997)\n",
      "American Beauty (1999)\n",
      "Simon Sez (1999)\n",
      "Hunt for Red October, The (1990)\n",
      "Terminator 2: Judgment Day (1991)\n",
      "Thelma & Louise (1991)\n",
      "Silence of the Lambs, The (1991)\n",
      "Glory (1989)\n"
     ]
    }
   ],
   "source": [
    "similar_movie(2028)"
   ]
  },
  {
   "cell_type": "markdown",
   "id": "defined-beginning",
   "metadata": {},
   "source": [
    "위 과정을 함수로 만들고 라이언일병 구하기와 유사한 영화들을 찾아봤습니다,"
   ]
  },
  {
   "cell_type": "code",
   "execution_count": 34,
   "id": "military-establishment",
   "metadata": {},
   "outputs": [
    {
     "data": {
      "text/plain": [
       "[(92, 0.58370656),\n",
       " (124, 0.5159556),\n",
       " (87, 0.46482077),\n",
       " (22, 0.4533485),\n",
       " (117, 0.43948776),\n",
       " (107, 0.4131611),\n",
       " (44, 0.39698884),\n",
       " (64, 0.3668791),\n",
       " (141, 0.3285604),\n",
       " (62, 0.3141867),\n",
       " (50, 0.3014591),\n",
       " (4, 0.27450174),\n",
       " (651, 0.2705989),\n",
       " (322, 0.2509431),\n",
       " (160, 0.24733168),\n",
       " (120, 0.22921509),\n",
       " (121, 0.22895035),\n",
       " (317, 0.2283702),\n",
       " (60, 0.21938023),\n",
       " (23, 0.21936946)]"
      ]
     },
     "execution_count": 34,
     "metadata": {},
     "output_type": "execute_result"
    }
   ],
   "source": [
    "user = user_to_idx[9999]\n",
    "# recommend에서는 user*item CSR Matrix를 받습니다.\n",
    "movie_recommended = als_model.recommend(user, csr_data, N=20, filter_already_liked_items=True)\n",
    "movie_recommended"
   ]
  },
  {
   "cell_type": "code",
   "execution_count": 35,
   "id": "known-discount",
   "metadata": {},
   "outputs": [
    {
     "data": {
      "text/plain": [
       "[589,\n",
       " 2571,\n",
       " 110,\n",
       " 1270,\n",
       " 1196,\n",
       " 480,\n",
       " 260,\n",
       " 1210,\n",
       " 457,\n",
       " 2916,\n",
       " 3114,\n",
       " 2355,\n",
       " 1200,\n",
       " 34,\n",
       " 356,\n",
       " 1198,\n",
       " 593,\n",
       " 32,\n",
       " 2628,\n",
       " 527]"
      ]
     },
     "execution_count": 35,
     "metadata": {},
     "output_type": "execute_result"
    }
   ],
   "source": [
    "[idx_to_movie[i[0]] for i in movie_recommended]"
   ]
  },
  {
   "cell_type": "code",
   "execution_count": 36,
   "id": "square-cooper",
   "metadata": {},
   "outputs": [],
   "source": [
    "def recommend_movie(user_id) :\n",
    "    user = user_to_idx[user_id]\n",
    "    movie_recommended = als_model.recommend(user, csr_data, N=20, filter_already_liked_items=True)\n",
    "    for a in [idx_to_movie[i[0]] for i in movie_recommended] :\n",
    "        print(id_to_title(movies, a)) "
   ]
  },
  {
   "cell_type": "code",
   "execution_count": 37,
   "id": "strange-texas",
   "metadata": {},
   "outputs": [
    {
     "name": "stdout",
     "output_type": "stream",
     "text": [
      "Terminator 2: Judgment Day (1991)\n",
      "Matrix, The (1999)\n",
      "Braveheart (1995)\n",
      "Back to the Future (1985)\n",
      "Star Wars: Episode V - The Empire Strikes Back (1980)\n",
      "Jurassic Park (1993)\n",
      "Star Wars: Episode IV - A New Hope (1977)\n",
      "Star Wars: Episode VI - Return of the Jedi (1983)\n",
      "Fugitive, The (1993)\n",
      "Total Recall (1990)\n",
      "Toy Story 2 (1999)\n",
      "Bug's Life, A (1998)\n",
      "Aliens (1986)\n",
      "Babe (1995)\n",
      "Forrest Gump (1994)\n",
      "Raiders of the Lost Ark (1981)\n",
      "Silence of the Lambs, The (1991)\n",
      "Twelve Monkeys (1995)\n",
      "Star Wars: Episode I - The Phantom Menace (1999)\n",
      "Schindler's List (1993)\n"
     ]
    }
   ],
   "source": [
    "recommend_movie(9999)"
   ]
  },
  {
   "cell_type": "markdown",
   "id": "czech-muslim",
   "metadata": {},
   "source": [
    "마지막으로 유저 추천입니다, 어쩜 제취향만 딱딱 맞춰서 추천해주는게 너무 신기합니다!  \n",
    "제가 많이 사용하는 유튜브 영상 추천도 비슷한 알고리즘으로 작동하는건지 궁금하네요  \n",
    "사족으로 이번 익스는 다른것보다 데이터프레임 다루는게 제일 어려웠던것 같습니다 ㅠㅠ  \n",
    "그래도 이번에 하루종일 헤매보면서 조금이라도 늘은 것 같아서 다행입니다"
   ]
  }
 ],
 "metadata": {
  "kernelspec": {
   "display_name": "Python 3",
   "language": "python",
   "name": "python3"
  },
  "language_info": {
   "codemirror_mode": {
    "name": "ipython",
    "version": 3
   },
   "file_extension": ".py",
   "mimetype": "text/x-python",
   "name": "python",
   "nbconvert_exporter": "python",
   "pygments_lexer": "ipython3",
   "version": "3.7.9"
  }
 },
 "nbformat": 4,
 "nbformat_minor": 5
}
