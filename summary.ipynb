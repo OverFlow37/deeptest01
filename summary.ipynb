{
 "cells": [
  {
   "cell_type": "code",
   "execution_count": 1,
   "id": "recorded-homework",
   "metadata": {},
   "outputs": [
    {
     "name": "stderr",
     "output_type": "stream",
     "text": [
      "[nltk_data] Downloading package stopwords to /aiffel/nltk_data...\n",
      "[nltk_data]   Package stopwords is already up-to-date!\n"
     ]
    }
   ],
   "source": [
    "import nltk\n",
    "nltk.download('stopwords')\n",
    "\n",
    "import numpy as np\n",
    "import pandas as pd\n",
    "import os\n",
    "import re\n",
    "import matplotlib.pyplot as plt\n",
    "from nltk.corpus import stopwords\n",
    "from bs4 import BeautifulSoup \n",
    "from tensorflow.keras.preprocessing.text import Tokenizer \n",
    "from tensorflow.keras.preprocessing.sequence import pad_sequences\n",
    "\n",
    "import urllib.request\n",
    "urllib.request.urlretrieve(\"https://raw.githubusercontent.com/sunnysai12345/News_Summary/master/news_summary_more.csv\", filename=\"news_summary_more.csv\")\n",
    "data = pd.read_csv('news_summary_more.csv', encoding='iso-8859-1')"
   ]
  },
  {
   "cell_type": "code",
   "execution_count": 2,
   "id": "adverse-cardiff",
   "metadata": {},
   "outputs": [
    {
     "data": {
      "text/html": [
       "<div>\n",
       "<style scoped>\n",
       "    .dataframe tbody tr th:only-of-type {\n",
       "        vertical-align: middle;\n",
       "    }\n",
       "\n",
       "    .dataframe tbody tr th {\n",
       "        vertical-align: top;\n",
       "    }\n",
       "\n",
       "    .dataframe thead th {\n",
       "        text-align: right;\n",
       "    }\n",
       "</style>\n",
       "<table border=\"1\" class=\"dataframe\">\n",
       "  <thead>\n",
       "    <tr style=\"text-align: right;\">\n",
       "      <th></th>\n",
       "      <th>headlines</th>\n",
       "      <th>text</th>\n",
       "    </tr>\n",
       "  </thead>\n",
       "  <tbody>\n",
       "    <tr>\n",
       "      <th>4783</th>\n",
       "      <td>Scientists use sound waves to sew thread into ...</td>\n",
       "      <td>UK and Spain-based researchers have successful...</td>\n",
       "    </tr>\n",
       "    <tr>\n",
       "      <th>43744</th>\n",
       "      <td>Odia language signboards made mandatory for sh...</td>\n",
       "      <td>The Odisha Cabinet on Wednesday made it mandat...</td>\n",
       "    </tr>\n",
       "    <tr>\n",
       "      <th>52847</th>\n",
       "      <td>Pak halts military, intel cooperation with US ...</td>\n",
       "      <td>Pakistan's Defence Minister Khurram Khan has s...</td>\n",
       "    </tr>\n",
       "    <tr>\n",
       "      <th>67643</th>\n",
       "      <td>Andhra Pradesh introduces 'no helmet, no petro...</td>\n",
       "      <td>Andhra Pradesh on Thursday introduced a 'no he...</td>\n",
       "    </tr>\n",
       "    <tr>\n",
       "      <th>80443</th>\n",
       "      <td>3 British Sikhs jailed for smuggling 69 Afghan...</td>\n",
       "      <td>Three British Sikhs have been jailed for a tot...</td>\n",
       "    </tr>\n",
       "    <tr>\n",
       "      <th>968</th>\n",
       "      <td>Snatch voting rights, govt jobs of people with...</td>\n",
       "      <td>Suggesting methods to control the population o...</td>\n",
       "    </tr>\n",
       "    <tr>\n",
       "      <th>24517</th>\n",
       "      <td>9 hospitalised after eating midday meal at Ang...</td>\n",
       "      <td>At least nine people, including eight children...</td>\n",
       "    </tr>\n",
       "    <tr>\n",
       "      <th>33370</th>\n",
       "      <td>CRPF official files criminal complaint against...</td>\n",
       "      <td>A CRPF sub-inspector has filed a criminal comp...</td>\n",
       "    </tr>\n",
       "    <tr>\n",
       "      <th>73355</th>\n",
       "      <td>Corporate governance a priority: Infosys' Nand...</td>\n",
       "      <td>Infosys' Non-Executive Chairman Nandan Nilekan...</td>\n",
       "    </tr>\n",
       "    <tr>\n",
       "      <th>88860</th>\n",
       "      <td>Many rivers on map, but do not have water in t...</td>\n",
       "      <td>Concluding 'Namami Devi Narmade Sewa Yatra' in...</td>\n",
       "    </tr>\n",
       "  </tbody>\n",
       "</table>\n",
       "</div>"
      ],
      "text/plain": [
       "                                               headlines  \\\n",
       "4783   Scientists use sound waves to sew thread into ...   \n",
       "43744  Odia language signboards made mandatory for sh...   \n",
       "52847  Pak halts military, intel cooperation with US ...   \n",
       "67643  Andhra Pradesh introduces 'no helmet, no petro...   \n",
       "80443  3 British Sikhs jailed for smuggling 69 Afghan...   \n",
       "968    Snatch voting rights, govt jobs of people with...   \n",
       "24517  9 hospitalised after eating midday meal at Ang...   \n",
       "33370  CRPF official files criminal complaint against...   \n",
       "73355  Corporate governance a priority: Infosys' Nand...   \n",
       "88860  Many rivers on map, but do not have water in t...   \n",
       "\n",
       "                                                    text  \n",
       "4783   UK and Spain-based researchers have successful...  \n",
       "43744  The Odisha Cabinet on Wednesday made it mandat...  \n",
       "52847  Pakistan's Defence Minister Khurram Khan has s...  \n",
       "67643  Andhra Pradesh on Thursday introduced a 'no he...  \n",
       "80443  Three British Sikhs have been jailed for a tot...  \n",
       "968    Suggesting methods to control the population o...  \n",
       "24517  At least nine people, including eight children...  \n",
       "33370  A CRPF sub-inspector has filed a criminal comp...  \n",
       "73355  Infosys' Non-Executive Chairman Nandan Nilekan...  \n",
       "88860  Concluding 'Namami Devi Narmade Sewa Yatra' in...  "
      ]
     },
     "execution_count": 2,
     "metadata": {},
     "output_type": "execute_result"
    }
   ],
   "source": [
    "data.sample(10)"
   ]
  },
  {
   "cell_type": "code",
   "execution_count": 3,
   "id": "accepting-bahamas",
   "metadata": {},
   "outputs": [
    {
     "name": "stdout",
     "output_type": "stream",
     "text": [
      "전체 샘플수 : 98401\n"
     ]
    }
   ],
   "source": [
    "print('전체 샘플수 :', (len(data)))"
   ]
  },
  {
   "cell_type": "code",
   "execution_count": 4,
   "id": "honest-resolution",
   "metadata": {},
   "outputs": [
    {
     "name": "stdout",
     "output_type": "stream",
     "text": [
      "text 열에서 중복을 배제한 유일한 샘플의 수 : 98360\n",
      "headlines 열에서 중복을 배제한 유일한 샘플의 수 : 98280\n"
     ]
    }
   ],
   "source": [
    "print('text 열에서 중복을 배제한 유일한 샘플의 수 :', data['text'].nunique())\n",
    "print('headlines 열에서 중복을 배제한 유일한 샘플의 수 :', data['headlines'].nunique())"
   ]
  },
  {
   "cell_type": "code",
   "execution_count": 5,
   "id": "endangered-illness",
   "metadata": {},
   "outputs": [
    {
     "name": "stdout",
     "output_type": "stream",
     "text": [
      "전체 샘플수 : 98360\n"
     ]
    }
   ],
   "source": [
    "data.drop_duplicates(subset = ['text'], inplace=True)\n",
    "print('전체 샘플수 :', (len(data)))"
   ]
  },
  {
   "cell_type": "code",
   "execution_count": 6,
   "id": "brave-engineering",
   "metadata": {},
   "outputs": [
    {
     "name": "stdout",
     "output_type": "stream",
     "text": [
      "headlines    0\n",
      "text         0\n",
      "dtype: int64\n"
     ]
    }
   ],
   "source": [
    "print(data.isnull().sum())"
   ]
  },
  {
   "cell_type": "code",
   "execution_count": 7,
   "id": "signal-denmark",
   "metadata": {},
   "outputs": [
    {
     "name": "stdout",
     "output_type": "stream",
     "text": [
      "정규화 사전의 수:  120\n"
     ]
    }
   ],
   "source": [
    "contractions = {\"ain't\": \"is not\", \"aren't\": \"are not\",\"can't\": \"cannot\", \"'cause\": \"because\", \"could've\": \"could have\", \"couldn't\": \"could not\",\n",
    "                           \"didn't\": \"did not\",  \"doesn't\": \"does not\", \"don't\": \"do not\", \"hadn't\": \"had not\", \"hasn't\": \"has not\", \"haven't\": \"have not\",\n",
    "                           \"he'd\": \"he would\",\"he'll\": \"he will\", \"he's\": \"he is\", \"how'd\": \"how did\", \"how'd'y\": \"how do you\", \"how'll\": \"how will\", \"how's\": \"how is\",\n",
    "                           \"I'd\": \"I would\", \"I'd've\": \"I would have\", \"I'll\": \"I will\", \"I'll've\": \"I will have\",\"I'm\": \"I am\", \"I've\": \"I have\", \"i'd\": \"i would\",\n",
    "                           \"i'd've\": \"i would have\", \"i'll\": \"i will\",  \"i'll've\": \"i will have\",\"i'm\": \"i am\", \"i've\": \"i have\", \"isn't\": \"is not\", \"it'd\": \"it would\",\n",
    "                           \"it'd've\": \"it would have\", \"it'll\": \"it will\", \"it'll've\": \"it will have\",\"it's\": \"it is\", \"let's\": \"let us\", \"ma'am\": \"madam\",\n",
    "                           \"mayn't\": \"may not\", \"might've\": \"might have\",\"mightn't\": \"might not\",\"mightn't've\": \"might not have\", \"must've\": \"must have\",\n",
    "                           \"mustn't\": \"must not\", \"mustn't've\": \"must not have\", \"needn't\": \"need not\", \"needn't've\": \"need not have\",\"o'clock\": \"of the clock\",\n",
    "                           \"oughtn't\": \"ought not\", \"oughtn't've\": \"ought not have\", \"shan't\": \"shall not\", \"sha'n't\": \"shall not\", \"shan't've\": \"shall not have\",\n",
    "                           \"she'd\": \"she would\", \"she'd've\": \"she would have\", \"she'll\": \"she will\", \"she'll've\": \"she will have\", \"she's\": \"she is\",\n",
    "                           \"should've\": \"should have\", \"shouldn't\": \"should not\", \"shouldn't've\": \"should not have\", \"so've\": \"so have\",\"so's\": \"so as\",\n",
    "                           \"this's\": \"this is\",\"that'd\": \"that would\", \"that'd've\": \"that would have\", \"that's\": \"that is\", \"there'd\": \"there would\",\n",
    "                           \"there'd've\": \"there would have\", \"there's\": \"there is\", \"here's\": \"here is\",\"they'd\": \"they would\", \"they'd've\": \"they would have\",\n",
    "                           \"they'll\": \"they will\", \"they'll've\": \"they will have\", \"they're\": \"they are\", \"they've\": \"they have\", \"to've\": \"to have\",\n",
    "                           \"wasn't\": \"was not\", \"we'd\": \"we would\", \"we'd've\": \"we would have\", \"we'll\": \"we will\", \"we'll've\": \"we will have\", \"we're\": \"we are\",\n",
    "                           \"we've\": \"we have\", \"weren't\": \"were not\", \"what'll\": \"what will\", \"what'll've\": \"what will have\", \"what're\": \"what are\",\n",
    "                           \"what's\": \"what is\", \"what've\": \"what have\", \"when's\": \"when is\", \"when've\": \"when have\", \"where'd\": \"where did\", \"where's\": \"where is\",\n",
    "                           \"where've\": \"where have\", \"who'll\": \"who will\", \"who'll've\": \"who will have\", \"who's\": \"who is\", \"who've\": \"who have\",\n",
    "                           \"why's\": \"why is\", \"why've\": \"why have\", \"will've\": \"will have\", \"won't\": \"will not\", \"won't've\": \"will not have\",\n",
    "                           \"would've\": \"would have\", \"wouldn't\": \"would not\", \"wouldn't've\": \"would not have\", \"y'all\": \"you all\",\n",
    "                           \"y'all'd\": \"you all would\",\"y'all'd've\": \"you all would have\",\"y'all're\": \"you all are\",\"y'all've\": \"you all have\",\n",
    "                           \"you'd\": \"you would\", \"you'd've\": \"you would have\", \"you'll\": \"you will\", \"you'll've\": \"you will have\",\n",
    "                           \"you're\": \"you are\", \"you've\": \"you have\"}\n",
    "\n",
    "print(\"정규화 사전의 수: \", len(contractions))"
   ]
  },
  {
   "cell_type": "code",
   "execution_count": 8,
   "id": "hungry-belize",
   "metadata": {},
   "outputs": [
    {
     "name": "stdout",
     "output_type": "stream",
     "text": [
      "불용어 개수 : 179\n",
      "['i', 'me', 'my', 'myself', 'we', 'our', 'ours', 'ourselves', 'you', \"you're\", \"you've\", \"you'll\", \"you'd\", 'your', 'yours', 'yourself', 'yourselves', 'he', 'him', 'his', 'himself', 'she', \"she's\", 'her', 'hers', 'herself', 'it', \"it's\", 'its', 'itself', 'they', 'them', 'their', 'theirs', 'themselves', 'what', 'which', 'who', 'whom', 'this', 'that', \"that'll\", 'these', 'those', 'am', 'is', 'are', 'was', 'were', 'be', 'been', 'being', 'have', 'has', 'had', 'having', 'do', 'does', 'did', 'doing', 'a', 'an', 'the', 'and', 'but', 'if', 'or', 'because', 'as', 'until', 'while', 'of', 'at', 'by', 'for', 'with', 'about', 'against', 'between', 'into', 'through', 'during', 'before', 'after', 'above', 'below', 'to', 'from', 'up', 'down', 'in', 'out', 'on', 'off', 'over', 'under', 'again', 'further', 'then', 'once', 'here', 'there', 'when', 'where', 'why', 'how', 'all', 'any', 'both', 'each', 'few', 'more', 'most', 'other', 'some', 'such', 'no', 'nor', 'not', 'only', 'own', 'same', 'so', 'than', 'too', 'very', 's', 't', 'can', 'will', 'just', 'don', \"don't\", 'should', \"should've\", 'now', 'd', 'll', 'm', 'o', 're', 've', 'y', 'ain', 'aren', \"aren't\", 'couldn', \"couldn't\", 'didn', \"didn't\", 'doesn', \"doesn't\", 'hadn', \"hadn't\", 'hasn', \"hasn't\", 'haven', \"haven't\", 'isn', \"isn't\", 'ma', 'mightn', \"mightn't\", 'mustn', \"mustn't\", 'needn', \"needn't\", 'shan', \"shan't\", 'shouldn', \"shouldn't\", 'wasn', \"wasn't\", 'weren', \"weren't\", 'won', \"won't\", 'wouldn', \"wouldn't\"]\n"
     ]
    }
   ],
   "source": [
    "print('불용어 개수 :', len(stopwords.words('english') ))\n",
    "print(stopwords.words('english'))"
   ]
  },
  {
   "cell_type": "code",
   "execution_count": 9,
   "id": "controlling-guess",
   "metadata": {},
   "outputs": [],
   "source": [
    "# 데이터 전처리 함수\n",
    "def preprocess_sentence(sentence, remove_stopwords=True):\n",
    "    sentence = sentence.lower() # 텍스트 소문자화\n",
    "    sentence = BeautifulSoup(sentence, \"lxml\").text # <br />, <a href = ...> 등의 html 태그 제거\n",
    "    sentence = re.sub(r'\\([^)]*\\)', '', sentence) # 괄호로 닫힌 문자열 (...) 제거 Ex) my husband (and myself!) for => my husband for\n",
    "    sentence = re.sub('\"','', sentence) # 쌍따옴표 \" 제거\n",
    "    sentence = ' '.join([contractions[t] if t in contractions else t for t in sentence.split(\" \")]) # 약어 정규화\n",
    "    sentence = re.sub(r\"'s\\b\",\"\", sentence) # 소유격 제거. Ex) roland's -> roland\n",
    "    sentence = re.sub(\"[^a-zA-Z]\", \" \", sentence) # 영어 외 문자(숫자, 특수문자 등) 공백으로 변환\n",
    "    sentence = re.sub('[m]{2,}', 'mm', sentence) # m이 3개 이상이면 2개로 변경. Ex) ummmmmmm yeah -> umm yeah\n",
    "    \n",
    "    # 불용어 제거 (Text)\n",
    "    if remove_stopwords:\n",
    "        tokens = ' '.join(word for word in sentence.split() if not word in stopwords.words('english') if len(word) > 1)\n",
    "    # 불용어 미제거 (Summary)\n",
    "    else:\n",
    "        tokens = ' '.join(word for word in sentence.split() if len(word) > 1)\n",
    "    return tokens"
   ]
  },
  {
   "cell_type": "code",
   "execution_count": 10,
   "id": "extraordinary-program",
   "metadata": {},
   "outputs": [],
   "source": [
    "import multiprocessing as mp   # 멀티 프로세싱으로 전처리 속도를 획기적으로 줄여봅시다\n",
    "from multiprocessing import Pool\n",
    "import numpy as np\n",
    "import time\n",
    "from functools import partial  # map을 할 때 함수에 여러 인자를 넣어줄 수 있도록 합니다\n",
    "\n",
    "start = time.time()\n",
    "\n",
    "# num_cores 만큼 쪼개진 데이터를 전처리하여 반환합니다\n",
    "def appendTexts(sentences, remove_stopwords):\n",
    "  texts = []\n",
    "  for s in sentences:\n",
    "    texts += preprocess_sentence(s, remove_stopwords),\n",
    "  return texts\n",
    "\n",
    "def preprocess_data(data, remove_stopwords=True):\n",
    "  start_time = time.time()\n",
    "  num_cores = mp.cpu_count()  # 컴퓨터의 코어 수를 구합니다\n",
    "\n",
    "  text_data_split = np.array_split(data, num_cores)  # 코어 수만큼 데이터를 배분하여 병렬적으로 처리할 수 있게 합니다\n",
    "  pool = Pool(num_cores)\n",
    "\n",
    "  processed_data = np.concatenate(pool.map(partial(appendTexts, remove_stopwords=remove_stopwords), text_data_split))  # 각자 작업한 데이터를 하나로 합쳐줍니다\n",
    "  pool.close()\n",
    "  pool.join()\n",
    "  print(time.time() - start_time, \" seconds\")\n",
    "  return processed_data\n"
   ]
  },
  {
   "cell_type": "code",
   "execution_count": 11,
   "id": "elementary-discipline",
   "metadata": {},
   "outputs": [
    {
     "name": "stdout",
     "output_type": "stream",
     "text": [
      "430.80560302734375  seconds\n",
      "['saurav kant alumnus upgrad iiit pg program machine learning artificial intelligence sr systems engineer infosys almost years work experience program upgrad degree career support helped transition data scientist tech mahindra salary hike upgrad online power learning powered lakh careers'\n",
      " 'kunal shah credit card bill payment platform cred gave users chance win free food swiggy one year pranav kaushik delhi techie bagged reward spending cred coins users get one cred coin per rupee bill paid used avail rewards brands like ixigo bookmyshow ubereats cult fit'\n",
      " 'new zealand defeated india wickets fourth odi hamilton thursday win first match five match odi series india lost international match rohit sharma captaincy consecutive victories dating back march match witnessed india getting seventh lowest total odi cricket history'\n",
      " ...\n",
      " 'according reports new version science fiction film matrix development michael jordan reportedly play lead role film screenwriter zak penn talks write script film reports added actor keanu reeves starred original film followed two sequels'\n",
      " 'new music video shows rapper snoop dogg aiming toy gun clown character parodying us president donald trump video also shows tv airing news conference headline ronald klump wants deport doggs airing live clown house video remixed version song lavender'\n",
      " 'madhesi morcha alliance seven political parties withdrawn support pm pushpa kamal dahal led nepal government failed meet seven day ultimatum fulfil demands including endorsement revised constitution amendment bill morcha seats parliament despite withdrawal support immediate threat government']\n"
     ]
    }
   ],
   "source": [
    "clean_text = preprocess_data(data['text'])  # 클라우드 기준으로 3~4분 정도 소요 됩니다\n",
    "print(clean_text)"
   ]
  },
  {
   "cell_type": "code",
   "execution_count": 12,
   "id": "undefined-accuracy",
   "metadata": {},
   "outputs": [
    {
     "name": "stdout",
     "output_type": "stream",
     "text": [
      "13.40004825592041  seconds\n",
      "['upgrad learner switches to career in ml al with salary hike'\n",
      " 'delhi techie wins free food from swiggy for one year on cred'\n",
      " 'new zealand end rohit sharma led india match winning streak' ...\n",
      " 'the matrix film to get reboot reports'\n",
      " 'snoop dogg aims gun at clown dressed as trump in new video'\n",
      " 'madhesi morcha withdraws support to nepalese government']\n"
     ]
    }
   ],
   "source": [
    "clean_summary = preprocess_data(data['headlines'], remove_stopwords=False) # 클라우드 기준 1분정도 소요됩니다.\n",
    "print(clean_summary)"
   ]
  },
  {
   "cell_type": "code",
   "execution_count": 13,
   "id": "attached-linux",
   "metadata": {},
   "outputs": [],
   "source": [
    "data['text'] = clean_text\n",
    "data['headlines'] = clean_summary\n",
    "\n",
    "# 빈 값을 Null 값으로 변환\n",
    "data.replace('', np.nan, inplace=True)"
   ]
  },
  {
   "cell_type": "code",
   "execution_count": 14,
   "id": "powered-incidence",
   "metadata": {},
   "outputs": [
    {
     "data": {
      "text/plain": [
       "headlines    0\n",
       "text         0\n",
       "dtype: int64"
      ]
     },
     "execution_count": 14,
     "metadata": {},
     "output_type": "execute_result"
    }
   ],
   "source": [
    "data.isnull().sum()"
   ]
  },
  {
   "cell_type": "code",
   "execution_count": 15,
   "id": "cellular-breakdown",
   "metadata": {},
   "outputs": [
    {
     "name": "stdout",
     "output_type": "stream",
     "text": [
      "텍스트의 최소 길이 : 1\n",
      "텍스트의 최대 길이 : 60\n",
      "텍스트의 평균 길이 : 35.09968483123221\n",
      "요약의 최소 길이 : 1\n",
      "요약의 최대 길이 : 16\n",
      "요약의 평균 길이 : 9.299532330215534\n"
     ]
    },
    {
     "data": {
      "image/png": "[encoded data removed]",
      "text/plain": [
       "<Figure size 432x288 with 2 Axes>"
      ]
     },
     "metadata": {
      "needs_background": "light"
     },
     "output_type": "display_data"
    },
    {
     "data": {
      "image/png": "[encoded data removed]",
      "text/plain": [
       "<Figure size 432x288 with 1 Axes>"
      ]
     },
     "metadata": {
      "needs_background": "light"
     },
     "output_type": "display_data"
    },
    {
     "data": {
      "image/png": "[encoded data removed]",
      "text/plain": [
       "<Figure size 432x288 with 1 Axes>"
      ]
     },
     "metadata": {
      "needs_background": "light"
     },
     "output_type": "display_data"
    }
   ],
   "source": [
    "# 길이 분포 출력\n",
    "import matplotlib.pyplot as plt\n",
    "\n",
    "text_len = [len(s.split()) for s in data['text']]\n",
    "summary_len = [len(s.split()) for s in data['headlines']]\n",
    "\n",
    "print('텍스트의 최소 길이 : {}'.format(np.min(text_len)))\n",
    "print('텍스트의 최대 길이 : {}'.format(np.max(text_len)))\n",
    "print('텍스트의 평균 길이 : {}'.format(np.mean(text_len)))\n",
    "print('요약의 최소 길이 : {}'.format(np.min(summary_len)))\n",
    "print('요약의 최대 길이 : {}'.format(np.max(summary_len)))\n",
    "print('요약의 평균 길이 : {}'.format(np.mean(summary_len)))\n",
    "\n",
    "plt.subplot(1,2,1)\n",
    "plt.boxplot(text_len)\n",
    "plt.title('text')\n",
    "plt.subplot(1,2,2)\n",
    "plt.boxplot(summary_len)\n",
    "plt.title('headlines')\n",
    "plt.tight_layout()\n",
    "plt.show()\n",
    "\n",
    "plt.title('text')\n",
    "plt.hist(text_len, bins = 40)\n",
    "plt.xlabel('length of samples')\n",
    "plt.ylabel('number of samples')\n",
    "plt.show()\n",
    "\n",
    "plt.title('headlines')\n",
    "plt.hist(summary_len, bins = 40)\n",
    "plt.xlabel('length of samples')\n",
    "plt.ylabel('number of samples')\n",
    "plt.show()"
   ]
  },
  {
   "cell_type": "markdown",
   "id": "naughty-uncertainty",
   "metadata": {},
   "source": [
    "텍스트의 평균길이가 35, 최대길이가 60이므로 45정도로 패딩 범위를 정해주겠습니다  \n",
    "요약(headlines)의 평균길이가 9, 최대길이가 16이므로 13정도로 패딩 범위를 정해주겠습니다"
   ]
  },
  {
   "cell_type": "code",
   "execution_count": 16,
   "id": "incident-serbia",
   "metadata": {},
   "outputs": [],
   "source": [
    "def below_threshold_len(max_len, nested_list):\n",
    "  cnt = 0\n",
    "  for s in nested_list:\n",
    "    if(len(s.split()) <= max_len):\n",
    "        cnt = cnt + 1\n",
    "  print('전체 샘플 중 길이가 %s 이하인 샘플의 비율: %s'%(max_len, (cnt / len(nested_list))))"
   ]
  },
  {
   "cell_type": "code",
   "execution_count": 17,
   "id": "sublime-wages",
   "metadata": {},
   "outputs": [
    {
     "name": "stdout",
     "output_type": "stream",
     "text": [
      "전체 샘플 중 길이가 45 이하인 샘플의 비율: 0.9967771451809678\n",
      "전체 샘플 중 길이가 13 이하인 샘플의 비율: 0.9981699877999186\n"
     ]
    }
   ],
   "source": [
    "text_max_len = 45\n",
    "summary_max_len = 13\n",
    "\n",
    "below_threshold_len(text_max_len, data['text'])\n",
    "below_threshold_len(summary_max_len,  data['headlines'])"
   ]
  },
  {
   "cell_type": "markdown",
   "id": "outstanding-holmes",
   "metadata": {},
   "source": [
    "너무 넉넉하게 범위를 정해줬는지도 모르겠습니다 범위를 바꿔보겠습니다."
   ]
  },
  {
   "cell_type": "code",
   "execution_count": 18,
   "id": "textile-career",
   "metadata": {},
   "outputs": [
    {
     "name": "stdout",
     "output_type": "stream",
     "text": [
      "전체 샘플 중 길이가 40 이하인 샘플의 비율: 0.9238714924766165\n",
      "전체 샘플 중 길이가 11 이하인 샘플의 비율: 0.9449877999186661\n"
     ]
    }
   ],
   "source": [
    "text_max_len = 40\n",
    "summary_max_len = 11\n",
    "\n",
    "below_threshold_len(text_max_len, data['text'])\n",
    "below_threshold_len(summary_max_len,  data['headlines'])"
   ]
  },
  {
   "cell_type": "markdown",
   "id": "foreign-plymouth",
   "metadata": {},
   "source": [
    "전체 데이터의 약 93%정도가 포함되므로 40, 11정도가 적절한 패딩 범위인것 같습니다  \n",
    "너무 길이가 긴 문장들은 잘라주는것이 학습에 좀더 도움이 될것같습니다"
   ]
  },
  {
   "cell_type": "code",
   "execution_count": 19,
   "id": "indonesian-scottish",
   "metadata": {},
   "outputs": [
    {
     "name": "stdout",
     "output_type": "stream",
     "text": [
      "전체 샘플수 : 85843\n"
     ]
    }
   ],
   "source": [
    "data = data[data['text'].apply(lambda x: len(x.split()) <= text_max_len)]\n",
    "data = data[data['headlines'].apply(lambda x: len(x.split()) <= summary_max_len)]\n",
    "print('전체 샘플수 :', (len(data)))"
   ]
  },
  {
   "cell_type": "code",
   "execution_count": 20,
   "id": "mounted-inquiry",
   "metadata": {},
   "outputs": [
    {
     "data": {
      "text/html": [
       "<div>\n",
       "<style scoped>\n",
       "    .dataframe tbody tr th:only-of-type {\n",
       "        vertical-align: middle;\n",
       "    }\n",
       "\n",
       "    .dataframe tbody tr th {\n",
       "        vertical-align: top;\n",
       "    }\n",
       "\n",
       "    .dataframe thead th {\n",
       "        text-align: right;\n",
       "    }\n",
       "</style>\n",
       "<table border=\"1\" class=\"dataframe\">\n",
       "  <thead>\n",
       "    <tr style=\"text-align: right;\">\n",
       "      <th></th>\n",
       "      <th>headlines</th>\n",
       "      <th>text</th>\n",
       "      <th>decoder_input</th>\n",
       "      <th>decoder_target</th>\n",
       "    </tr>\n",
       "  </thead>\n",
       "  <tbody>\n",
       "    <tr>\n",
       "      <th>0</th>\n",
       "      <td>upgrad learner switches to career in ml al wit...</td>\n",
       "      <td>saurav kant alumnus upgrad iiit pg program mac...</td>\n",
       "      <td>sostoken upgrad learner switches to career in ...</td>\n",
       "      <td>upgrad learner switches to career in ml al wit...</td>\n",
       "    </tr>\n",
       "    <tr>\n",
       "      <th>2</th>\n",
       "      <td>new zealand end rohit sharma led india match w...</td>\n",
       "      <td>new zealand defeated india wickets fourth odi ...</td>\n",
       "      <td>sostoken new zealand end rohit sharma led indi...</td>\n",
       "      <td>new zealand end rohit sharma led india match w...</td>\n",
       "    </tr>\n",
       "    <tr>\n",
       "      <th>3</th>\n",
       "      <td>aegon life iterm insurance plan helps customer...</td>\n",
       "      <td>aegon life iterm insurance plan customers enjo...</td>\n",
       "      <td>sostoken aegon life iterm insurance plan helps...</td>\n",
       "      <td>aegon life iterm insurance plan helps customer...</td>\n",
       "    </tr>\n",
       "    <tr>\n",
       "      <th>5</th>\n",
       "      <td>rahat fateh ali khan denies getting notice for...</td>\n",
       "      <td>pakistani singer rahat fateh ali khan denied r...</td>\n",
       "      <td>sostoken rahat fateh ali khan denies getting n...</td>\n",
       "      <td>rahat fateh ali khan denies getting notice for...</td>\n",
       "    </tr>\n",
       "    <tr>\n",
       "      <th>7</th>\n",
       "      <td>govt directs alok verma to join work day befor...</td>\n",
       "      <td>weeks ex cbi director alok verma told departme...</td>\n",
       "      <td>sostoken govt directs alok verma to join work ...</td>\n",
       "      <td>govt directs alok verma to join work day befor...</td>\n",
       "    </tr>\n",
       "  </tbody>\n",
       "</table>\n",
       "</div>"
      ],
      "text/plain": [
       "                                           headlines  \\\n",
       "0  upgrad learner switches to career in ml al wit...   \n",
       "2  new zealand end rohit sharma led india match w...   \n",
       "3  aegon life iterm insurance plan helps customer...   \n",
       "5  rahat fateh ali khan denies getting notice for...   \n",
       "7  govt directs alok verma to join work day befor...   \n",
       "\n",
       "                                                text  \\\n",
       "0  saurav kant alumnus upgrad iiit pg program mac...   \n",
       "2  new zealand defeated india wickets fourth odi ...   \n",
       "3  aegon life iterm insurance plan customers enjo...   \n",
       "5  pakistani singer rahat fateh ali khan denied r...   \n",
       "7  weeks ex cbi director alok verma told departme...   \n",
       "\n",
       "                                       decoder_input  \\\n",
       "0  sostoken upgrad learner switches to career in ...   \n",
       "2  sostoken new zealand end rohit sharma led indi...   \n",
       "3  sostoken aegon life iterm insurance plan helps...   \n",
       "5  sostoken rahat fateh ali khan denies getting n...   \n",
       "7  sostoken govt directs alok verma to join work ...   \n",
       "\n",
       "                                      decoder_target  \n",
       "0  upgrad learner switches to career in ml al wit...  \n",
       "2  new zealand end rohit sharma led india match w...  \n",
       "3  aegon life iterm insurance plan helps customer...  \n",
       "5  rahat fateh ali khan denies getting notice for...  \n",
       "7  govt directs alok verma to join work day befor...  "
      ]
     },
     "execution_count": 20,
     "metadata": {},
     "output_type": "execute_result"
    }
   ],
   "source": [
    "# 요약 데이터에는 시작 토큰과 종료 토큰을 추가한다.\n",
    "data['decoder_input'] = data['headlines'].apply(lambda x : 'sostoken '+ x)\n",
    "data['decoder_target'] = data['headlines'].apply(lambda x : x + ' eostoken')\n",
    "data.head()"
   ]
  },
  {
   "cell_type": "code",
   "execution_count": 21,
   "id": "deadly-immunology",
   "metadata": {},
   "outputs": [],
   "source": [
    "encoder_input = np.array(data['text']) # 인코더의 입력\n",
    "decoder_input = np.array(data['decoder_input']) # 디코더의 입력\n",
    "decoder_target = np.array(data['decoder_target']) # 디코더의 레이블\n",
    "\n",
    "indices = np.arange(encoder_input.shape[0])\n",
    "np.random.shuffle(indices)\n",
    "\n",
    "encoder_input = encoder_input[indices]\n",
    "decoder_input = decoder_input[indices]\n",
    "decoder_target = decoder_target[indices]"
   ]
  },
  {
   "cell_type": "code",
   "execution_count": 22,
   "id": "copyrighted-madagascar",
   "metadata": {},
   "outputs": [
    {
     "name": "stdout",
     "output_type": "stream",
     "text": [
      "테스트 데이터의 수 : 17168\n"
     ]
    }
   ],
   "source": [
    "n_of_val = int(len(encoder_input)*0.2)\n",
    "print('테스트 데이터의 수 :', n_of_val)"
   ]
  },
  {
   "cell_type": "code",
   "execution_count": 23,
   "id": "angry-purchase",
   "metadata": {},
   "outputs": [
    {
     "name": "stdout",
     "output_type": "stream",
     "text": [
      "훈련 데이터의 개수 : 68675\n",
      "훈련 레이블의 개수 : 68675\n",
      "테스트 데이터의 개수 : 17168\n",
      "테스트 레이블의 개수 : 17168\n"
     ]
    }
   ],
   "source": [
    "encoder_input_train = encoder_input[:-n_of_val]\n",
    "decoder_input_train = decoder_input[:-n_of_val]\n",
    "decoder_target_train = decoder_target[:-n_of_val]\n",
    "\n",
    "encoder_input_test = encoder_input[-n_of_val:]\n",
    "decoder_input_test = decoder_input[-n_of_val:]\n",
    "decoder_target_test = decoder_target[-n_of_val:]\n",
    "\n",
    "print('훈련 데이터의 개수 :', len(encoder_input_train))\n",
    "print('훈련 레이블의 개수 :', len(decoder_input_train))\n",
    "print('테스트 데이터의 개수 :', len(encoder_input_test))\n",
    "print('테스트 레이블의 개수 :', len(decoder_input_test))"
   ]
  },
  {
   "cell_type": "code",
   "execution_count": 24,
   "id": "minute-arcade",
   "metadata": {},
   "outputs": [],
   "source": [
    "src_tokenizer = Tokenizer() # 토크나이저 정의\n",
    "src_tokenizer.fit_on_texts(encoder_input_train) # 입력된 데이터로부터 단어 집합 생성"
   ]
  },
  {
   "cell_type": "code",
   "execution_count": 25,
   "id": "median-biotechnology",
   "metadata": {},
   "outputs": [
    {
     "name": "stdout",
     "output_type": "stream",
     "text": [
      "단어 집합(vocabulary)의 크기 : 64682\n",
      "등장 빈도가 9번 이하인 희귀 단어의 수: 47675\n",
      "단어 집합에서 희귀 단어를 제외시킬 경우의 단어 집합의 크기 17007\n",
      "단어 집합에서 희귀 단어의 비율: 73.70674994588911\n",
      "전체 등장 빈도에서 희귀 단어 등장 빈도 비율: 4.963045678517426\n"
     ]
    }
   ],
   "source": [
    "threshold = 10\n",
    "total_cnt = len(src_tokenizer.word_index) # 단어의 수\n",
    "rare_cnt = 0 # 등장 빈도수가 threshold보다 작은 단어의 개수를 카운트\n",
    "total_freq = 0 # 훈련 데이터의 전체 단어 빈도수 총 합\n",
    "rare_freq = 0 # 등장 빈도수가 threshold보다 작은 단어의 등장 빈도수의 총 합\n",
    "\n",
    "# 단어와 빈도수의 쌍(pair)을 key와 value로 받는다.\n",
    "for key, value in src_tokenizer.word_counts.items():\n",
    "    total_freq = total_freq + value\n",
    "\n",
    "    # 단어의 등장 빈도수가 threshold보다 작으면\n",
    "    if(value < threshold):\n",
    "        rare_cnt = rare_cnt + 1\n",
    "        rare_freq = rare_freq + value\n",
    "\n",
    "print('단어 집합(vocabulary)의 크기 :', total_cnt)\n",
    "print('등장 빈도가 %s번 이하인 희귀 단어의 수: %s'%(threshold - 1, rare_cnt))\n",
    "print('단어 집합에서 희귀 단어를 제외시킬 경우의 단어 집합의 크기 %s'%(total_cnt - rare_cnt))\n",
    "print(\"단어 집합에서 희귀 단어의 비율:\", (rare_cnt / total_cnt)*100)\n",
    "print(\"전체 등장 빈도에서 희귀 단어 등장 빈도 비율:\", (rare_freq / total_freq)*100)"
   ]
  },
  {
   "cell_type": "code",
   "execution_count": 26,
   "id": "primary-weekend",
   "metadata": {},
   "outputs": [],
   "source": [
    "src_vocab = 17000\n",
    "src_tokenizer = Tokenizer(num_words=src_vocab) # 단어 집합의 크기를 17,000으로 제한\n",
    "src_tokenizer.fit_on_texts(encoder_input_train) # 단어 집합 재생성"
   ]
  },
  {
   "cell_type": "code",
   "execution_count": 27,
   "id": "junior-listening",
   "metadata": {},
   "outputs": [
    {
     "name": "stdout",
     "output_type": "stream",
     "text": [
      "[[3959, 1157, 1162, 994, 86, 5584, 1745, 2288, 5335, 7786, 4440, 1798, 52, 817, 346, 7787, 8045, 705, 6754, 151, 676, 5335, 3960, 9616, 855, 730, 6, 533, 2723, 52, 346, 2581, 345, 298], [11872, 827, 270, 827, 5404, 129, 2354, 6755, 1636, 2267, 750, 1560, 1258, 1022, 11872, 827, 1636, 2267, 7190, 1022, 270, 827, 1636, 1640, 118, 9015, 8490, 7086, 5404, 129, 2354, 1636, 11873, 3880, 27], [328, 962, 210, 1353, 1197, 386, 421, 2741, 131, 114, 824, 9401, 328, 339, 1353, 1197, 112, 215, 94, 962, 101, 339, 1197, 622, 421, 2741, 192, 155, 700, 84, 792, 112, 754, 84]]\n"
     ]
    }
   ],
   "source": [
    "# 텍스트 시퀀스를 정수 시퀀스로 변환\n",
    "encoder_input_train = src_tokenizer.texts_to_sequences(encoder_input_train) \n",
    "encoder_input_test = src_tokenizer.texts_to_sequences(encoder_input_test)\n",
    "\n",
    "# 잘 진행되었는지 샘플 출력\n",
    "print(encoder_input_train[:3])"
   ]
  },
  {
   "cell_type": "code",
   "execution_count": 28,
   "id": "valued-disease",
   "metadata": {},
   "outputs": [],
   "source": [
    "tar_tokenizer = Tokenizer()\n",
    "tar_tokenizer.fit_on_texts(decoder_input_train)"
   ]
  },
  {
   "cell_type": "code",
   "execution_count": 29,
   "id": "devoted-majority",
   "metadata": {},
   "outputs": [
    {
     "name": "stdout",
     "output_type": "stream",
     "text": [
      "단어 집합(vocabulary)의 크기 : 28457\n",
      "등장 빈도가 8번 이하인 희귀 단어의 수: 20839\n",
      "단어 집합에서 희귀 단어를 제외시킬 경우의 단어 집합의 크기 7618\n",
      "단어 집합에서 희귀 단어의 비율: 73.2297852900868\n",
      "전체 등장 빈도에서 희귀 단어 등장 빈도 비율: 7.264705290194172\n"
     ]
    }
   ],
   "source": [
    "threshold = 9\n",
    "total_cnt = len(tar_tokenizer.word_index) # 단어의 수\n",
    "rare_cnt = 0 # 등장 빈도수가 threshold보다 작은 단어의 개수를 카운트\n",
    "total_freq = 0 # 훈련 데이터의 전체 단어 빈도수 총 합\n",
    "rare_freq = 0 # 등장 빈도수가 threshold보다 작은 단어의 등장 빈도수의 총 합\n",
    "\n",
    "# 단어와 빈도수의 쌍(pair)을 key와 value로 받는다.\n",
    "for key, value in tar_tokenizer.word_counts.items():\n",
    "    total_freq = total_freq + value\n",
    "\n",
    "    # 단어의 등장 빈도수가 threshold보다 작으면\n",
    "    if(value < threshold):\n",
    "        rare_cnt = rare_cnt + 1\n",
    "        rare_freq = rare_freq + value\n",
    "\n",
    "print('단어 집합(vocabulary)의 크기 :', total_cnt)\n",
    "print('등장 빈도가 %s번 이하인 희귀 단어의 수: %s'%(threshold - 1, rare_cnt))\n",
    "print('단어 집합에서 희귀 단어를 제외시킬 경우의 단어 집합의 크기 %s'%(total_cnt - rare_cnt))\n",
    "print(\"단어 집합에서 희귀 단어의 비율:\", (rare_cnt / total_cnt)*100)\n",
    "print(\"전체 등장 빈도에서 희귀 단어 등장 빈도 비율:\", (rare_freq / total_freq)*100)"
   ]
  },
  {
   "cell_type": "code",
   "execution_count": 30,
   "id": "mediterranean-cocktail",
   "metadata": {},
   "outputs": [
    {
     "name": "stdout",
     "output_type": "stream",
     "text": [
      "input\n",
      "input  [[1, 3498, 1969, 3, 69, 4089, 4090, 7081, 5, 65, 1004], [1, 15, 1252, 532, 27, 5, 2946, 5165, 670], [1, 918, 274, 1375, 718, 2552, 608, 5, 422, 2066], [1, 93, 383, 3, 311, 695, 216, 1302, 366, 39], [1, 15, 19, 30, 40, 566, 3, 824, 201, 410, 767, 1741]]\n",
      "target\n",
      "decoder  [[3498, 1969, 3, 69, 4089, 4090, 7081, 5, 65, 1004, 2], [15, 1252, 532, 27, 5, 2946, 5165, 670, 2], [918, 274, 1375, 718, 2552, 608, 5, 422, 2066, 2], [93, 383, 3, 311, 695, 216, 1302, 366, 39, 2], [15, 19, 30, 40, 566, 3, 824, 201, 410, 767, 1741, 2]]\n"
     ]
    }
   ],
   "source": [
    "tar_vocab = 7500\n",
    "tar_tokenizer = Tokenizer(num_words=tar_vocab) \n",
    "tar_tokenizer.fit_on_texts(decoder_input_train)\n",
    "tar_tokenizer.fit_on_texts(decoder_target_train)\n",
    "\n",
    "# 텍스트 시퀀스를 정수 시퀀스로 변환\n",
    "decoder_input_train = tar_tokenizer.texts_to_sequences(decoder_input_train) \n",
    "decoder_target_train = tar_tokenizer.texts_to_sequences(decoder_target_train)\n",
    "decoder_input_test = tar_tokenizer.texts_to_sequences(decoder_input_test)\n",
    "decoder_target_test = tar_tokenizer.texts_to_sequences(decoder_target_test)\n",
    "\n",
    "# 잘 변환되었는지 확인\n",
    "print('input')\n",
    "print('input ',decoder_input_train[:5])\n",
    "print('target')\n",
    "print('decoder ',decoder_target_train[:5])"
   ]
  },
  {
   "cell_type": "code",
   "execution_count": 31,
   "id": "biblical-genetics",
   "metadata": {},
   "outputs": [
    {
     "name": "stdout",
     "output_type": "stream",
     "text": [
      "삭제할 훈련 데이터의 개수 : 1\n",
      "삭제할 테스트 데이터의 개수 : 0\n",
      "훈련 데이터의 개수 : 68674\n",
      "훈련 레이블의 개수 : 68674\n",
      "테스트 데이터의 개수 : 17168\n",
      "테스트 레이블의 개수 : 17168\n"
     ]
    },
    {
     "name": "stderr",
     "output_type": "stream",
     "text": [
      "/opt/conda/lib/python3.7/site-packages/numpy/core/_asarray.py:83: VisibleDeprecationWarning: Creating an ndarray from ragged nested sequences (which is a list-or-tuple of lists-or-tuples-or ndarrays with different lengths or shapes) is deprecated. If you meant to do this, you must specify 'dtype=object' when creating the ndarray\n",
      "  return array(a, dtype, copy=False, order=order)\n"
     ]
    }
   ],
   "source": [
    "drop_train = [index for index, sentence in enumerate(decoder_input_train) if len(sentence) == 1]\n",
    "drop_test = [index for index, sentence in enumerate(decoder_input_test) if len(sentence) == 1]\n",
    "\n",
    "print('삭제할 훈련 데이터의 개수 :', len(drop_train))\n",
    "print('삭제할 테스트 데이터의 개수 :', len(drop_test))\n",
    "\n",
    "encoder_input_train = np.delete(encoder_input_train, drop_train, axis=0)\n",
    "decoder_input_train = np.delete(decoder_input_train, drop_train, axis=0)\n",
    "decoder_target_train = np.delete(decoder_target_train, drop_train, axis=0)\n",
    "\n",
    "encoder_input_test = np.delete(encoder_input_test, drop_test, axis=0)\n",
    "decoder_input_test = np.delete(decoder_input_test, drop_test, axis=0)\n",
    "decoder_target_test = np.delete(decoder_target_test, drop_test, axis=0)\n",
    "\n",
    "print('훈련 데이터의 개수 :', len(encoder_input_train))\n",
    "print('훈련 레이블의 개수 :', len(decoder_input_train))\n",
    "print('테스트 데이터의 개수 :', len(encoder_input_test))\n",
    "print('테스트 레이블의 개수 :', len(decoder_input_test))"
   ]
  },
  {
   "cell_type": "code",
   "execution_count": 32,
   "id": "german-mining",
   "metadata": {},
   "outputs": [],
   "source": [
    "encoder_input_train = pad_sequences(encoder_input_train, maxlen=text_max_len, padding='post')\n",
    "encoder_input_test = pad_sequences(encoder_input_test, maxlen=text_max_len, padding='post')\n",
    "decoder_input_train = pad_sequences(decoder_input_train, maxlen=summary_max_len, padding='post')\n",
    "decoder_target_train = pad_sequences(decoder_target_train, maxlen=summary_max_len, padding='post')\n",
    "decoder_input_test = pad_sequences(decoder_input_test, maxlen=summary_max_len, padding='post')\n",
    "decoder_target_test = pad_sequences(decoder_target_test, maxlen=summary_max_len, padding='post')"
   ]
  },
  {
   "cell_type": "code",
   "execution_count": 33,
   "id": "weekly-belle",
   "metadata": {},
   "outputs": [
    {
     "name": "stdout",
     "output_type": "stream",
     "text": [
      "WARNING:tensorflow:Layer lstm will not use cuDNN kernel since it doesn't meet the cuDNN kernel criteria. It will use generic GPU kernel as fallback when running on GPU\n",
      "WARNING:tensorflow:Layer lstm_1 will not use cuDNN kernel since it doesn't meet the cuDNN kernel criteria. It will use generic GPU kernel as fallback when running on GPU\n",
      "WARNING:tensorflow:Layer lstm_2 will not use cuDNN kernel since it doesn't meet the cuDNN kernel criteria. It will use generic GPU kernel as fallback when running on GPU\n"
     ]
    }
   ],
   "source": [
    "from tensorflow.keras.layers import Input, LSTM, Embedding, Dense, Concatenate\n",
    "from tensorflow.keras.models import Model\n",
    "from tensorflow.keras.callbacks import EarlyStopping, ModelCheckpoint\n",
    "\n",
    "\n",
    "# 인코더 설계 시작\n",
    "embedding_dim = 128\n",
    "hidden_size = 256\n",
    "\n",
    "# 인코더\n",
    "encoder_inputs = Input(shape=(text_max_len,))\n",
    "\n",
    "# 인코더의 임베딩 층\n",
    "enc_emb = Embedding(src_vocab, embedding_dim)(encoder_inputs)\n",
    "\n",
    "# 인코더의 LSTM 1\n",
    "encoder_lstm1 = LSTM(hidden_size, return_sequences=True, return_state=True ,dropout = 0.4, recurrent_dropout = 0.4)\n",
    "encoder_output1, state_h1, state_c1 = encoder_lstm1(enc_emb)\n",
    "\n",
    "# 인코더의 LSTM 2\n",
    "encoder_lstm2 = LSTM(hidden_size, return_sequences=True, return_state=True, dropout=0.4, recurrent_dropout=0.4)\n",
    "encoder_output2, state_h2, state_c2 = encoder_lstm2(encoder_output1)\n",
    "\n",
    "# 인코더의 LSTM 3\n",
    "encoder_lstm3 = LSTM(hidden_size, return_state=True, return_sequences=True, dropout=0.4, recurrent_dropout=0.4)\n",
    "encoder_outputs, state_h, state_c= encoder_lstm3(encoder_output2)"
   ]
  },
  {
   "cell_type": "code",
   "execution_count": 34,
   "id": "incorporate-gathering",
   "metadata": {},
   "outputs": [
    {
     "name": "stdout",
     "output_type": "stream",
     "text": [
      "WARNING:tensorflow:Layer lstm_3 will not use cuDNN kernel since it doesn't meet the cuDNN kernel criteria. It will use generic GPU kernel as fallback when running on GPU\n"
     ]
    }
   ],
   "source": [
    "# 디코더 설계\n",
    "decoder_inputs = Input(shape=(None,))\n",
    "\n",
    "# 디코더의 임베딩 층\n",
    "dec_emb_layer = Embedding(tar_vocab, embedding_dim)\n",
    "dec_emb = dec_emb_layer(decoder_inputs)\n",
    "\n",
    "# 디코더의 LSTM\n",
    "decoder_lstm = LSTM(hidden_size, return_sequences=True, return_state=True, dropout=0.4, recurrent_dropout=0.2)\n",
    "decoder_outputs, _, _ = decoder_lstm(dec_emb, initial_state=[state_h, state_c])"
   ]
  },
  {
   "cell_type": "code",
   "execution_count": 35,
   "id": "several-citizen",
   "metadata": {},
   "outputs": [
    {
     "name": "stdout",
     "output_type": "stream",
     "text": [
      "Model: \"model\"\n",
      "__________________________________________________________________________________________________\n",
      "Layer (type)                    Output Shape         Param #     Connected to                     \n",
      "==================================================================================================\n",
      "input_1 (InputLayer)            [(None, 40)]         0                                            \n",
      "__________________________________________________________________________________________________\n",
      "embedding (Embedding)           (None, 40, 128)      2176000     input_1[0][0]                    \n",
      "__________________________________________________________________________________________________\n",
      "lstm (LSTM)                     [(None, 40, 256), (N 394240      embedding[0][0]                  \n",
      "__________________________________________________________________________________________________\n",
      "input_2 (InputLayer)            [(None, None)]       0                                            \n",
      "__________________________________________________________________________________________________\n",
      "lstm_1 (LSTM)                   [(None, 40, 256), (N 525312      lstm[0][0]                       \n",
      "__________________________________________________________________________________________________\n",
      "embedding_1 (Embedding)         (None, None, 128)    960000      input_2[0][0]                    \n",
      "__________________________________________________________________________________________________\n",
      "lstm_2 (LSTM)                   [(None, 40, 256), (N 525312      lstm_1[0][0]                     \n",
      "__________________________________________________________________________________________________\n",
      "lstm_3 (LSTM)                   [(None, None, 256),  394240      embedding_1[0][0]                \n",
      "                                                                 lstm_2[0][1]                     \n",
      "                                                                 lstm_2[0][2]                     \n",
      "__________________________________________________________________________________________________\n",
      "dense (Dense)                   (None, None, 7500)   1927500     lstm_3[0][0]                     \n",
      "==================================================================================================\n",
      "Total params: 6,902,604\n",
      "Trainable params: 6,902,604\n",
      "Non-trainable params: 0\n",
      "__________________________________________________________________________________________________\n"
     ]
    }
   ],
   "source": [
    "# 디코더의 출력층\n",
    "decoder_softmax_layer = Dense(tar_vocab, activation='softmax')\n",
    "decoder_softmax_outputs = decoder_softmax_layer(decoder_outputs) \n",
    "\n",
    "# 모델 정의\n",
    "model = Model([encoder_inputs, decoder_inputs], decoder_softmax_outputs)\n",
    "model.summary()"
   ]
  },
  {
   "cell_type": "code",
   "execution_count": 36,
   "id": "extensive-somewhere",
   "metadata": {},
   "outputs": [],
   "source": [
    "urllib.request.urlretrieve(\"https://raw.githubusercontent.com/thushv89/attention_keras/master/src/layers/attention.py\", filename=\"attention.py\")\n",
    "from attention import AttentionLayer"
   ]
  },
  {
   "cell_type": "code",
   "execution_count": 37,
   "id": "efficient-facing",
   "metadata": {},
   "outputs": [
    {
     "name": "stdout",
     "output_type": "stream",
     "text": [
      "Model: \"model_1\"\n",
      "__________________________________________________________________________________________________\n",
      "Layer (type)                    Output Shape         Param #     Connected to                     \n",
      "==================================================================================================\n",
      "input_1 (InputLayer)            [(None, 40)]         0                                            \n",
      "__________________________________________________________________________________________________\n",
      "embedding (Embedding)           (None, 40, 128)      2176000     input_1[0][0]                    \n",
      "__________________________________________________________________________________________________\n",
      "lstm (LSTM)                     [(None, 40, 256), (N 394240      embedding[0][0]                  \n",
      "__________________________________________________________________________________________________\n",
      "input_2 (InputLayer)            [(None, None)]       0                                            \n",
      "__________________________________________________________________________________________________\n",
      "lstm_1 (LSTM)                   [(None, 40, 256), (N 525312      lstm[0][0]                       \n",
      "__________________________________________________________________________________________________\n",
      "embedding_1 (Embedding)         (None, None, 128)    960000      input_2[0][0]                    \n",
      "__________________________________________________________________________________________________\n",
      "lstm_2 (LSTM)                   [(None, 40, 256), (N 525312      lstm_1[0][0]                     \n",
      "__________________________________________________________________________________________________\n",
      "lstm_3 (LSTM)                   [(None, None, 256),  394240      embedding_1[0][0]                \n",
      "                                                                 lstm_2[0][1]                     \n",
      "                                                                 lstm_2[0][2]                     \n",
      "__________________________________________________________________________________________________\n",
      "attention_layer (AttentionLayer ((None, None, 256),  131328      lstm_2[0][0]                     \n",
      "                                                                 lstm_3[0][0]                     \n",
      "__________________________________________________________________________________________________\n",
      "concat_layer (Concatenate)      (None, None, 512)    0           lstm_3[0][0]                     \n",
      "                                                                 attention_layer[0][0]            \n",
      "__________________________________________________________________________________________________\n",
      "dense_1 (Dense)                 (None, None, 7500)   3847500     concat_layer[0][0]               \n",
      "==================================================================================================\n",
      "Total params: 8,953,932\n",
      "Trainable params: 8,953,932\n",
      "Non-trainable params: 0\n",
      "__________________________________________________________________________________________________\n"
     ]
    }
   ],
   "source": [
    "# 어텐션 층(어텐션 함수)\n",
    "attn_layer = AttentionLayer(name='attention_layer')\n",
    "# 인코더와 디코더의 모든 time step의 hidden state를 어텐션 층에 전달하고 결과를 리턴\n",
    "attn_out, attn_states = attn_layer([encoder_outputs, decoder_outputs])\n",
    "\n",
    "# 어텐션의 결과와 디코더의 hidden state들을 연결\n",
    "decoder_concat_input = Concatenate(axis=-1, name='concat_layer')([decoder_outputs, attn_out])\n",
    "\n",
    "# 디코더의 출력층\n",
    "decoder_softmax_layer = Dense(tar_vocab, activation='softmax')\n",
    "decoder_softmax_outputs = decoder_softmax_layer(decoder_concat_input)\n",
    "\n",
    "# 모델 정의\n",
    "model = Model([encoder_inputs, decoder_inputs], decoder_softmax_outputs)\n",
    "model.summary()"
   ]
  },
  {
   "cell_type": "code",
   "execution_count": 38,
   "id": "photographic-hunter",
   "metadata": {},
   "outputs": [
    {
     "name": "stdout",
     "output_type": "stream",
     "text": [
      "Epoch 1/50\n",
      "269/269 [==============================] - 205s 718ms/step - loss: 6.1487 - val_loss: 5.3799\n",
      "Epoch 2/50\n",
      "269/269 [==============================] - 192s 715ms/step - loss: 5.3160 - val_loss: 5.0151\n",
      "Epoch 3/50\n",
      "269/269 [==============================] - 192s 714ms/step - loss: 4.9110 - val_loss: 4.7168\n",
      "Epoch 4/50\n",
      "269/269 [==============================] - 194s 723ms/step - loss: 4.6192 - val_loss: 4.5230\n",
      "Epoch 5/50\n",
      "269/269 [==============================] - 194s 720ms/step - loss: 4.3928 - val_loss: 4.3695\n",
      "Epoch 6/50\n",
      "269/269 [==============================] - 193s 717ms/step - loss: 4.1962 - val_loss: 4.2389\n",
      "Epoch 7/50\n",
      "269/269 [==============================] - 193s 717ms/step - loss: 4.0351 - val_loss: 4.1433\n",
      "Epoch 8/50\n",
      "269/269 [==============================] - 195s 724ms/step - loss: 3.8901 - val_loss: 4.0735\n",
      "Epoch 9/50\n",
      "269/269 [==============================] - 194s 722ms/step - loss: 3.7620 - val_loss: 4.0063\n",
      "Epoch 10/50\n",
      "269/269 [==============================] - 199s 738ms/step - loss: 3.6557 - val_loss: 3.9564\n",
      "Epoch 11/50\n",
      "269/269 [==============================] - 193s 717ms/step - loss: 3.5612 - val_loss: 3.9140\n",
      "Epoch 12/50\n",
      "269/269 [==============================] - 193s 716ms/step - loss: 3.4713 - val_loss: 3.8802\n",
      "Epoch 13/50\n",
      "269/269 [==============================] - 194s 720ms/step - loss: 3.3908 - val_loss: 3.8431\n",
      "Epoch 14/50\n",
      "269/269 [==============================] - 192s 715ms/step - loss: 3.3146 - val_loss: 3.8144\n",
      "Epoch 15/50\n",
      "269/269 [==============================] - 192s 715ms/step - loss: 3.2505 - val_loss: 3.7900\n",
      "Epoch 16/50\n",
      "269/269 [==============================] - 193s 717ms/step - loss: 3.1794 - val_loss: 3.7731\n",
      "Epoch 17/50\n",
      "269/269 [==============================] - 193s 716ms/step - loss: 3.1215 - val_loss: 3.7548\n",
      "Epoch 18/50\n",
      "269/269 [==============================] - 193s 716ms/step - loss: 3.0742 - val_loss: 3.7442\n",
      "Epoch 19/50\n",
      "269/269 [==============================] - 193s 717ms/step - loss: 3.0120 - val_loss: 3.7307\n",
      "Epoch 20/50\n",
      "269/269 [==============================] - 192s 716ms/step - loss: 2.9692 - val_loss: 3.7290\n",
      "Epoch 21/50\n",
      "269/269 [==============================] - 193s 717ms/step - loss: 2.9278 - val_loss: 3.7147\n",
      "Epoch 22/50\n",
      "269/269 [==============================] - 192s 715ms/step - loss: 2.8825 - val_loss: 3.7062\n",
      "Epoch 23/50\n",
      "269/269 [==============================] - 192s 715ms/step - loss: 2.8352 - val_loss: 3.6996\n",
      "Epoch 24/50\n",
      "269/269 [==============================] - 192s 715ms/step - loss: 2.8042 - val_loss: 3.6996\n",
      "Epoch 25/50\n",
      "269/269 [==============================] - 192s 713ms/step - loss: 2.7649 - val_loss: 3.7030\n",
      "Epoch 00025: early stopping\n"
     ]
    }
   ],
   "source": [
    "model.compile(optimizer='rmsprop', loss='sparse_categorical_crossentropy')\n",
    "es = EarlyStopping(monitor='val_loss', patience=2, verbose=1)\n",
    "history = model.fit(x=[encoder_input_train, decoder_input_train], y=decoder_target_train, \\\n",
    "          validation_data=([encoder_input_test, decoder_input_test], decoder_target_test), \\\n",
    "          batch_size=256, callbacks=[es], epochs=50)"
   ]
  },
  {
   "cell_type": "code",
   "execution_count": 39,
   "id": "supreme-tamil",
   "metadata": {},
   "outputs": [
    {
     "data": {
      "image/png": "[encoded data removed]",
      "text/plain": [
       "<Figure size 432x288 with 1 Axes>"
      ]
     },
     "metadata": {
      "needs_background": "light"
     },
     "output_type": "display_data"
    }
   ],
   "source": [
    "plt.plot(history.history['loss'], label='train')\n",
    "plt.plot(history.history['val_loss'], label='test')\n",
    "plt.legend()\n",
    "plt.show()"
   ]
  },
  {
   "cell_type": "markdown",
   "id": "protecting-baghdad",
   "metadata": {},
   "source": [
    "노드에서는 3번째에서 멈췄는데 여기선 무려 25Epoch까지 가는군요... val_loss 3.7030에서 early stop 되었습니다"
   ]
  },
  {
   "cell_type": "code",
   "execution_count": 40,
   "id": "delayed-experience",
   "metadata": {},
   "outputs": [],
   "source": [
    "src_index_to_word = src_tokenizer.index_word # 원문 단어 집합에서 정수 -> 단어를 얻음\n",
    "tar_word_to_index = tar_tokenizer.word_index # 요약 단어 집합에서 단어 -> 정수를 얻음\n",
    "tar_index_to_word = tar_tokenizer.index_word # 요약 단어 집합에서 정수 -> 단어를 얻음"
   ]
  },
  {
   "cell_type": "code",
   "execution_count": 41,
   "id": "controversial-timer",
   "metadata": {},
   "outputs": [],
   "source": [
    "# 인코더 설계\n",
    "encoder_model = Model(inputs=encoder_inputs, outputs=[encoder_outputs, state_h, state_c])\n",
    "\n",
    "# 이전 시점의 상태들을 저장하는 텐서\n",
    "decoder_state_input_h = Input(shape=(hidden_size,))\n",
    "decoder_state_input_c = Input(shape=(hidden_size,))\n",
    "\n",
    "dec_emb2 = dec_emb_layer(decoder_inputs)\n",
    "\n",
    "# 문장의 다음 단어를 예측하기 위해서 초기 상태(initial_state)를 이전 시점의 상태로 사용. 이는 뒤의 함수 decode_sequence()에 구현\n",
    "# 훈련 과정에서와 달리 LSTM의 리턴하는 은닉 상태와 셀 상태인 state_h와 state_c를 버리지 않음.\n",
    "decoder_outputs2, state_h2, state_c2 = decoder_lstm(dec_emb2, initial_state=[decoder_state_input_h, decoder_state_input_c])"
   ]
  },
  {
   "cell_type": "code",
   "execution_count": 42,
   "id": "medium-lighting",
   "metadata": {},
   "outputs": [],
   "source": [
    "# 어텐션 함수\n",
    "decoder_hidden_state_input = Input(shape=(text_max_len, hidden_size))\n",
    "attn_out_inf, attn_states_inf = attn_layer([decoder_hidden_state_input, decoder_outputs2])\n",
    "decoder_inf_concat = Concatenate(axis=-1, name='concat')([decoder_outputs2, attn_out_inf])\n",
    "\n",
    "# 디코더의 출력층\n",
    "decoder_outputs2 = decoder_softmax_layer(decoder_inf_concat) \n",
    "\n",
    "# 최종 디코더 모델\n",
    "decoder_model = Model(\n",
    "    [decoder_inputs] + [decoder_hidden_state_input,decoder_state_input_h, decoder_state_input_c],\n",
    "    [decoder_outputs2] + [state_h2, state_c2])"
   ]
  },
  {
   "cell_type": "code",
   "execution_count": 43,
   "id": "coupled-overhead",
   "metadata": {},
   "outputs": [],
   "source": [
    "def decode_sequence(input_seq):\n",
    "    # 입력으로부터 인코더의 상태를 얻음\n",
    "    e_out, e_h, e_c = encoder_model.predict(input_seq)\n",
    "\n",
    "     # <SOS>에 해당하는 토큰 생성\n",
    "    target_seq = np.zeros((1,1))\n",
    "    target_seq[0, 0] = tar_word_to_index['sostoken']\n",
    "\n",
    "    stop_condition = False\n",
    "    decoded_sentence = ''\n",
    "    while not stop_condition: # stop_condition이 True가 될 때까지 루프 반복\n",
    "\n",
    "        output_tokens, h, c = decoder_model.predict([target_seq] + [e_out, e_h, e_c])\n",
    "        sampled_token_index = np.argmax(output_tokens[0, -1, :])\n",
    "        sampled_token = tar_index_to_word[sampled_token_index]\n",
    "\n",
    "        if (sampled_token!='eostoken'):\n",
    "            decoded_sentence += ' '+sampled_token\n",
    "\n",
    "        #  <eos>에 도달하거나 최대 길이를 넘으면 중단.\n",
    "        if (sampled_token == 'eostoken'  or len(decoded_sentence.split()) >= (summary_max_len-1)):\n",
    "            stop_condition = True\n",
    "\n",
    "        # 길이가 1인 타겟 시퀀스를 업데이트\n",
    "        target_seq = np.zeros((1,1))\n",
    "        target_seq[0, 0] = sampled_token_index\n",
    "\n",
    "        # 상태를 업데이트 합니다.\n",
    "        e_h, e_c = h, c\n",
    "\n",
    "    return decoded_sentence"
   ]
  },
  {
   "cell_type": "code",
   "execution_count": 44,
   "id": "intelligent-bosnia",
   "metadata": {},
   "outputs": [],
   "source": [
    "# 원문의 정수 시퀀스를 텍스트 시퀀스로 변환\n",
    "def seq2text(input_seq):\n",
    "    temp=''\n",
    "    for i in input_seq:\n",
    "        if (i!=0):\n",
    "            temp = temp + src_index_to_word[i]+' '\n",
    "    return temp\n",
    "\n",
    "# 요약문의 정수 시퀀스를 텍스트 시퀀스로 변환\n",
    "def seq2summary(input_seq):\n",
    "    temp=''\n",
    "    for i in input_seq:\n",
    "        if ((i!=0 and i!=tar_word_to_index['sostoken']) and i!=tar_word_to_index['eostoken']):\n",
    "            temp = temp + tar_index_to_word[i] + ' '\n",
    "    return temp"
   ]
  },
  {
   "cell_type": "code",
   "execution_count": 45,
   "id": "brave-mention",
   "metadata": {},
   "outputs": [
    {
     "name": "stdout",
     "output_type": "stream",
     "text": [
      "원문 : india bowled south africa lowest ever odi total home dismissing runs overs second odi centurion sunday spinners kuldeep yadav yuzvendra chahal shared eight wickets six south african batsmen failed cross double digits south africa previous lowest odi total home \n",
      "실제 요약 : india dismiss sa for their lowest odi total at home \n",
      "예측 요약 :  india end their th odi odi total in years\n",
      "\n",
      "\n",
      "원문 : talking actor turned politician remark violence anti sterlite protest caused anti social elements chief kamal haasan said protesters anti social added protests fighting guns knives even guns brought people character face open heart \n",
      "실제 요약 : if anti sterlite protestors are anti social so am haasan \n",
      "예측 요약 :  naseeruddin protests on sterlite protests\n",
      "\n",
      "\n",
      "원문 : uk based named new vodka soviet era type nerve agent allegedly used poison former russian spy sergei skripal daughter company faced widespread criticism move woman uk died following exposure deadly nerve agent vodka sold within hours release \n",
      "실제 요약 : company names after russian poison used on former spy \n",
      "예측 요약 :  uk queen elizabeth ii hacked uk spy on uk citizenship\n",
      "\n",
      "\n",
      "원문 : us administration dismissed third party role resolving kashmir dispute india pakistan believe pace scope character discussion kashmir two sides determine said comes chinese ambassador india said trilateral cooperation india china pakistan could help resolve issue \n",
      "실제 요약 : us dismisses third party role in kashmir dispute \n",
      "예측 요약 :  pak has not to pak india chief\n",
      "\n",
      "\n",
      "원문 : pakistan launched military operation administered tribal areas targeting islamic state pakistan army said militant group growing strength inside afghanistan prompting country launch operation border areas isis claimed carried several attacks pakistan past two years \n",
      "실제 요약 : pakistan launches military operation against isis \n",
      "예측 요약 :  pakistan pakistan to attack along afghanistan\n",
      "\n",
      "\n",
      "원문 : two boys member teenage football team trapped thailand cave two weeks successfully rescued sunday rescue official said boys reportedly swam completed walk cave chambers two kids currently field hospital near cave said official rescue team \n",
      "실제 요약 : first boys stuck in thai cave for weeks successfully rescued \n",
      "예측 요약 :  boys rescued from thai cave rescued\n",
      "\n",
      "\n",
      "원문 : filmmaker nandy said actress divya dutta role upcoming film babumoshai bandookbaaz based late tamil nadu chief minister jayalalithaa film fictional similarities divya character jayalalithaa begin end fact plays female politician go getter added \n",
      "실제 요약 : role in babumoshai bandookbaaz not inspired by amma \n",
      "예측 요약 :  nawazuddin shares pics of rajinikanth over cauvery row\n",
      "\n",
      "\n",
      "원문 : cisco chairman john chambers said firms using visas take indians american workers lower costs mistake chambers also chairman us india strategic partnership forum said two nations work together create opportunities employment created countries win lose situation added \n",
      "실제 요약 : using visas to replace us workers mistake boss \n",
      "예측 요약 :  infosys to hire visa to create jobs in us\n",
      "\n",
      "\n",
      "원문 : las vegas attack become deadliest mass shooting us history people killed others injured adding identified killed year old local resident suspect police said believe acted alone connected militant group \n",
      "실제 요약 : las vegas mass shooting deadliest in us history kills \n",
      "예측 요약 :  las vegas shooter killed in shooting at las vegas shooting\n",
      "\n",
      "\n",
      "원문 : man teaching school west bengal arrested sunday allegedly molesting three girl students aged nine years showing pornography last three years accused would force children remove clothes touch inappropriately victim parent claimed sent judicial custody \n",
      "실제 요약 : wb teacher molests girl students shows them porn \n",
      "예측 요약 :  man held for raping year old girl in up\n",
      "\n",
      "\n",
      "원문 : sweden holding biggest ever military drill years aurora exercise support nato countries comes amid growing concerns among nato countries russia drills belarus referring security situation europe swedish officials said watching closely russia \n",
      "실제 요약 : sweden conducts biggest war games in years \n",
      "예측 요약 :  sweden to return to return to hit drills against countries\n",
      "\n",
      "\n",
      "원문 : tamil nadu reported first case zika virus bringing tally mosquito transmitted infection india four health authorities said year old patient recovered history travel countries outbreak probably encountered infection locally notably previous three cases confirmed may coming ahmedabad \n",
      "실제 요약 : tamil nadu reports its first case of india fourth \n",
      "예측 요약 :  tn to have sex in tn\n",
      "\n",
      "\n",
      "원문 : sanjay dutt suffered rib fracture shooting fight sequence group men film bhoomi dutt got injured jump went wrong scene film climax shot dutt advised rest continued shooting taking rest breaks \n",
      "실제 요약 : dutt suffers at shoot of fight scene \n",
      "예측 요약 :  sanjay dutt to play in jail for showing him\n",
      "\n",
      "\n",
      "원문 : bcci announced member squad play two ireland part team india first tour country years two held country capital dublin june june squad face england three july july \n",
      "실제 요약 : bcci announces india squad for st ireland tour in years \n",
      "예측 요약 :  bcci to play indian team in india since\n",
      "\n",
      "\n",
      "원문 : reacting spacex falcon rocket launch friday user tweeted guys relax elon musk playing toys another user said next time give us warning thinking aliens trying invade spacex founder elon musk also tweeted saying nuclear alien north korea \n",
      "실제 요약 : musk playing with his tweets user on spacex launch \n",
      "예측 요약 :  spacex rocket spacex rocket elon musk\n",
      "\n",
      "\n",
      "원문 : store owner delhi area arrested charges molesting year old girl come shop buy groceries accused caught customer filmed video incident uploaded social media according locals first time accused targeted children \n",
      "실제 요약 : delhi store owner caught on video molesting yr old girl \n",
      "예측 요약 :  delhi teacher held for raping year old girl\n",
      "\n",
      "\n",
      "원문 : speaking ahead indian team departure champions trophy captain virat kohli said veteran players ms dhoni yuvraj singh strongest pillars indian cricket team asked personal form ahead tournament kohli said would never play play keep winning \n",
      "실제 요약 : dhoni yuvraj the strongest of team india kohli \n",
      "예측 요약 :  kohli dhoni is the captain of the team captain\n",
      "\n",
      "\n",
      "원문 : class student madurai school allegedly committed suicide hanging scolded sending prank message police said sent message saying holiday school students absent day scolded following boy ended life police said \n",
      "실제 요약 : boy hangs himself after being scolded for sending prank \n",
      "예측 요약 :  class student commits suicide after failing to school school\n",
      "\n",
      "\n",
      "원문 : research scholar indira gandhi national open university went missing jnu campus monday gone patna dip ganga returned police said thursday police added upset breaking girlfriend left patna directly campus \n",
      "실제 요약 : missing student found had gone for dip in ganga police \n",
      "예측 요약 :  indian origin student professor in hyderabad\n",
      "\n",
      "\n",
      "원문 : sachin tendulkar turned today player twice defended six fewer runs odi final sachin first handed india win semifinal defending six runs final south africa repeated feat defending six runs odi australia \n",
      "실제 요약 : sachin only odi player to defend runs in last over twice \n",
      "예측 요약 :  sachin tendulkar takes sachin tendulkar record\n",
      "\n",
      "\n",
      "원문 : first look poster sidharth malhotra manoj bajpayee starrer aiyaary unveiled manoj retweeted poster captioned aiyaary also tale friendship heart brace film reportedly crime thriller scheduled release january \n",
      "실제 요약 : first look poster of sidharth manoj aiyaary unveiled \n",
      "예측 요약 :  first poster of sidharth malhotra starrer aiyaary out\n",
      "\n",
      "\n",
      "원문 : american rapper cent earned nearly million bitcoin admitted forgot earning bitcoins via sales album animal ambition bitcoins worth cent filed bankruptcy declaring debts million assets less million \n",
      "실제 요약 : says he he had now worth mn \n",
      "예측 요약 :  billionaire george billionaire buys mn bitcoin\n",
      "\n",
      "\n",
      "원문 : shuttler saina nehwal sunday defeated world number three pv sindhu first ever indian women singles final commonwealth games nehwal claimed second commonwealth games singles gold medal delhi games nehwal indian female badminton player win singles gold commonwealth games history \n",
      "실제 요약 : saina nehwal beats pv sindhu to win second cwg singles gold \n",
      "예측 요약 :  saina wins saina open to win silver at cwg\n",
      "\n",
      "\n",
      "원문 : iraqi city mosul celebrated first christmas four years defeating seized country mass sending message peace love christ messenger peace iraq catholic church said iraqi forces expelled mosul july fully country month nnn \n",
      "실제 요약 : iraq mosul celebrates st christmas in yrs post is defeat \n",
      "예측 요약 :  iraqi forces to be st to return to isis victims\n",
      "\n",
      "\n",
      "원문 : th president us john kennedy assassinated november motorcade travelling dallas texas vice president johnson sworn country th president day assassin lee harvey shot killed days later could go trial \n",
      "실제 요약 : us prez john was years ago \n",
      "예측 요약 :  president george elected president of putin\n",
      "\n",
      "\n",
      "원문 : playing first odi ireland women year old leg spinner murray friday conceded runs overs new zealand women bowler odi four ireland women bowlers gave away plus runs innings former australian men team fast bowler mick lewis conceded previous runs \n",
      "실제 요약 : yr old player runs the most ever in an odi \n",
      "예측 요약 :  st odi to odi odi series after years\n",
      "\n",
      "\n",
      "원문 : according reports alauddin khilji played ranveer singh upcoming film padmavati portrayed bisexual film reportedly relationship khilji slave general malik played jim khilji rajput queen padmavati played deepika padukone major plot film \n",
      "실제 요약 : ranveer character in padmavati shown as report \n",
      "예측 요약 :  ranveer to star in ranveer film on padmavati report\n",
      "\n",
      "\n",
      "원문 : shahid kapoor said afraid losing fame popularity fame popularity products idea worry opposed happens added shahid said afraid losing opportunities work best filmmakers get best opportunities \n",
      "실제 요약 : am not afraid of losing out on fame and shahid \n",
      "예측 요약 :  do not know what do not mean it shahid\n",
      "\n",
      "\n",
      "원문 : days saying narendra modi first indian prime minister reach indians countries like nepal union minister sushma swaraj tweeted mistake part sincerely apologise comes nepalese parliamentarian criticised swaraj calling nepal residents indians describing casual undermining nepal sovereignty \n",
      "실제 요약 : swaraj apologises for saying pm indians in nepal \n",
      "예측 요약 :  pm narendra modi tweets swaraj to sushma swaraj\n",
      "\n",
      "\n",
      "원문 : defence minister nirmala sitharaman monday said china building military infrastructure including posts disputed doklam region maintain troops winters justifying construction activities doklam china earlier said exercising sovereignty territory notably bhutan also claims parts doklam region \n",
      "실제 요약 : china building other infra in doklam india \n",
      "예측 요약 :  rafale deal can be in doklam defence minister\n",
      "\n",
      "\n",
      "원문 : former new zealand pacer current mumbai indians bowling coach shane bond said indian pacer jasprit bumrah world number one bowler limited overs cricket every team looking someone job end innings particular better bowler jasprit bond said \n",
      "실제 요약 : bumrah world number one limited overs bowler ex nz pacer \n",
      "예측 요약 :  england captain once bowled to be named in\n",
      "\n",
      "\n",
      "원문 : sun pharma shares plunged much monday following reports sebi may reopen insider trading case drugmaker comes whistleblower reportedly alleged financial irregularities company md dilip others august sun pharma nine others settled insider trading probe paying lakh settlement charges \n",
      "실제 요약 : sun pharma plunges as insider trading case may reopen \n",
      "예측 요약 :  rcom shares fall on shares fall after loss\n",
      "\n",
      "\n",
      "원문 : australian researchers discovered year old spider recently died previous world record holder year old found mexico research project initiated barbara york main monitored long term spider population years region western australia said university researcher mason \n",
      "실제 요약 : world oldest known spider dies aged in australia \n",
      "예측 요약 :  year old oldest oldest fossil found in years\n",
      "\n",
      "\n",
      "원문 : kapil sharma six seasons comedy reality show comedy circus row final season kapil paired tied winners along krushna abhishek comedian turns today tv personality featured forbes india celebrity list \n",
      "실제 요약 : kapil sharma won of comedy reality show in row \n",
      "예측 요약 :  kapil sharma features on kapil sharma show\n",
      "\n",
      "\n",
      "원문 : delhi high court monday directed spicejet deposit crore cash crore bank guarantee court providing interim relief previous order asked spicejet pay crore kal airways came court asked firms begin arbitration share transfer dispute \n",
      "실제 요약 : hc orders spicejet to deposit cr in row \n",
      "예측 요약 :  delhi hc orders cr fine on mallya sale of cr\n",
      "\n",
      "\n",
      "원문 : leeco founder jia yueting failed comply court order return china deal company debts official response directive jia said needed stay us work electric car startup faraday future earlier yueting ordered return country december \n",
      "실제 요약 : leeco founder court order to return to china \n",
      "예측 요약 :  leeco founder files mn bid for china over faulty dispute\n",
      "\n",
      "\n",
      "원문 : slamming rahul gandhi calling gst gabbar singh tax union minister giriraj singh friday said gandhi making mistake body language resembled character gabbar singh behind closed doors finance ministers extend support gst outside term gabbar singh tax double standards added \n",
      "실제 요약 : rahul body language like singh union minister \n",
      "예측 요약 :  twitter reacts to rahul gandhi gst on gst\n",
      "\n",
      "\n",
      "원문 : brihanmumbai municipal corporation ordered demolition stalls selling ganpati idols mumbai dadar saturday impossible walk ganeshotsav people forced walk roads unsafe ngo said added fewer traffic jams freed pedestrians \n",
      "실제 요약 : bmc to illegal stalls selling ganpati idols \n",
      "예측 요약 :  mumbai civic body to mumbai civic body\n",
      "\n",
      "\n",
      "원문 : actor verma known negative roles bollywood films like son got attacked highway robbers mount abu rajasthan hospitalised received ten stitches near eyebrows wife claimed even police scared visit area attacked tribals pelted rocks car \n",
      "실제 요약 : son of actor gets attacked by highway robbers \n",
      "예측 요약 :  actor actor vinod khanna passes away\n",
      "\n",
      "\n",
      "원문 : private lender kotak mahindra bank monday beat state bank india first time become second valued bank country kotak mahindra bank market value trillion sbi market value trillion hdfc bank remained country valuable bank market capitalisation trillion \n",
      "실제 요약 : kotak overtakes sbi as india second most valuable bank \n",
      "예측 요약 :  kotak bank bank account for first time in years\n",
      "\n",
      "\n",
      "원문 : ambulance driver arrested maharashtra allegedly smuggling liquor vehicle police intercepted accused tip found bottles indian made foreign liquor worth hidden inside driver placed suspension according reports \n",
      "실제 요약 : ambulance driver held for smuggling liquor in maharashtra \n",
      "예측 요약 :  driver steals cr from bus rams into highways\n",
      "\n",
      "\n",
      "원문 : independent senator island state australia announced resignation tuesday issue dual citizenship became eighth mp resign issue said recently learned british nationality per australia constitution dual citizens allowed run federal office \n",
      "실제 요약 : australian mp resigns amid dual citizenship crisis \n",
      "예측 요약 :  us to resign as general general general\n",
      "\n",
      "\n",
      "원문 : actor kamal haasan said liked salman khan compared actor amitabh bachchan host reality television show bigg boss added liked salman version better honest approach notably kamal seen hosting tamil version show \n",
      "실제 요약 : liked salman better than amitabh in bigg boss kamal \n",
      "예측 요약 :  salman katrina to appear on bigg boss in karan\n",
      "\n",
      "\n",
      "원문 : plus sized model shared experience passenger next allegedly fat shamed flight man allegedly started texting friend joked hoped eaten mexican seen holy sh face confronted wrote facebook \n",
      "실제 요약 : plus size model slams man who that she ate mexican \n",
      "예측 요약 :  man claims she was dragged off plane with her\n",
      "\n",
      "\n",
      "원문 : un unanimously passed new sanctions north korea friday us president donald trump tweeted world wants peace death sanctions imposed test launch intercontinental ballistic missile north korea last month meanwhile north korea called sanctions act war claiming us nuclear force \n",
      "실제 요약 : the world wants peace not death trump on un korea vote \n",
      "예측 요약 :  un sanctions on north korea nuclear crisis un\n",
      "\n",
      "\n",
      "원문 : us cafe end claimed starbucks stole idea unicorn themed beverage end started selling unicorn december trademark drink name pending since january starbucks launched unicorn april limited run item cafe seeking compensation public apology \n",
      "실제 요약 : us cafe accuses starbucks of stealing its unicorn drink \n",
      "예측 요약 :  us firm to pay for crore to be\n",
      "\n",
      "\n",
      "원문 : real estate major dlf working towards making housing business debt free march next year company ceo rajeev talwar said sale proceeds worth around crore would utilised fund new projects added earlier company said pre launch sales would sell completed flats \n",
      "실제 요약 : working to make housing business debt free by march ceo \n",
      "예측 요약 :  group to sell businesses to sell businesses for cr\n",
      "\n",
      "\n",
      "원문 : responding tanushree dutta sexual harassment allegations nana patekar maharashtra navnirman sena chief raj thackeray said women must raise voice face oppression years adding knows nana thackeray said indecent crazy things think thing court look thackeray said \n",
      "실제 요약 : women must raise voice when not after yrs thackeray \n",
      "예측 요약 :  tanushree calls for nana patekar\n",
      "\n",
      "\n",
      "원문 : former colleague texas church shooter revealed bought animals classified ads website use targets shooting practice would make jokes wanting kill somebody would say wait funny said added stopped admission \n",
      "실제 요약 : texas church shooter bought animals for target practice \n",
      "예측 요약 :  journo slammed for using gay nude pics on instagram\n",
      "\n",
      "\n",
      "원문 : saif al islam gaddafi son former libyan dictator gaddafi released prison amnesty according libya militia held five years militia group said acting request interim government gaddafi wanted international criminal court alleged war crimes crimes humanity \n",
      "실제 요약 : son released after five years of prison in libya \n",
      "예측 요약 :  dawood son death from saudi arabia\n",
      "\n",
      "\n"
     ]
    }
   ],
   "source": [
    "for i in range(50, 100):\n",
    "    print(\"원문 :\", seq2text(encoder_input_test[i]))\n",
    "    print(\"실제 요약 :\", seq2summary(decoder_input_test[i]))\n",
    "    print(\"예측 요약 :\", decode_sequence(encoder_input_test[i].reshape(1, text_max_len)))\n",
    "    print(\"\\n\")"
   ]
  },
  {
   "cell_type": "markdown",
   "id": "southeast-timer",
   "metadata": {},
   "source": [
    "제가 영어를 잘 못해서 요약을 제대로 했는지 확실치 않지만 그럭저럭 괜찮게 요약한것 같습니다.  \n",
    "다만 한두개씩 비슷한척 하는 엉뚱한 내용이 있네요  "
   ]
  },
  {
   "cell_type": "code",
   "execution_count": null,
   "id": "conventional-momentum",
   "metadata": {},
   "outputs": [],
   "source": [
    "# 텍스트 시퀀스를 정수 시퀀스로 변환\n",
    "encoder_input_train = src_tokenizer.texts_to_sequences(encoder_input_train) \n",
    "encoder_input_test = src_tokenizer.texts_to_sequences(encoder_input_test)\n",
    "\n",
    "# 잘 진행되었는지 샘플 출력\n",
    "print(encoder_input_train[:3])"
   ]
  },
  {
   "cell_type": "code",
   "execution_count": 134,
   "id": "republican-force",
   "metadata": {},
   "outputs": [
    {
     "name": "stdout",
     "output_type": "stream",
     "text": [
      "원문 : india bowled south africa lowest ever odi total home dismissing runs overs second odi centurion sunday spinners kuldeep yadav yuzvendra chahal shared eight wickets six south african batsmen failed cross double digits south africa previous lowest odi total home \n",
      "실제 요약 : india dismiss sa for their lowest odi total at home \n",
      "예측 요약(추출) : \n",
      "\n",
      "\n",
      "원문 : talking actor turned politician remark violence anti sterlite protest caused anti social elements chief kamal haasan said protesters anti social added protests fighting guns knives even guns brought people character face open heart \n",
      "실제 요약 : if anti sterlite protestors are anti social so am haasan \n",
      "예측 요약(추출) : \n",
      "\n",
      "\n",
      "원문 : uk based named new vodka soviet era type nerve agent allegedly used poison former russian spy sergei skripal daughter company faced widespread criticism move woman uk died following exposure deadly nerve agent vodka sold within hours release \n",
      "실제 요약 : company names after russian poison used on former spy \n",
      "예측 요약(추출) : \n",
      "\n",
      "\n",
      "원문 : us administration dismissed third party role resolving kashmir dispute india pakistan believe pace scope character discussion kashmir two sides determine said comes chinese ambassador india said trilateral cooperation india china pakistan could help resolve issue \n",
      "실제 요약 : us dismisses third party role in kashmir dispute \n",
      "예측 요약(추출) : \n",
      "\n",
      "\n",
      "원문 : pakistan launched military operation administered tribal areas targeting islamic state pakistan army said militant group growing strength inside afghanistan prompting country launch operation border areas isis claimed carried several attacks pakistan past two years \n",
      "실제 요약 : pakistan launches military operation against isis \n",
      "예측 요약(추출) : \n",
      "\n",
      "\n",
      "원문 : two boys member teenage football team trapped thailand cave two weeks successfully rescued sunday rescue official said boys reportedly swam completed walk cave chambers two kids currently field hospital near cave said official rescue team \n",
      "실제 요약 : first boys stuck in thai cave for weeks successfully rescued \n",
      "예측 요약(추출) : \n",
      "\n",
      "\n",
      "원문 : filmmaker nandy said actress divya dutta role upcoming film babumoshai bandookbaaz based late tamil nadu chief minister jayalalithaa film fictional similarities divya character jayalalithaa begin end fact plays female politician go getter added \n",
      "실제 요약 : role in babumoshai bandookbaaz not inspired by amma \n",
      "예측 요약(추출) : \n",
      "\n",
      "\n",
      "원문 : cisco chairman john chambers said firms using visas take indians american workers lower costs mistake chambers also chairman us india strategic partnership forum said two nations work together create opportunities employment created countries win lose situation added \n",
      "실제 요약 : using visas to replace us workers mistake boss \n",
      "예측 요약(추출) : \n",
      "\n",
      "\n",
      "원문 : las vegas attack become deadliest mass shooting us history people killed others injured adding identified killed year old local resident suspect police said believe acted alone connected militant group \n",
      "실제 요약 : las vegas mass shooting deadliest in us history kills \n",
      "예측 요약(추출) : \n",
      "\n",
      "\n",
      "원문 : man teaching school west bengal arrested sunday allegedly molesting three girl students aged nine years showing pornography last three years accused would force children remove clothes touch inappropriately victim parent claimed sent judicial custody \n",
      "실제 요약 : wb teacher molests girl students shows them porn \n",
      "예측 요약(추출) : \n",
      "\n",
      "\n",
      "원문 : sweden holding biggest ever military drill years aurora exercise support nato countries comes amid growing concerns among nato countries russia drills belarus referring security situation europe swedish officials said watching closely russia \n",
      "실제 요약 : sweden conducts biggest war games in years \n",
      "예측 요약(추출) : \n",
      "\n",
      "\n",
      "원문 : tamil nadu reported first case zika virus bringing tally mosquito transmitted infection india four health authorities said year old patient recovered history travel countries outbreak probably encountered infection locally notably previous three cases confirmed may coming ahmedabad \n",
      "실제 요약 : tamil nadu reports its first case of india fourth \n",
      "예측 요약(추출) : \n",
      "\n",
      "\n",
      "원문 : sanjay dutt suffered rib fracture shooting fight sequence group men film bhoomi dutt got injured jump went wrong scene film climax shot dutt advised rest continued shooting taking rest breaks \n",
      "실제 요약 : dutt suffers at shoot of fight scene \n",
      "예측 요약(추출) : \n",
      "\n",
      "\n",
      "원문 : bcci announced member squad play two ireland part team india first tour country years two held country capital dublin june june squad face england three july july \n",
      "실제 요약 : bcci announces india squad for st ireland tour in years \n",
      "예측 요약(추출) : \n",
      "\n",
      "\n",
      "원문 : reacting spacex falcon rocket launch friday user tweeted guys relax elon musk playing toys another user said next time give us warning thinking aliens trying invade spacex founder elon musk also tweeted saying nuclear alien north korea \n",
      "실제 요약 : musk playing with his tweets user on spacex launch \n",
      "예측 요약(추출) : \n",
      "\n",
      "\n",
      "원문 : store owner delhi area arrested charges molesting year old girl come shop buy groceries accused caught customer filmed video incident uploaded social media according locals first time accused targeted children \n",
      "실제 요약 : delhi store owner caught on video molesting yr old girl \n",
      "예측 요약(추출) : \n",
      "\n",
      "\n",
      "원문 : speaking ahead indian team departure champions trophy captain virat kohli said veteran players ms dhoni yuvraj singh strongest pillars indian cricket team asked personal form ahead tournament kohli said would never play play keep winning \n",
      "실제 요약 : dhoni yuvraj the strongest of team india kohli \n",
      "예측 요약(추출) : \n",
      "\n",
      "\n",
      "원문 : class student madurai school allegedly committed suicide hanging scolded sending prank message police said sent message saying holiday school students absent day scolded following boy ended life police said \n",
      "실제 요약 : boy hangs himself after being scolded for sending prank \n",
      "예측 요약(추출) : \n",
      "\n",
      "\n",
      "원문 : research scholar indira gandhi national open university went missing jnu campus monday gone patna dip ganga returned police said thursday police added upset breaking girlfriend left patna directly campus \n",
      "실제 요약 : missing student found had gone for dip in ganga police \n",
      "예측 요약(추출) : \n",
      "\n",
      "\n",
      "원문 : sachin tendulkar turned today player twice defended six fewer runs odi final sachin first handed india win semifinal defending six runs final south africa repeated feat defending six runs odi australia \n",
      "실제 요약 : sachin only odi player to defend runs in last over twice \n",
      "예측 요약(추출) : \n",
      "\n",
      "\n",
      "원문 : first look poster sidharth malhotra manoj bajpayee starrer aiyaary unveiled manoj retweeted poster captioned aiyaary also tale friendship heart brace film reportedly crime thriller scheduled release january \n",
      "실제 요약 : first look poster of sidharth manoj aiyaary unveiled \n",
      "예측 요약(추출) : \n",
      "\n",
      "\n",
      "원문 : american rapper cent earned nearly million bitcoin admitted forgot earning bitcoins via sales album animal ambition bitcoins worth cent filed bankruptcy declaring debts million assets less million \n",
      "실제 요약 : says he he had now worth mn \n",
      "예측 요약(추출) : \n",
      "\n",
      "\n",
      "원문 : shuttler saina nehwal sunday defeated world number three pv sindhu first ever indian women singles final commonwealth games nehwal claimed second commonwealth games singles gold medal delhi games nehwal indian female badminton player win singles gold commonwealth games history \n",
      "실제 요약 : saina nehwal beats pv sindhu to win second cwg singles gold \n",
      "예측 요약(추출) : \n",
      "\n",
      "\n",
      "원문 : iraqi city mosul celebrated first christmas four years defeating seized country mass sending message peace love christ messenger peace iraq catholic church said iraqi forces expelled mosul july fully country month nnn \n",
      "실제 요약 : iraq mosul celebrates st christmas in yrs post is defeat \n",
      "예측 요약(추출) : \n",
      "\n",
      "\n",
      "원문 : th president us john kennedy assassinated november motorcade travelling dallas texas vice president johnson sworn country th president day assassin lee harvey shot killed days later could go trial \n",
      "실제 요약 : us prez john was years ago \n",
      "예측 요약(추출) : \n",
      "\n",
      "\n",
      "원문 : playing first odi ireland women year old leg spinner murray friday conceded runs overs new zealand women bowler odi four ireland women bowlers gave away plus runs innings former australian men team fast bowler mick lewis conceded previous runs \n",
      "실제 요약 : yr old player runs the most ever in an odi \n",
      "예측 요약(추출) : \n",
      "\n",
      "\n",
      "원문 : according reports alauddin khilji played ranveer singh upcoming film padmavati portrayed bisexual film reportedly relationship khilji slave general malik played jim khilji rajput queen padmavati played deepika padukone major plot film \n",
      "실제 요약 : ranveer character in padmavati shown as report \n",
      "예측 요약(추출) : \n",
      "\n",
      "\n",
      "원문 : shahid kapoor said afraid losing fame popularity fame popularity products idea worry opposed happens added shahid said afraid losing opportunities work best filmmakers get best opportunities \n",
      "실제 요약 : am not afraid of losing out on fame and shahid \n",
      "예측 요약(추출) : \n",
      "\n",
      "\n",
      "원문 : days saying narendra modi first indian prime minister reach indians countries like nepal union minister sushma swaraj tweeted mistake part sincerely apologise comes nepalese parliamentarian criticised swaraj calling nepal residents indians describing casual undermining nepal sovereignty \n",
      "실제 요약 : swaraj apologises for saying pm indians in nepal \n",
      "예측 요약(추출) : \n",
      "\n",
      "\n",
      "원문 : defence minister nirmala sitharaman monday said china building military infrastructure including posts disputed doklam region maintain troops winters justifying construction activities doklam china earlier said exercising sovereignty territory notably bhutan also claims parts doklam region \n",
      "실제 요약 : china building other infra in doklam india \n",
      "예측 요약(추출) : \n",
      "\n",
      "\n",
      "원문 : former new zealand pacer current mumbai indians bowling coach shane bond said indian pacer jasprit bumrah world number one bowler limited overs cricket every team looking someone job end innings particular better bowler jasprit bond said \n",
      "실제 요약 : bumrah world number one limited overs bowler ex nz pacer \n",
      "예측 요약(추출) : \n",
      "\n",
      "\n",
      "원문 : sun pharma shares plunged much monday following reports sebi may reopen insider trading case drugmaker comes whistleblower reportedly alleged financial irregularities company md dilip others august sun pharma nine others settled insider trading probe paying lakh settlement charges \n",
      "실제 요약 : sun pharma plunges as insider trading case may reopen \n",
      "예측 요약(추출) : \n",
      "\n",
      "\n",
      "원문 : australian researchers discovered year old spider recently died previous world record holder year old found mexico research project initiated barbara york main monitored long term spider population years region western australia said university researcher mason \n",
      "실제 요약 : world oldest known spider dies aged in australia \n",
      "예측 요약(추출) : \n",
      "\n",
      "\n",
      "원문 : kapil sharma six seasons comedy reality show comedy circus row final season kapil paired tied winners along krushna abhishek comedian turns today tv personality featured forbes india celebrity list \n",
      "실제 요약 : kapil sharma won of comedy reality show in row \n",
      "예측 요약(추출) : \n",
      "\n",
      "\n",
      "원문 : delhi high court monday directed spicejet deposit crore cash crore bank guarantee court providing interim relief previous order asked spicejet pay crore kal airways came court asked firms begin arbitration share transfer dispute \n",
      "실제 요약 : hc orders spicejet to deposit cr in row \n",
      "예측 요약(추출) : \n",
      "\n",
      "\n",
      "원문 : leeco founder jia yueting failed comply court order return china deal company debts official response directive jia said needed stay us work electric car startup faraday future earlier yueting ordered return country december \n",
      "실제 요약 : leeco founder court order to return to china \n",
      "예측 요약(추출) : \n",
      "\n",
      "\n",
      "원문 : slamming rahul gandhi calling gst gabbar singh tax union minister giriraj singh friday said gandhi making mistake body language resembled character gabbar singh behind closed doors finance ministers extend support gst outside term gabbar singh tax double standards added \n",
      "실제 요약 : rahul body language like singh union minister \n",
      "예측 요약(추출) : \n",
      "\n",
      "\n",
      "원문 : brihanmumbai municipal corporation ordered demolition stalls selling ganpati idols mumbai dadar saturday impossible walk ganeshotsav people forced walk roads unsafe ngo said added fewer traffic jams freed pedestrians \n",
      "실제 요약 : bmc to illegal stalls selling ganpati idols \n",
      "예측 요약(추출) : \n",
      "\n",
      "\n",
      "원문 : actor verma known negative roles bollywood films like son got attacked highway robbers mount abu rajasthan hospitalised received ten stitches near eyebrows wife claimed even police scared visit area attacked tribals pelted rocks car \n",
      "실제 요약 : son of actor gets attacked by highway robbers \n",
      "예측 요약(추출) : \n",
      "\n",
      "\n",
      "원문 : private lender kotak mahindra bank monday beat state bank india first time become second valued bank country kotak mahindra bank market value trillion sbi market value trillion hdfc bank remained country valuable bank market capitalisation trillion \n",
      "실제 요약 : kotak overtakes sbi as india second most valuable bank \n",
      "예측 요약(추출) : \n",
      "\n",
      "\n",
      "원문 : ambulance driver arrested maharashtra allegedly smuggling liquor vehicle police intercepted accused tip found bottles indian made foreign liquor worth hidden inside driver placed suspension according reports \n",
      "실제 요약 : ambulance driver held for smuggling liquor in maharashtra \n",
      "예측 요약(추출) : \n",
      "\n",
      "\n",
      "원문 : independent senator island state australia announced resignation tuesday issue dual citizenship became eighth mp resign issue said recently learned british nationality per australia constitution dual citizens allowed run federal office \n",
      "실제 요약 : australian mp resigns amid dual citizenship crisis \n",
      "예측 요약(추출) : \n",
      "\n",
      "\n",
      "원문 : actor kamal haasan said liked salman khan compared actor amitabh bachchan host reality television show bigg boss added liked salman version better honest approach notably kamal seen hosting tamil version show \n",
      "실제 요약 : liked salman better than amitabh in bigg boss kamal \n",
      "예측 요약(추출) : \n",
      "\n",
      "\n",
      "원문 : plus sized model shared experience passenger next allegedly fat shamed flight man allegedly started texting friend joked hoped eaten mexican seen holy sh face confronted wrote facebook \n",
      "실제 요약 : plus size model slams man who that she ate mexican \n",
      "예측 요약(추출) : \n",
      "\n",
      "\n",
      "원문 : un unanimously passed new sanctions north korea friday us president donald trump tweeted world wants peace death sanctions imposed test launch intercontinental ballistic missile north korea last month meanwhile north korea called sanctions act war claiming us nuclear force \n",
      "실제 요약 : the world wants peace not death trump on un korea vote \n",
      "예측 요약(추출) : \n",
      "\n",
      "\n",
      "원문 : us cafe end claimed starbucks stole idea unicorn themed beverage end started selling unicorn december trademark drink name pending since january starbucks launched unicorn april limited run item cafe seeking compensation public apology \n",
      "실제 요약 : us cafe accuses starbucks of stealing its unicorn drink \n",
      "예측 요약(추출) : \n",
      "\n",
      "\n",
      "원문 : real estate major dlf working towards making housing business debt free march next year company ceo rajeev talwar said sale proceeds worth around crore would utilised fund new projects added earlier company said pre launch sales would sell completed flats \n",
      "실제 요약 : working to make housing business debt free by march ceo \n",
      "예측 요약(추출) : \n",
      "\n",
      "\n",
      "원문 : responding tanushree dutta sexual harassment allegations nana patekar maharashtra navnirman sena chief raj thackeray said women must raise voice face oppression years adding knows nana thackeray said indecent crazy things think thing court look thackeray said \n",
      "실제 요약 : women must raise voice when not after yrs thackeray \n",
      "예측 요약(추출) : \n",
      "\n",
      "\n",
      "원문 : former colleague texas church shooter revealed bought animals classified ads website use targets shooting practice would make jokes wanting kill somebody would say wait funny said added stopped admission \n",
      "실제 요약 : texas church shooter bought animals for target practice \n",
      "예측 요약(추출) : \n",
      "\n",
      "\n",
      "원문 : saif al islam gaddafi son former libyan dictator gaddafi released prison amnesty according libya militia held five years militia group said acting request interim government gaddafi wanted international criminal court alleged war crimes crimes humanity \n",
      "실제 요약 : son released after five years of prison in libya \n",
      "예측 요약(추출) : \n",
      "\n",
      "\n"
     ]
    }
   ],
   "source": [
    "import requests\n",
    "from summa.summarizer import summarize\n",
    "\n",
    "#print('Summary:')\n",
    "#print(summarize(text, words=50))\n",
    "#뉴스기사 summa로 50개 샘플 추출적 요악하기\n",
    "for i in range(50, 100):\n",
    "    print(\"원문 :\", seq2text(encoder_input_test[i]))\n",
    "    print(\"실제 요약 :\", seq2summary(decoder_input_test[i]))\n",
    "    #print(\"예측 요약(추출) :\", decode_sequence(encoder_input_test[i].reshape(1, text_max_len)))\n",
    "    print(\"예측 요약(추출) :\", summarize(seq2text(encoder_input_test[i]), words=15))\n",
    "    print(\"\\n\")"
   ]
  },
  {
   "cell_type": "code",
   "execution_count": 67,
   "id": "expanded-spending",
   "metadata": {},
   "outputs": [
    {
     "name": "stdout",
     "output_type": "stream",
     "text": [
      "Summary:\n",
      "You can watch both Act I's and Act 2's cinematics in the GameSpot video below.\n"
     ]
    }
   ],
   "source": [
    "print('Summary:')\n",
    "print(summarize(\"Diablo II: Resurrected's early access beta test kicks off later this week, and it includes the game's brand-new cinematics. But you don't have to wait to watch them, as developer Blizzard released the Act I an Act 2 cinematics ahead of time--and they look stunning.They show a vast improvement over the cinematics you may remember from 2000. The lighting and other atmospheric effects really shine, and the level of detail on character models is impressive. You can watch both Act I's and Act 2's cinematics in the GameSpot video below.\", words=10))"
   ]
  },
  {
   "cell_type": "code",
   "execution_count": 76,
   "id": "detected-armor",
   "metadata": {},
   "outputs": [
    {
     "name": "stdout",
     "output_type": "stream",
     "text": [
      "Summary:\n",
      "[]\n"
     ]
    }
   ],
   "source": [
    "print('Summary:')\n",
    "print(summarize(\" australian researchers discovered year old spider recently died previous world record holder year old found mexico research project initiated barbara york main monitored long term spider population years region western australia said university researcher mason\", split=True))"
   ]
  },
  {
   "cell_type": "markdown",
   "id": "above-opera",
   "metadata": {},
   "source": [
    "그냥 인터넷에서 가져온 뉴스기사는 잘 작동이 되는데 전처리된 데이터로는 summarizer가 작동이 안되는거로 봐서  \n",
    "summarizer안에 전처리 기능이 이미 내장되있어서 전처리된 데이터는 처리를 못하는것같습니다.  \n",
    "원본 데이터를 이용하겠습니다"
   ]
  },
  {
   "cell_type": "code",
   "execution_count": 116,
   "id": "endangered-impossible",
   "metadata": {},
   "outputs": [
    {
     "data": {
      "text/html": [
       "<div>\n",
       "<style scoped>\n",
       "    .dataframe tbody tr th:only-of-type {\n",
       "        vertical-align: middle;\n",
       "    }\n",
       "\n",
       "    .dataframe tbody tr th {\n",
       "        vertical-align: top;\n",
       "    }\n",
       "\n",
       "    .dataframe thead th {\n",
       "        text-align: right;\n",
       "    }\n",
       "</style>\n",
       "<table border=\"1\" class=\"dataframe\">\n",
       "  <thead>\n",
       "    <tr style=\"text-align: right;\">\n",
       "      <th></th>\n",
       "      <th>text</th>\n",
       "    </tr>\n",
       "  </thead>\n",
       "  <tbody>\n",
       "    <tr>\n",
       "      <th>0</th>\n",
       "      <td>Saurav Kant, an alumnus of upGrad and IIIT-B's...</td>\n",
       "    </tr>\n",
       "    <tr>\n",
       "      <th>1</th>\n",
       "      <td>Kunal Shah's credit card bill payment platform...</td>\n",
       "    </tr>\n",
       "    <tr>\n",
       "      <th>2</th>\n",
       "      <td>New Zealand defeated India by 8 wickets in the...</td>\n",
       "    </tr>\n",
       "    <tr>\n",
       "      <th>3</th>\n",
       "      <td>With Aegon Life iTerm Insurance plan, customer...</td>\n",
       "    </tr>\n",
       "    <tr>\n",
       "      <th>4</th>\n",
       "      <td>Speaking about the sexual harassment allegatio...</td>\n",
       "    </tr>\n",
       "    <tr>\n",
       "      <th>...</th>\n",
       "      <td>...</td>\n",
       "    </tr>\n",
       "    <tr>\n",
       "      <th>98396</th>\n",
       "      <td>A CRPF jawan was on Tuesday axed to death with...</td>\n",
       "    </tr>\n",
       "    <tr>\n",
       "      <th>98397</th>\n",
       "      <td>'Uff Yeh', the first song from the Sonakshi Si...</td>\n",
       "    </tr>\n",
       "    <tr>\n",
       "      <th>98398</th>\n",
       "      <td>According to reports, a new version of the 199...</td>\n",
       "    </tr>\n",
       "    <tr>\n",
       "      <th>98399</th>\n",
       "      <td>A new music video shows rapper Snoop Dogg aimi...</td>\n",
       "    </tr>\n",
       "    <tr>\n",
       "      <th>98400</th>\n",
       "      <td>Madhesi Morcha, an alliance of seven political...</td>\n",
       "    </tr>\n",
       "  </tbody>\n",
       "</table>\n",
       "<p>98401 rows × 1 columns</p>\n",
       "</div>"
      ],
      "text/plain": [
       "                                                    text\n",
       "0      Saurav Kant, an alumnus of upGrad and IIIT-B's...\n",
       "1      Kunal Shah's credit card bill payment platform...\n",
       "2      New Zealand defeated India by 8 wickets in the...\n",
       "3      With Aegon Life iTerm Insurance plan, customer...\n",
       "4      Speaking about the sexual harassment allegatio...\n",
       "...                                                  ...\n",
       "98396  A CRPF jawan was on Tuesday axed to death with...\n",
       "98397  'Uff Yeh', the first song from the Sonakshi Si...\n",
       "98398  According to reports, a new version of the 199...\n",
       "98399  A new music video shows rapper Snoop Dogg aimi...\n",
       "98400  Madhesi Morcha, an alliance of seven political...\n",
       "\n",
       "[98401 rows x 1 columns]"
      ]
     },
     "execution_count": 116,
     "metadata": {},
     "output_type": "execute_result"
    }
   ],
   "source": [
    "urllib.request.urlretrieve(\"https://raw.githubusercontent.com/sunnysai12345/News_Summary/master/news_summary_more.csv\", filename=\"news_summary_more.csv\")\n",
    "originText = pd.read_csv('news_summary_more.csv', encoding='iso-8859-1')\n",
    "\n",
    "originText.drop(['headlines'], axis = 1, inplace = True)\n",
    "originText"
   ]
  },
  {
   "cell_type": "code",
   "execution_count": 135,
   "id": "facial-aquarium",
   "metadata": {},
   "outputs": [
    {
     "data": {
      "text/html": [
       "<div>\n",
       "<style scoped>\n",
       "    .dataframe tbody tr th:only-of-type {\n",
       "        vertical-align: middle;\n",
       "    }\n",
       "\n",
       "    .dataframe tbody tr th {\n",
       "        vertical-align: top;\n",
       "    }\n",
       "\n",
       "    .dataframe thead th {\n",
       "        text-align: right;\n",
       "    }\n",
       "</style>\n",
       "<table border=\"1\" class=\"dataframe\">\n",
       "  <thead>\n",
       "    <tr style=\"text-align: right;\">\n",
       "      <th></th>\n",
       "      <th>headlines</th>\n",
       "    </tr>\n",
       "  </thead>\n",
       "  <tbody>\n",
       "    <tr>\n",
       "      <th>0</th>\n",
       "      <td>upGrad learner switches to career in ML &amp; Al w...</td>\n",
       "    </tr>\n",
       "    <tr>\n",
       "      <th>1</th>\n",
       "      <td>Delhi techie wins free food from Swiggy for on...</td>\n",
       "    </tr>\n",
       "    <tr>\n",
       "      <th>2</th>\n",
       "      <td>New Zealand end Rohit Sharma-led India's 12-ma...</td>\n",
       "    </tr>\n",
       "    <tr>\n",
       "      <th>3</th>\n",
       "      <td>Aegon life iTerm insurance plan helps customer...</td>\n",
       "    </tr>\n",
       "    <tr>\n",
       "      <th>4</th>\n",
       "      <td>Have known Hirani for yrs, what if MeToo claim...</td>\n",
       "    </tr>\n",
       "    <tr>\n",
       "      <th>...</th>\n",
       "      <td>...</td>\n",
       "    </tr>\n",
       "    <tr>\n",
       "      <th>98396</th>\n",
       "      <td>CRPF jawan axed to death by Maoists in Chhatti...</td>\n",
       "    </tr>\n",
       "    <tr>\n",
       "      <th>98397</th>\n",
       "      <td>First song from Sonakshi Sinha's 'Noor' titled...</td>\n",
       "    </tr>\n",
       "    <tr>\n",
       "      <th>98398</th>\n",
       "      <td>'The Matrix' film to get a reboot: Reports</td>\n",
       "    </tr>\n",
       "    <tr>\n",
       "      <th>98399</th>\n",
       "      <td>Snoop Dogg aims gun at clown dressed as Trump ...</td>\n",
       "    </tr>\n",
       "    <tr>\n",
       "      <th>98400</th>\n",
       "      <td>Madhesi Morcha withdraws support to Nepalese g...</td>\n",
       "    </tr>\n",
       "  </tbody>\n",
       "</table>\n",
       "<p>98401 rows × 1 columns</p>\n",
       "</div>"
      ],
      "text/plain": [
       "                                               headlines\n",
       "0      upGrad learner switches to career in ML & Al w...\n",
       "1      Delhi techie wins free food from Swiggy for on...\n",
       "2      New Zealand end Rohit Sharma-led India's 12-ma...\n",
       "3      Aegon life iTerm insurance plan helps customer...\n",
       "4      Have known Hirani for yrs, what if MeToo claim...\n",
       "...                                                  ...\n",
       "98396  CRPF jawan axed to death by Maoists in Chhatti...\n",
       "98397  First song from Sonakshi Sinha's 'Noor' titled...\n",
       "98398         'The Matrix' film to get a reboot: Reports\n",
       "98399  Snoop Dogg aims gun at clown dressed as Trump ...\n",
       "98400  Madhesi Morcha withdraws support to Nepalese g...\n",
       "\n",
       "[98401 rows x 1 columns]"
      ]
     },
     "execution_count": 135,
     "metadata": {},
     "output_type": "execute_result"
    }
   ],
   "source": [
    "urllib.request.urlretrieve(\"https://raw.githubusercontent.com/sunnysai12345/News_Summary/master/news_summary_more.csv\", filename=\"news_summary_more.csv\")\n",
    "originHeadline = pd.read_csv('news_summary_more.csv', encoding='iso-8859-1')\n",
    "\n",
    "originHeadline.drop(['text'], axis = 1, inplace = True)\n",
    "originHeadline"
   ]
  },
  {
   "cell_type": "code",
   "execution_count": 143,
   "id": "vocal-deficit",
   "metadata": {},
   "outputs": [
    {
     "name": "stdout",
     "output_type": "stream",
     "text": [
      "<class 'pandas.core.frame.DataFrame'>\n"
     ]
    }
   ],
   "source": [
    "print(type(originText))\n",
    "originText_list = originText.values.tolist()"
   ]
  },
  {
   "cell_type": "code",
   "execution_count": 144,
   "id": "black-instrumentation",
   "metadata": {},
   "outputs": [],
   "source": [
    "originHeadline_list = originHeadline.values.tolist()"
   ]
  },
  {
   "cell_type": "code",
   "execution_count": 130,
   "id": "prerequisite-kinase",
   "metadata": {},
   "outputs": [
    {
     "name": "stdout",
     "output_type": "stream",
     "text": [
      "원문: New Zealand defeated India by 8 wickets in the fourth ODI at Hamilton on Thursday to win their first match of the five-match ODI series. India lost an international match under Rohit Sharma's captaincy after 12 consecutive victories dating back to March 2018. The match witnessed India getting all out for 92, their seventh lowest total in ODI cricket history.\n",
      "예측 요약(추출) : The match witnessed India getting all out for 92, their seventh lowest total in ODI cricket history.\n"
     ]
    }
   ],
   "source": [
    "print(\"원문:\", originText_list[2][0])\n",
    "print(\"예측 요약(추출) :\", summarize(originText_list[2][0], words=15))"
   ]
  },
  {
   "cell_type": "code",
   "execution_count": 140,
   "id": "polyphonic-kazakhstan",
   "metadata": {},
   "outputs": [
    {
     "name": "stdout",
     "output_type": "stream",
     "text": [
      "원문 : Former Finance Minister Yashwant Sinha on Tuesday demanded a probe into the alleged diversion of loans worth Ã¢ÂÂ¹31,000 crore by Dewan Housing Finance (DHFL). All agencies including regulators of the government have failed to track nefarious deals, he said. This comes after a media report on Tuesday accused DHFL's controlling shareholders of diverting funds to shell companies to buy assets.\n",
      "실제 헤드라인 : Yashwant Sinha demands probe into alleged fund diversion by DHFL\n",
      "예측 요약(추출) : Former Finance Minister Yashwant Sinha on Tuesday demanded a probe into the alleged diversion of loans worth Ã¢ÂÂ¹31,000 crore by Dewan Housing Finance (DHFL).\n",
      "\n",
      "\n",
      "원문 : US-based Boeing on Wednesday reported annual sales worth $101.12 billion in 2018, the first time the planemaker's sales crossed the $100-billion mark in its 102-year history. The company said it expects to deliver between 895 and 905 commercial aircraft in 2019. Boeing retained its position as the world's largest planemaker for the seventh straight year, delivering 806 aircraft in 2018. \n",
      "실제 헤드라인 : Boeing sales cross $100bn for 1st time in its 102-yr history\n",
      "예측 요약(추출) : Boeing retained its position as the world's largest planemaker for the seventh straight year, delivering 806 aircraft in 2018.\n",
      "\n",
      "\n",
      "원문 : text\n",
      "실제 헤드라인 : headlines\n",
      "예측 요약(추출) : \n",
      "\n",
      "\n",
      "원문 : OnePlus has emerged as India's best-selling premium smartphone brand of 2018, as per a report by Counterpoint. It captured 36% of the market share in the premium segment, in Q4 2018. Further, its OnePlus 6 emerged as the highest selling premium smartphone of 2018 followed by OnePlus 6T.\n",
      "실제 헤드라인 : OnePlus named bestselling premium smartphone brand of 2018: Report\n",
      "예측 요약(추출) : Further, its OnePlus 6 emerged as the highest selling premium smartphone of 2018 followed by OnePlus 6T.\n",
      "\n",
      "\n",
      "원문 : Filmmaker Pooja Bhatt, while talking about the presentation of women in her films, said, \"I can never look at a female body, even if it's naked, in a vulgar manner.\" \"Our audience can say...the women in my films are bold or sensual, but never ever vulgar,\" she added. Pooja further said her censor board is her \"own heart and mind\".\n",
      "실제 헤드라인 : Can never look at female body, even if naked, in vulgar way: Pooja\n",
      "예측 요약(추출) : \n",
      "\n",
      "\n",
      "원문 : Actress Mishti, who has featured in 'Manikarnika: The Queen of Jhansi', has said the film's co-director Kangana Ranaut made false promises to the cast. \"Kangana had said, 'I want dates because all characters look jumbled up...I'm trying my best to give everybody a prominent space on screen.' After watching the movie, there is no scope for other characters,\" Mishti added. \n",
      "실제 헤드라인 : Kangana made fake promises to cast: 'Manikarnika' actress Mishti\n",
      "예측 요약(추출) : Actress Mishti, who has featured in 'Manikarnika: The Queen of Jhansi', has said the film's co-director Kangana Ranaut made false promises to the cast.\n",
      "\n",
      "\n",
      "원문 : The high-powered committee led by PM Narendra Modi to select the next CBI Director will meet again on February 1, Congress leader Mallikarjun Kharge has said. The panel consisting of Kharge and Chief Justice of India Ranjan Gogoi met on January 24, but the meeting ended \"inconclusively\" after Kharge cited lack of details in the list of 80 IPS officers. \n",
      "실제 헤드라인 : PM-led panel to meet on Friday to pick new CBI chief: Kharge\n",
      "예측 요약(추출) : The high-powered committee led by PM Narendra Modi to select the next CBI Director will meet again on February 1, Congress leader Mallikarjun Kharge has said.\n",
      "\n",
      "\n",
      "원문 : Nevada State Athletic Commission has banned MMA fighters Conor McGregor and Khabib Nurmagomedov for six months and nine months respectively over their roles in the mass brawl that occurred after their fight at UFC 229 last October. McGregor and Khabib have been fined $50,000 (Ã¢ÂÂ¹35 lakh) and $500,000 (Ã¢ÂÂ¹3.5 crore) respectively. The brawl occurred after Nurmagomedov confronted McGregor's teammate.\n",
      "실제 헤드라인 : McGregor fined Ã¢ÂÂ¹35 lakh, Khabib Ã¢ÂÂ¹3.5 crore for brawl; both banned\n",
      "예측 요약(추출) : \n",
      "\n",
      "\n",
      "원문 : Pakistan captain Sarfaraz Ahmed, who has been banned for four matches over racist remarks, took an apparent dig at his critics by sharing a video of a child reciting 'log hai na' poem on Twitter. \"Pyaar karna hai to khud se kar...dushmani karne ke liye log hai na,\" the poem read. \"This is how the world is,\" Sarfaraz wrote.\n",
      "실제 헤드라인 : Banned for 4 matches, Sarfaraz shares 'log hai na' poem for critics\n",
      "예측 요약(추출) : \n",
      "\n",
      "\n",
      "원문 : Banned cricketer Sreesanth has told Supreme Court he initially confessed to Delhi Police about his alleged involvement in 2013 IPL spot-fixing scandal to escape continuous police torture. Sreesanth further said the bookie tried dragging him into spot-fixing but he didn't fall for it. Citing Sreesanth not informing BCCI about fixing approach, the apex court said Sreesanth's conduct \"wasn't good\".\n",
      "실제 헤드라인 : Confessed to spot-fixing to escape police torture: Sreesanth to SC\n",
      "예측 요약(추출) : Sreesanth further said the bookie tried dragging him into spot-fixing but he didn't fall for it.\n",
      "\n",
      "\n",
      "원문 : The Finance Ministry on Wednesday said the government will present an Interim Budget on February 1. The clarification came amid speculations that a full Budget may be presented during the session. The government recently assigned Piyush Goyal temporary additional charge of the Finance and Corporate Affairs ministries in the absence of Arun Jaitley, who is in the US for treatment.\n",
      "실제 헤드라인 : Govt to present Interim Budget, not full Budget on February 1\n",
      "예측 요약(추출) : The Finance Ministry on Wednesday said the government will present an Interim Budget on February 1.\n",
      "\n",
      "\n",
      "원문 : US President Donald Trump on Wednesday called his country's top intelligence chiefs \"naive\" and \"wrong\" on Iran and added that they should perhaps \"go back to school\". Trump claimed Iran is testing rockets, calling the country \"a source of potential danger and conflict\". Top US intelligence officials on Tuesday said that Iran isn't currently taking steps towards building nuclear weapons.\n",
      "실제 헤드라인 : US intelligence naive and wrong, should go back to school: Trump\n",
      "예측 요약(추출) : \n",
      "\n",
      "\n",
      "원문 : A senior priest at the Vatican who handled cases of sexual abuse has quit after being accused of sexual abuse by a former nun. The accused priest claimed he is innocent and said he would consider taking legal action. The Vatican said in a statement that a Church investigation of the case was underway.\n",
      "실제 헤드라인 : Vatican priest handling sex abuse cases quits over alleged sex abuse\n",
      "예측 요약(추출) : A senior priest at the Vatican who handled cases of sexual abuse has quit after being accused of sexual abuse by a former nun.\n",
      "\n",
      "\n",
      "원문 : A 22-year-old writer turned down a job offer, claiming she was bullied to the point of tears during her two-hour interview by a UK company's CEO. Olivia Bland added the \"brutal\" interview brought back painful memories of her abusive relationship. \"I am so sorry that anyone has been hurt, it is never my intent,\" Web Applications CEO Craig Dean replied. \n",
      "실제 헤드라인 : Woman rejects job after CEO bullies her in interview; he apologises\n",
      "예측 요약(추출) : A 22-year-old writer turned down a job offer, claiming she was bullied to the point of tears during her two-hour interview by a UK company's CEO.\n",
      "\n",
      "\n",
      "원문 : Noida Police has arrested Sector 20 station in-charge Manoj Pant and three journalists for allegedly extorting money from a call centre owner for removing his name from an FIR. The four were caught while taking bribe money of Ã¢ÂÂ¹8 lakh, police said. Pant was the lead investigator in the Paytm extortion case involving Founder Vijay Shekhar Sharma's secretary Sonia Dhawan.\n",
      "실제 헤드라인 : Police officer probing Paytm extortion case arrested for extortion\n",
      "예측 요약(추출) : \n",
      "\n",
      "\n",
      "원문 : Airtel on Wednesday said that Qatar's sovereign wealth fund Qatar Investment Authority will invest $200 million through a primary equity issuance in Airtel Africa. India's second-largest telecom operator's Africa unit recently raised $1.25 billion from six investors. Airtel Africa, the holding company for Airtel's operations in 14 African countries, is preparing for an initial public offering.\n",
      "실제 헤드라인 : Qatar to invest $200 million in Airtel Africa\n",
      "예측 요약(추출) : Airtel Africa, the holding company for Airtel's operations in 14 African countries, is preparing for an initial public offering.\n",
      "\n",
      "\n",
      "원문 : Actor Shreyas Talpade said that 'Golmaal' filmmaker Rohit Shetty is still working on the script for the fifth instalment of the 'Golmaal' film franchise. \"He was telling us the other day that he...cracked some story. Once he's done with the...scripting, he'll take a call,Ã¢ÂÂ the actor added. The series features Shreyas along with Ajay Devgn, Arshad Warsi and Tusshar Kapoor.\n",
      "실제 헤드라인 : Rohit Shetty still working on script for Golmaal 5: Shreyas\n",
      "예측 요약(추출) : Actor Shreyas Talpade said that 'Golmaal' filmmaker Rohit Shetty is still working on the script for the fifth instalment of the 'Golmaal' film franchise.\n",
      "\n",
      "\n",
      "원문 : A 72-year-old man named Terry Sanderson has sued 'Avengers' actress Gwyneth Paltrow for allegedly crashing into him while skiing, and is seeking $3.1 million (over Ã¢ÂÂ¹22 crore) in damages. The lawsuit states the actress got up and skied away after knocking the man down, leaving him with broken ribs. The incident reportedly took place in 2016 in Utah, US. \n",
      "실제 헤드라인 : Man sues Avengers actress Gwyneth for Ã¢ÂÂ¹22 crore over ski crash\n",
      "예측 요약(추출) : \n",
      "\n",
      "\n",
      "원문 : Yami Gautam was felicitated by Border Security Force (BSF) in Amritsar for her performance in 'Uri: The Surgical Strike'. \"BSF is the first line of defence of our country and it gives me...pride to have met them,\" Yami said. The film, which also stars Vicky Kaushal, is based on the Indian Army's surgical strike operation which took place in 2016.\n",
      "실제 헤드라인 : Yami Gautam felicitated by BSF for performance in 'Uri...'\n",
      "예측 요약(추출) : Yami Gautam was felicitated by Border Security Force (BSF) in Amritsar for her performance in 'Uri: The Surgical Strike'.\n",
      "\n",
      "\n",
      "원문 : Social media giant Facebook has hired privacy critic Nate Cardozo, formerly the top legal counsel for US privacy watchdog EFF, as a privacy policy manager for WhatsApp. Cardozo had called Facebook a \"faceless corporation\" whose business model depends on user's confusion and indifference about privacy, in October 2015. Facebook has also hired attorney Robyn Greene as its privacy policy manager.\n",
      "실제 헤드라인 : Facebook hires its privacy critic as privacy policy manager\n",
      "예측 요약(추출) : \n",
      "\n",
      "\n",
      "원문 : Apple CEO Tim Cook said the company plans to lower some iPhones' prices in markets with currencies that weakened against the US dollar in the past year. \"WeÃ¢ÂÂve decided to go back to (iPhone prices) more commensurate with...local prices...a year ago,\" Cook added. The price cuts, in hopes of increasing sales, are reportedly occurring for second time in 12 years.\n",
      "실제 헤드라인 : Apple to cut some iPhones' prices outside US over strong dollar\n",
      "예측 요약(추출) : \"WeÃ¢ÂÂve decided to go back to (iPhone prices) more commensurate with...local prices...a year ago,\" Cook added.\n",
      "\n",
      "\n",
      "원문 : Scientists in Australia's Flinders University are testing a wetsuit prototype that could protect its wearer after a shark attack. The suit, made of synthetic material similar to the material used in bulletproof vests, could help reduce blood loss after a shark attack. \"The majority of fatalities from shark bites is due to blood loss...shock from blood loss,\" a scientist said.\n",
      "실제 헤드라인 : Scientists test wetsuit to protect wearer after shark attack\n",
      "예측 요약(추출) : \"The majority of fatalities from shark bites is due to blood loss...shock from blood loss,\" a scientist said.\n",
      "\n",
      "\n",
      "원문 : BJP National Secretary Rahul Sinha on Wednesday asked the party workers in West Bengal to come armed with sticks to PM Narendra Modi's rally in the state on February 2. His statement came a day after clashes broke out following BJP chief Amit Shah's WB rally. Sinha added the TMC is indulged in violence as they're afraid of BJP's strength.\n",
      "실제 헤드라인 : Come armed with sticks for PM Modi's rally in WB: BJP leader\n",
      "예측 요약(추출) : \n",
      "\n",
      "\n",
      "원문 : BJP President Amit Shah on Wednesday took a dig at the Opposition parties saying that the 'mahagathbandhan' for the Opposition is 4B - \"Bua-Bhatija-Bhai-Behen\". He added that 4B for the BJP meant \"Badhta Bharat, Banta Bharat\". He said Opposition's government cannot take the country ahead and \"only Modiji can provide a 'mazboot' (strong) government\".\n",
      "실제 헤드라인 : '4B' for Opposition is 'Bua-Bhatija-Bhai-Behen': Amit Shah\n",
      "예측 요약(추출) : BJP President Amit Shah on Wednesday took a dig at the Opposition parties saying that the 'mahagathbandhan' for the Opposition is 4B - \"Bua-Bhatija-Bhai-Behen\".\n",
      "\n",
      "\n",
      "원문 : German automaker Volkswagen Group has retained the car industry's top spot in global sales, beating its Japanese rival Toyota. Volkswagen's sales, including its MAN and Scania heavy trucks and buses, rose 0.9% to 10.83 million in 2018, the company had said. Toyota came second with around 10.6 million deliveries, including its affiliated brands Daihatsu and Hino, in 2018.\n",
      "실제 헤드라인 : Volkswagen retains top spot in global sales, beats Toyota\n",
      "예측 요약(추출) : Volkswagen's sales, including its MAN and Scania heavy trucks and buses, rose 0.9% to 10.83 million in 2018, the company had said.\n",
      "\n",
      "\n",
      "원문 : Ousted Nissan Chairman Carlos Ghosn has said his arrest over alleged financial misconduct was led by \"plot and treason\" by the Japanese carmaker's executives who opposed its deeper integration with Renault and Mitsubishi. Ghosn added he had discussed the integration plans with Nissan's CEO in September, a month before his arrest. He further said he wouldn't flee if granted bail.\n",
      "실제 헤드라인 : Plot, treason by Nissan executives led to my arrest: Ghosn\n",
      "예측 요약(추출) : \n",
      "\n",
      "\n",
      "원문 : The government has cut down customs duty on import of parts and components for electric vehicles to 10-15%, down from the previous 15-30%. The Central Board of Indirect Taxes and Customs said disassembled parts will attract 10% duty, whereas 15% will be levied on pre-assembled packs. However, fully built electric vehicles will continue to attract 25% import duty.\n",
      "실제 헤드라인 : Govt cuts customs duty on electric vehicle parts to 10-15%\n",
      "예측 요약(추출) : The government has cut down customs duty on import of parts and components for electric vehicles to 10-15%, down from the previous 15-30%.\n",
      "\n",
      "\n",
      "원문 : Government officials on Wednesday said that a swine flu outbreak has killed 76 people this year in Rajasthan. Colder weather has worsened the seasonal outbreak of the H1N1 virus in the country, officials added. Rajasthan recorded more than a third of all swine flu deaths in India with Jodhpur being the worst affected area in the state, officials said.\n",
      "실제 헤드라인 : Swine flu outbreak kills 76 in Rajasthan\n",
      "예측 요약(추출) : Government officials on Wednesday said that a swine flu outbreak has killed 76 people this year in Rajasthan.\n",
      "\n",
      "\n",
      "원문 : North Korea is \"unlikely to completely give up its nuclear weapons and production capabilities\", Director of US' National Intelligence, Daniel Coats, said. \"North Korean leaders view nuclear arms as critical to regime survival,\" he added. His statements come despite North Korea's agreement with the US at the Singapore summit last year to denuclearise the Korean Peninsula. \n",
      "실제 헤드라인 : N Korea unlikely to give up nuclear weapons: US intelligence chief\n",
      "예측 요약(추출) : \"North Korean leaders view nuclear arms as critical to regime survival,\" he added.\n",
      "\n",
      "\n",
      "원문 : Jet Airways on Wednesday denied it was directed by GE Capital Aviation Services to ground its aircraft due to non-payment of dues. The airline said it's in the process of delivering three aircraft to lessors due to the expiry of lease terms. Further, three aircraft have been temporarily grounded to carry out an engine normalisation exercise, it added.\n",
      "실제 헤드라인 : Jet Airways denies being told to ground aircraft\n",
      "예측 요약(추출) : Further, three aircraft have been temporarily grounded to carry out an engine normalisation exercise, it added.\n",
      "\n",
      "\n",
      "원문 : Retired Justice Srikrishna's enquiry panel has found that ex-CEO Chanda Kochhar violated ICICI Bank's code of conduct. The bank said it'll treat Kochhar's exit as termination and will take back all bonuses paid to her from April 2009 until March 2018. The CBI recently filed a case against Kochhar, her husband, and Videocon MD in the ICICI-Videocon loan case.\n",
      "실제 헤드라인 : ICICI fires Chanda Kochhar, to take back bonuses paid in last 9 yrs\n",
      "예측 요약(추출) : Retired Justice Srikrishna's enquiry panel has found that ex-CEO Chanda Kochhar violated ICICI Bank's code of conduct.\n",
      "\n",
      "\n",
      "원문 : Ex-India cricketer Jacob Martin has been shifted to general ward from the ICU after being on a ventilator for nearly a month following a road accident, wherein he severely injured his lungs. Martin's wife Khyati mentioned there are chances that Jacob will be in hospital for two more months. BCCI, CSK and various cricketers provided financial assistance for Martin's treatment.\n",
      "실제 헤드라인 : Ex-cricketer Martin out of ICU after being on ventilator for a month\n",
      "예측 요약(추출) : \n",
      "\n",
      "\n",
      "원문 : Sri Lanka all-rounder Thisara Perera has written to Sri Lanka Cricket CEO Ashley de Silva, asking the board to intervene after ODI captain Lasith Malinga's wife Tanya targeted him on Facebook. Tanya accused Perera of meeting country's Sports Minister to secure his place in the team. \"We've become laughing stock of whole country...because of one person's personal vendetta,\" Perera wrote.\n",
      "실제 헤드라인 : Malinga's wife targets Perera on Facebook, he seeks board's help\n",
      "예측 요약(추출) : Tanya accused Perera of meeting country's Sports Minister to secure his place in the team.\n",
      "\n",
      "\n",
      "원문 : Goa CM and ex-Defence Minister Manohar Parrikar has written a letter to Congress President Rahul Gandhi over his claim that Parrikar told him he has nothing to do with new Rafale deal. Parrikar wrote, \"Kindly do not use your visit to an ailing person to feed political opportunism.\" In their five-minute meeting, they didn't discuss anything about Rafale, he added.\n",
      "실제 헤드라인 : Don't use visit to ailing man for political gains: Goa CM to Rahul\n",
      "예측 요약(추출) : \n",
      "\n",
      "\n",
      "원문 : Prime Minister Narendra Modi stopped his speech at the inauguration of the new terminal building at Surat airport after observing that a cameraman had fainted. PM Modi then asked his officers to urgently arrange for an ambulance for the cameraman. \"It's good that PM was paying attention to his surroundings during his speech,\" the cameraman later said from a hospital. \n",
      "실제 헤드라인 : PM Modi stops speech after cameraman faints, asks officers to help\n",
      "예측 요약(추출) : PM Modi then asked his officers to urgently arrange for an ambulance for the cameraman.\n",
      "\n",
      "\n",
      "원문 : A couple got divorced minutes after their wedding ceremony got over in Gujarat's Gondal as a disagreement broke out and relatives from both sides started throwing dishes at each other during lunch. The advocates representing both sides arrived at the marriage hall and got the couple divorced within minutes. The couple even reportedly returned the gifts exchanged during the ceremony.\n",
      "실제 헤드라인 : Couple divorces minutes after marriage as families fight over lunch\n",
      "예측 요약(추출) : \n",
      "\n",
      "\n",
      "원문 : Gujarat Education Minister Bhupendrasinh Chudasma has written a congratulatory message to a yoga ashram run by rape-convict Asaram's organisation for observing February 14 as \"Matru-Pitru Pujan Divas\" (Mother-Father worship day). After the Congress termed the letter as \"unfortunate\", saying it \"shows the nexus between BJP and godman\", Chudasma clarified, \"All I have done is sent best wishes.\" \n",
      "실제 헤드라인 : Minister praises rape-convict Asaram over Matru-Pitru Divas\n",
      "예측 요약(추출) : \n",
      "\n",
      "\n",
      "원문 : Venezuelan President NicolÃÂ¡s Maduro has claimed that his American counterpart Donald Trump ordered the Colombian government and the Colombian mafia to kill him. \"If something happens to me, Trump and Colombian President IvÃÂ¡n MÃÂ¡rquez will bear responsibility,\" he added. The US has blamed Maduro for the economic crisis in Venezuela and recognised opposition leader Juan GuaidÃÂ³ as interim President.\n",
      "실제 헤드라인 : Trump ordered to kill me: Venezuela President Maduro\n",
      "예측 요약(추출) : Venezuelan President NicolÃÂ¡s Maduro has claimed that his American counterpart Donald Trump ordered the Colombian government and the Colombian mafia to kill him.\n",
      "\n",
      "\n",
      "원문 : Eight Asian billionaires aged 90 or above on the Bloomberg Billionaires Index of world's 500 richest people have a combined net worth of $125 billion. The richest among them is Hong Kong's Li Ka Shing with a net worth of $30.5 billion. India's 90-year-old Pallonji Mistry, who controls 18.3% of Tata Sons through Shapoorji Pallonji Group, is worth $20.1 billion.\n",
      "실제 헤드라인 : 8 Asian billionaires aged over 90, including Mistry, control $125bn\n",
      "예측 요약(추출) : The richest among them is Hong Kong's Li Ka Shing with a net worth of $30.5 billion.\n",
      "\n",
      "\n",
      "원문 : Tamil Nadu food safety officials on Wednesday raided and seized 1,000 kgs of banned plastic items from Hotel Saravana Bhavan in Chennai's Vadapalani. Officials began a surprise check in the branch at 8 am. The state government had banned single-use plastics from January 1 and said the banned items should be handed over at the offices of the city corporation.\n",
      "실제 헤드라인 : 1,000 kg banned plastic seized from Saravana Bhavan in Chennai\n",
      "예측 요약(추출) : Tamil Nadu food safety officials on Wednesday raided and seized 1,000 kgs of banned plastic items from Hotel Saravana Bhavan in Chennai's Vadapalani.\n",
      "\n",
      "\n",
      "원문 : Actress Shamita Shetty was verbally abused and her driver was slapped in an incident of road rage in Mumbai on Tuesday, as per reports. The incident reportedly took place after a motorist who was accompanied by two friends, rammed his vehicle into Shamita's car. The men allegedly manhandled and threatened Shamita's driver when he stepped out to inspect the damage. \n",
      "실제 헤드라인 : Shamita Shetty abused, driver slapped after accident: Report\n",
      "예측 요약(추출) : Actress Shamita Shetty was verbally abused and her driver was slapped in an incident of road rage in Mumbai on Tuesday, as per reports.\n",
      "\n",
      "\n",
      "원문 : Actress Vaani Kapoor said that trolling has become a norm on social media, adding, \"There's no one who hasn't got trolled on social media.\" \"Everybody is out there to pull the other person down but it'll only bother [you] if you let it bother you,\" Vaani added. She further said, social media offers a platform \"where people enjoy belittling everybody\". \n",
      "실제 헤드라인 : Trolling has become the norm on social media: Vaani\n",
      "예측 요약(추출) : \n",
      "\n",
      "\n",
      "원문 : Actress Sushmita Sen took to Instagram to share a joke on the subject of marriage. \"Whoever invented marriage was creepy as hell. Like I love you so much IÃ¢ÂÂm gonna get the government involved so you canÃ¢ÂÂt leave,\" Sushmita's post read. \"This is an insult to [the] beauty of marriage,\" an Instagram user commented on her post.\n",
      "실제 헤드라인 : Whoever invented marriage was creepy as hell: Sushmita posts joke\n",
      "예측 요약(추출) : \"This is an insult to [the] beauty of marriage,\" an Instagram user commented on her post.\n",
      "\n",
      "\n",
      "원문 : Television actor Karanvir Bohra, who flew to Russia on Tuesday to attend a film festival, has been detained in Moscow due to passport damage. \"They [are] contemplating to deport me back to India,\" the actor wrote on Twitter. The Indian embassy in Russia's capital responded to his tweet and said that they were looking into the issue. \n",
      "실제 헤드라인 : Actor Karanvir Bohra detained in Russia over passport damage\n",
      "예측 요약(추출) : Television actor Karanvir Bohra, who flew to Russia on Tuesday to attend a film festival, has been detained in Moscow due to passport damage.\n",
      "\n",
      "\n",
      "원문 : While speaking about winning awards for his films, Shah Rukh Khan said, \"If I don't get an award, that award is at a loss.\" \"Sometimes, the prestige of an award increases when I receive it,\" the actor jokingly added. Shah Rukh further said that he was \"extremely ambitious\" but in a \"fair manner\". \n",
      "실제 헤드라인 : If I don't get an award, that award is at loss: SRK\n",
      "예측 요약(추출) : \n",
      "\n",
      "\n",
      "원문 : Actress Patralekhaa will make her debut in the Kannada film industry with the action-comedy film 'Where is my Kannadaka?' \"I can definitely say that itÃ¢ÂÂs a kind of role that I havenÃ¢ÂÂt portrayed on screen so far and that makes it special for me,\" the actress said in a statement. Shooting for the film will reportedly begin in April.\n",
      "실제 헤드라인 : Actress Patralekhaa to make her Kannada film debut \n",
      "예측 요약(추출) : \n",
      "\n",
      "\n",
      "원문 : Gmail on Tuesday faced a global outage, which also affected India, wherein certain users complained they faced a '404 error' message while trying to sign-in to their accounts. The error message read: \"The requested URL was not found on this server. That's all we know.\" Google responded saying \"problem with Gmail should be resolved (now). We apologise for the inconvenience\".\n",
      "실제 헤드라인 : Gmail faces temporary global outage, users face '404 error'\n",
      "예측 요약(추출) : \n",
      "\n",
      "\n",
      "원문 : Shiv Sena chief Uddhav Thackeray has asked the BJP to decide about the alliance with the Sena within 15 days and said the BJP should make a concrete proposal on the alliance. Thackeray added that only if the BJP agrees to Sena's terms and conditions, the party will agree for an alliance. Sena is free to fight independently, he said. \n",
      "실제 헤드라인 : Decide about an alliance within 15 days: Uddhav to BJP\n",
      "예측 요약(추출) : \n",
      "\n",
      "\n",
      "원문 : BJP President Amit Shah on Wednesday took a dig at the Opposition's proposed grand alliance saying if the \"mahagathbandhan comes to power, each opposition leader will be a Prime Minister every day of the week\". He added, \"[The] country will go on...holiday on Sunday\". He said the Opposition is thinking about leading the country but does not have a leader.\n",
      "실제 헤드라인 : Grand alliance, if wins, will see a new PM every day: Shah\n",
      "예측 요약(추출) : He said the Opposition is thinking about leading the country but does not have a leader.\n",
      "\n",
      "\n",
      "원문 : Prime Minister Narendra Modi on Wednesday said his government's demonetisation decision made houses affordable for the aspiring youth. He added decisions like demonetisation and RERA have put a check on black money that used to be \"parked in the real estate sector\". He said 'UDAN' (Ude Desh ka Aam Nagrik) scheme has boosted the development of the country's aviation sector.\n",
      "실제 헤드라인 : Demonetisation made homes affordable for youth: PM Modi\n",
      "예측 요약(추출) : He added decisions like demonetisation and RERA have put a check on black money that used to be \"parked in the real estate sector\".\n",
      "\n",
      "\n"
     ]
    }
   ],
   "source": [
    "for i in range(50, 100):\n",
    "    print(\"원문 :\", originText_list[i][0])\n",
    "    print(\"실제 헤드라인 :\", originHeadline_list[i][0])\n",
    "    print(\"예측 요약(추출) :\", summarize(originText_list[i][0], words=13))\n",
    "    print(\"\\n\")"
   ]
  },
  {
   "cell_type": "markdown",
   "id": "suitable-nurse",
   "metadata": {},
   "source": [
    "단어길이를 설정하는거에 따라서 몆몆개는 요약이 안된 문장도 있지만  \n",
    "대체로 잘 요약이 된 모습입니다."
   ]
  },
  {
   "cell_type": "markdown",
   "id": "spatial-walker",
   "metadata": {},
   "source": [
    "원문 : india bowled south africa lowest ever odi total home dismissing runs overs second odi centurion sunday spinners kuldeep yadav yuzvendra chahal shared eight wickets six south african batsmen failed cross double digits south africa previous lowest odi total home \n",
    "실제 요약 : india dismiss sa for their lowest odi total at home \n",
    "예측 요약 :  india end their th odi odi total in years  \n",
    "\n",
    "원문 : US-based Boeing on Wednesday reported annual sales worth $101.12 billion in 2018, the first time the planemaker's sales crossed the $100-billion mark in its 102-year history. The company said it expects to deliver between 895 and 905 commercial aircraft in 2019. Boeing retained its position as the world's largest planemaker for the seventh straight year, delivering 806 aircraft in 2018. \n",
    "실제 헤드라인 : Boeing sales cross $100bn for 1st time in its 102-yr history\n",
    "예측 요약(추출) : Boeing retained its position as the world's largest planemaker for the seventh straight year, delivering 806 aircraft in 2018.  \n",
    "  \n",
    "추상형 요약과 추출형 요햑 비교입니다.  \n",
    "일단 추상형 요약은 본문에 없는단어를 만들어서 쓴다는점이 신기하네요, 길이도 추출형보다 훨씬 짧고 간결합니다  \n",
    "하지만 전처리된 문장을 쓰다보니 문장이 사람이 쓰는 문장과는 동떨어져 있는것이 보이네요  \n",
    "엉뚱한 요약도 더 많은것 같습니다.\n",
    "반면에 추출형 요약은 본문에 있는 단어만 사용해서 문장을 만들고 있습니다.  \n",
    "words의 길이를 너무 짧게 하거나 너무 길게 하면 아예 결과가 출력이 안되다보니 13 정도로 맞춰주었는데  \n",
    "요약치고 길이가 살짝 길어져버린 감이 있지만 문장이 꽤 자연스럽고 요약도 잘 되어 있는 모습입니다.  \n",
    "지금 테스트결과에서는 추출형 요약이 더 괜찮은 결과를 보여주는 것 같지만  \n",
    "그래도 문장을 아예 새로 만들어내는 추상형 요약이 저는 좀더 흥미롭네요!  \n",
    "모델을 더 향상시키고 문장을 자연스럽게 다듬어주는 딥러닝을 한번 더 거친다면 정말 사람이 쓴거같은 요약문을 만들 수 있을것 같습니다."
   ]
  },
  {
   "cell_type": "code",
   "execution_count": null,
   "id": "dress-evidence",
   "metadata": {},
   "outputs": [],
   "source": []
  }
 ],
 "metadata": {
  "kernelspec": {
   "display_name": "Python 3",
   "language": "python",
   "name": "python3"
  },
  "language_info": {
   "codemirror_mode": {
    "name": "ipython",
    "version": 3
   },
   "file_extension": ".py",
   "mimetype": "text/x-python",
   "name": "python",
   "nbconvert_exporter": "python",
   "pygments_lexer": "ipython3",
   "version": "3.7.9"
  }
 },
 "nbformat": 4,
 "nbformat_minor": 5
}
